{
 "cells": [
  {
   "cell_type": "markdown",
   "metadata": {},
   "source": [
    "# digits"
   ]
  },
  {
   "cell_type": "markdown",
   "metadata": {},
   "source": [
    "## 1) 필요한 모듈 import 하기"
   ]
  },
  {
   "cell_type": "code",
   "execution_count": 1,
   "metadata": {},
   "outputs": [],
   "source": [
    "# 데이터 불러오는 모듈\n",
    "from sklearn.datasets import load_digits\n",
    "from sklearn.model_selection import train_test_split\n",
    "from sklearn.metrics import classification_report\n",
    "\n",
    "# 모델\n",
    "from sklearn.tree import DecisionTreeClassifier\n",
    "from sklearn.ensemble import RandomForestClassifier\n",
    "from sklearn.svm import SVC\n",
    "from sklearn.linear_model import SGDClassifier\n",
    "from sklearn.linear_model import LogisticRegression\n",
    "\n",
    "# 결과 출력할 때 사용할 라이브러리 import\n",
    "import numpy as np\n",
    "import matplotlib.pyplot as plt\n",
    "\n",
    "# 평가지표\n",
    "from sklearn.metrics import accuracy_score\n",
    "from sklearn.metrics import recall_score\n",
    "from sklearn.metrics import f1_score\n",
    "\n",
    "from sklearn.metrics import confusion_matrix\n",
    "from sklearn.metrics import classification_report\n",
    "\n",
    "# 기타\n",
    "from collections import Counter"
   ]
  },
  {
   "cell_type": "markdown",
   "metadata": {},
   "source": [
    "## 2) 데이터준비digits"
   ]
  },
  {
   "cell_type": "code",
   "execution_count": 2,
   "metadata": {},
   "outputs": [],
   "source": [
    "digits = load_digits()"
   ]
  },
  {
   "cell_type": "markdown",
   "metadata": {},
   "source": [
    "## 3) 데이터 이해하기\n",
    "- Feature Data 지정하기\n",
    "- Label Data 지정하기\n",
    "- Target Names 출력해 보기\n",
    "- 데이터 Describe 해 보기"
   ]
  },
  {
   "cell_type": "code",
   "execution_count": 3,
   "metadata": {},
   "outputs": [
    {
     "name": "stdout",
     "output_type": "stream",
     "text": [
      "(64,)\n",
      "(8, 8)\n"
     ]
    },
    {
     "data": {
      "image/png": "[encoded data removed]",
      "text/plain": [
       "<Figure size 432x288 with 1 Axes>"
      ]
     },
     "metadata": {
      "needs_background": "light"
     },
     "output_type": "display_data"
    }
   ],
   "source": [
    "# 이전에 학습을 할때는 digits의 data를 사용했지만 \n",
    "# images에 대한 정보도 있어서 확인해보았다.\n",
    "# data -> 64 / images -> 8x8\n",
    "print(digits.data[0].shape)\n",
    "print(digits.images[0].shape)\n",
    "plt.imshow(digits.images[0], cmap='gray')\n",
    "plt.show()"
   ]
  },
  {
   "cell_type": "code",
   "execution_count": 4,
   "metadata": {},
   "outputs": [
    {
     "name": "stdout",
     "output_type": "stream",
     "text": [
      "[0 1 2 3 4 5 6 7 8 9 0 1 2 3 4 5 6 7 8 9]\n"
     ]
    }
   ],
   "source": [
    "# Feature, Label Data 지정\n",
    "digits_data = digits.data\n",
    "digits_label = digits.target\n",
    "\n",
    "# 이후에 split을 사용할 때 random하게 바뀌는지 확인하기 위해 확인\n",
    "# 0~9까지 10개를 기준으로 반복되고 있는 것을 볼 수 있다.\n",
    "print(digits_label[:20])"
   ]
  },
  {
   "cell_type": "code",
   "execution_count": 5,
   "metadata": {},
   "outputs": [
    {
     "data": {
      "text/plain": [
       "array([0, 1, 2, 3, 4, 5, 6, 7, 8, 9])"
      ]
     },
     "execution_count": 5,
     "metadata": {},
     "output_type": "execute_result"
    }
   ],
   "source": [
    "# target names 출력해보기\n",
    "digits.target_names"
   ]
  },
  {
   "cell_type": "markdown",
   "metadata": {},
   "source": [
    "- label의 데이터는 0 ~ 9까지 10개를 기준으로 반복되고 있다.\n",
    " - 이후에 ```train_test_split```을 사용할 때 반드시 random하게 바꿔주도록 한다.  \n",
    "- target_names, 즉 분류해야할 10개의 클래스의 이름은 0 ~ 9까지의 숫자를 나타내고 있다는 것을 알 수 있다."
   ]
  },
  {
   "cell_type": "code",
   "execution_count": 6,
   "metadata": {
    "scrolled": true
   },
   "outputs": [
    {
     "name": "stdout",
     "output_type": "stream",
     "text": [
      ".. _digits_dataset:\n",
      "\n",
      "Optical recognition of handwritten digits dataset\n",
      "--------------------------------------------------\n",
      "\n",
      "**Data Set Characteristics:**\n",
      "\n",
      "    :Number of Instances: 5620\n",
      "    :Number of Attributes: 64\n",
      "    :Attribute Information: 8x8 image of integer pixels in the range 0..16.\n",
      "    :Missing Attribute Values: None\n",
      "    :Creator: E. Alpaydin (alpaydin '@' boun.edu.tr)\n",
      "    :Date: July; 1998\n",
      "\n",
      "This is a copy of the test set of the UCI ML hand-written digits datasets\n",
      "https://archive.ics.uci.edu/ml/datasets/Optical+Recognition+of+Handwritten+Digits\n",
      "\n",
      "The data set contains images of hand-written digits: 10 classes where\n",
      "each class refers to a digit.\n",
      "\n",
      "Preprocessing programs made available by NIST were used to extract\n",
      "normalized bitmaps of handwritten digits from a preprinted form. From a\n",
      "total of 43 people, 30 contributed to the training set and different 13\n",
      "to the test set. 32x32 bitmaps are divided into nonoverlapping blocks of\n",
      "4x4 and the number of on pixels are counted in each block. This generates\n",
      "an input matrix of 8x8 where each element is an integer in the range\n",
      "0..16. This reduces dimensionality and gives invariance to small\n",
      "distortions.\n",
      "\n",
      "For info on NIST preprocessing routines, see M. D. Garris, J. L. Blue, G.\n",
      "T. Candela, D. L. Dimmick, J. Geist, P. J. Grother, S. A. Janet, and C.\n",
      "L. Wilson, NIST Form-Based Handprint Recognition System, NISTIR 5469,\n",
      "1994.\n",
      "\n",
      ".. topic:: References\n",
      "\n",
      "  - C. Kaynak (1995) Methods of Combining Multiple Classifiers and Their\n",
      "    Applications to Handwritten Digit Recognition, MSc Thesis, Institute of\n",
      "    Graduate Studies in Science and Engineering, Bogazici University.\n",
      "  - E. Alpaydin, C. Kaynak (1998) Cascading Classifiers, Kybernetika.\n",
      "  - Ken Tang and Ponnuthurai N. Suganthan and Xi Yao and A. Kai Qin.\n",
      "    Linear dimensionalityreduction using relevance weighted LDA. School of\n",
      "    Electrical and Electronic Engineering Nanyang Technological University.\n",
      "    2005.\n",
      "  - Claudio Gentile. A New Approximate Maximal Margin Classification\n",
      "    Algorithm. NIPS. 2000.\n"
     ]
    }
   ],
   "source": [
    "# 데이터 Describe 해 보기\n",
    "print(digits.DESCR)"
   ]
  },
  {
   "cell_type": "markdown",
   "metadata": {},
   "source": [
    "## 4) train, test 데이터 분리"
   ]
  },
  {
   "cell_type": "code",
   "execution_count": 7,
   "metadata": {},
   "outputs": [
    {
     "name": "stdout",
     "output_type": "stream",
     "text": [
      "[2 2 2 4 7 6 6 9 1 5 9 9 2 9 0 7 0 9 6 1]\n"
     ]
    }
   ],
   "source": [
    "from sklearn.model_selection import train_test_split\n",
    "\n",
    "X_train, X_test, y_train, y_test = train_test_split(digits_data,\n",
    "                                                   digits_label,\n",
    "                                                   random_state=7,\n",
    "                                                   test_size=0.2)\n",
    "\n",
    "# 랜덤시드를 줌으로써 기존에 0~9 순서였던 것이 랜덤하게 바뀌었다.\n",
    "print(y_train[:20])"
   ]
  },
  {
   "cell_type": "markdown",
   "metadata": {},
   "source": [
    "##  5) 다양한 모델로 학습시켜보기"
   ]
  },
  {
   "cell_type": "markdown",
   "metadata": {},
   "source": [
    "### 함수 만들기\n",
    "- 반복되는 모델 선택, 학습 및 예측하는 과정을 ```process```라는 이름의 함수로 만들었다.\n",
    "<br><br>\n",
    "- 입력 받는 인자는 다음과 같다\n",
    " - model_name\n",
    "     1. ```Decision_tree```\n",
    "     2. ```Random_Forest```\n",
    "     3. ```SVM```\n",
    "     4. ```SGD_Gradient```\n",
    "     5. ```Logistic_Regression```\n",
    " - train_data, test_data\n",
    " - metrics\n",
    "     1. ```accuracy```\n",
    "     2. ```recall```\n",
    "     3. ```f1_score```\n",
    "<br><br>\n",
    "- 3가지의 값을 반환한다.\n",
    " 1. ```score```\n",
    " 2. ```cf_matfix```\n",
    " 3. ```report```"
   ]
  },
  {
   "cell_type": "code",
   "execution_count": 8,
   "metadata": {},
   "outputs": [],
   "source": [
    "# 모든 모델에 대해서 다음 5개의 모델을 확인할 것이기 때문에 리스트로 이름을 저장해두었다.\n",
    "models = ['Decision_Tree', 'Random_Forest', 'SVM', 'SGD_Gradient', 'Logistic_Regression']"
   ]
  },
  {
   "cell_type": "code",
   "execution_count": 9,
   "metadata": {},
   "outputs": [],
   "source": [
    "def process(model_name, X_train, y_train, X_test, y_test, metrics='accuracy'):\n",
    "    # 모델 분기문\n",
    "    if model_name == \"Decision_Tree\":\n",
    "        model = DecisionTreeClassifier(random_state=32)\n",
    "    elif model_name == \"Random_Forest\":\n",
    "        model = RandomForestClassifier()\n",
    "    elif model_name == \"SVM\":\n",
    "        model = SVC()\n",
    "    elif model_name == \"SGD_Gradient\":\n",
    "        model = SGDClassifier()\n",
    "    elif model_name == \"Logistic_Regression\":\n",
    "        model = LogisticRegression(max_iter=1000000)\n",
    "    else :\n",
    "        print(\"Wrong Model Name\")\n",
    "        return;\n",
    "    \n",
    "    # 학습 및 예측\n",
    "    model.fit(X_train, y_train)\n",
    "    y_pred = model.predict(X_test)\n",
    "    \n",
    "    # 평가지표 분기문\n",
    "    if metrics == 'accuracy' :\n",
    "        score = accuracy_score(y_test, y_pred)\n",
    "    elif metrics == 'recall':\n",
    "        score = recall_score(y_test, y_pred)\n",
    "    elif metrics == 'f1_score':\n",
    "        score = f1_score(y_test, y_pred, average='macro')\n",
    "        \n",
    "    # confusion matrix\n",
    "    cf_matrix = confusion_matrix(y_test, y_pred)\n",
    "    \n",
    "    # classification_report\n",
    "    report = classification_report(y_test, y_pred)\n",
    "    \n",
    "    return score, cf_matrix, report, metrics"
   ]
  },
  {
   "cell_type": "markdown",
   "metadata": {},
   "source": [
    "### 모델별로 지표 확인\n",
    "- 손글씨의 경우 지표는 **Accuracy**로 설정"
   ]
  },
  {
   "cell_type": "code",
   "execution_count": 10,
   "metadata": {},
   "outputs": [
    {
     "name": "stdout",
     "output_type": "stream",
     "text": [
      "      Decision_Tree -> score : 0.856\n",
      "      Random_Forest -> score : 0.964\n",
      "                SVM -> score : 0.989\n",
      "       SGD_Gradient -> score : 0.947\n",
      "Logistic_Regression -> score : 0.953\n",
      "\n",
      "평가지표 : accuracy\n",
      "score가 가장 높은 모델 : SVM, score : 0.989\n"
     ]
    }
   ],
   "source": [
    "# 가장 높은 점수를 내는 모델을 확인하기 위한 dict\n",
    "result_dict = {}\n",
    "\n",
    "for i in models:\n",
    "    score, cf_matrix, report, metrics = process(i, X_train, y_train, X_test, y_test)\n",
    "    result_dict[i] = score\n",
    "    print(\"{:>19} -> score : {:.3f}\".format(i, score))\n",
    "\n",
    "# score를 model을 키값으로 dict에 저장\n",
    "highest, score = sorted(result_dict.items(), key = lambda x : x[1], reverse=True)[0]\n",
    "print('')\n",
    "print(\"평가지표 : {}\\nscore가 가장 높은 모델 : {}, score : {:.3f}\".format(metrics, highest, score))"
   ]
  },
  {
   "cell_type": "markdown",
   "metadata": {},
   "source": [
    "# Wine"
   ]
  },
  {
   "cell_type": "markdown",
   "metadata": {},
   "source": [
    "## 1) 라이브러리 import"
   ]
  },
  {
   "cell_type": "code",
   "execution_count": 11,
   "metadata": {},
   "outputs": [],
   "source": [
    "from sklearn.datasets import load_wine"
   ]
  },
  {
   "cell_type": "markdown",
   "metadata": {},
   "source": [
    "## 2) 데이터준비 wine"
   ]
  },
  {
   "cell_type": "code",
   "execution_count": 12,
   "metadata": {},
   "outputs": [],
   "source": [
    "wines = load_wine()"
   ]
  },
  {
   "cell_type": "markdown",
   "metadata": {},
   "source": [
    "## 3) 데이터 이해하기\n",
    "- Feature Data 지정하기\n",
    "- Label Data 지정하기\n",
    "- Target Names 출력해 보기\n",
    "- 데이터 Describe 해 보기"
   ]
  },
  {
   "cell_type": "code",
   "execution_count": 13,
   "metadata": {},
   "outputs": [
    {
     "name": "stdout",
     "output_type": "stream",
     "text": [
      "[0 0 0 0 0 0 0 0 0 0 0 0 0 0 0 0 0 0 0 0]\n",
      "[0 0 0 0 0 0 1 1 1 1 1 1 1 1 1 1 1 1 1 1]\n",
      "[2 2 2 2 2 2 2 2 2 2 2 2 2 2 2 2 2 2 2 2]\n"
     ]
    }
   ],
   "source": [
    "# Feature, Label Data 지정\n",
    "wines_data = wines.data\n",
    "wines_label = wines.target\n",
    "\n",
    "# 이후에 split을 사용할 때 random하게 바뀌는지 확인하기 위해\n",
    "# 먼저 찍어본다\n",
    "print(wines_label[:20])\n",
    "print(wines_label[int(len(wines_label)*0.3):int(len(wines_label)*0.3)+20])\n",
    "print(wines_label[len(wines_label)-20:])"
   ]
  },
  {
   "cell_type": "markdown",
   "metadata": {},
   "source": [
    "- label의 데이터가 앞부분부터 0이 반복되고 그 다음은 1, 2 가 연속되게 나오는 것을 확인할 수 있다.\n",
    "- ```train_test_split``` 할 때, 섞어야한다."
   ]
  },
  {
   "cell_type": "markdown",
   "metadata": {},
   "source": [
    "- 입력받은 와인의 정보들로 총 3가지의 와인을 판별해야 하는 문제이다."
   ]
  },
  {
   "cell_type": "code",
   "execution_count": 14,
   "metadata": {},
   "outputs": [
    {
     "data": {
      "text/plain": [
       "array(['class_0', 'class_1', 'class_2'], dtype='<U7')"
      ]
     },
     "execution_count": 14,
     "metadata": {},
     "output_type": "execute_result"
    }
   ],
   "source": [
    "# target names 출력해보기\n",
    "wines.target_names"
   ]
  },
  {
   "cell_type": "markdown",
   "metadata": {},
   "source": [
    "- target별 데이터수"
   ]
  },
  {
   "cell_type": "code",
   "execution_count": 15,
   "metadata": {},
   "outputs": [
    {
     "name": "stdout",
     "output_type": "stream",
     "text": [
      "class_0 : 59\n",
      "class_1 : 71\n",
      "class_2 : 48\n"
     ]
    }
   ],
   "source": [
    "for key, value in Counter(wines.target).items():\n",
    "    print(\"{} : {}\".format(wines.target_names[key], value))"
   ]
  },
  {
   "cell_type": "code",
   "execution_count": 16,
   "metadata": {
    "scrolled": true
   },
   "outputs": [
    {
     "name": "stdout",
     "output_type": "stream",
     "text": [
      ".. _wine_dataset:\n",
      "\n",
      "Wine recognition dataset\n",
      "------------------------\n",
      "\n",
      "**Data Set Characteristics:**\n",
      "\n",
      "    :Number of Instances: 178 (50 in each of three classes)\n",
      "    :Number of Attributes: 13 numeric, predictive attributes and the class\n",
      "    :Attribute Information:\n",
      " \t\t- Alcohol\n",
      " \t\t- Malic acid\n",
      " \t\t- Ash\n",
      "\t\t- Alcalinity of ash  \n",
      " \t\t- Magnesium\n",
      "\t\t- Total phenols\n",
      " \t\t- Flavanoids\n",
      " \t\t- Nonflavanoid phenols\n",
      " \t\t- Proanthocyanins\n",
      "\t\t- Color intensity\n",
      " \t\t- Hue\n",
      " \t\t- OD280/OD315 of diluted wines\n",
      " \t\t- Proline\n",
      "\n",
      "    - class:\n",
      "            - class_0\n",
      "            - class_1\n",
      "            - class_2\n",
      "\t\t\n",
      "    :Summary Statistics:\n",
      "    \n",
      "    ============================= ==== ===== ======= =====\n",
      "                                   Min   Max   Mean     SD\n",
      "    ============================= ==== ===== ======= =====\n",
      "    Alcohol:                      11.0  14.8    13.0   0.8\n",
      "    Malic Acid:                   0.74  5.80    2.34  1.12\n",
      "    Ash:                          1.36  3.23    2.36  0.27\n",
      "    Alcalinity of Ash:            10.6  30.0    19.5   3.3\n",
      "    Magnesium:                    70.0 162.0    99.7  14.3\n",
      "    Total Phenols:                0.98  3.88    2.29  0.63\n",
      "    Flavanoids:                   0.34  5.08    2.03  1.00\n",
      "    Nonflavanoid Phenols:         0.13  0.66    0.36  0.12\n",
      "    Proanthocyanins:              0.41  3.58    1.59  0.57\n",
      "    Colour Intensity:              1.3  13.0     5.1   2.3\n",
      "    Hue:                          0.48  1.71    0.96  0.23\n",
      "    OD280/OD315 of diluted wines: 1.27  4.00    2.61  0.71\n",
      "    Proline:                       278  1680     746   315\n",
      "    ============================= ==== ===== ======= =====\n",
      "\n",
      "    :Missing Attribute Values: None\n",
      "    :Class Distribution: class_0 (59), class_1 (71), class_2 (48)\n",
      "    :Creator: R.A. Fisher\n",
      "    :Donor: Michael Marshall (MARSHALL%PLU@io.arc.nasa.gov)\n",
      "    :Date: July, 1988\n",
      "\n",
      "This is a copy of UCI ML Wine recognition datasets.\n",
      "https://archive.ics.uci.edu/ml/machine-learning-databases/wine/wine.data\n",
      "\n",
      "The data is the results of a chemical analysis of wines grown in the same\n",
      "region in Italy by three different cultivators. There are thirteen different\n",
      "measurements taken for different constituents found in the three types of\n",
      "wine.\n",
      "\n",
      "Original Owners: \n",
      "\n",
      "Forina, M. et al, PARVUS - \n",
      "An Extendible Package for Data Exploration, Classification and Correlation. \n",
      "Institute of Pharmaceutical and Food Analysis and Technologies,\n",
      "Via Brigata Salerno, 16147 Genoa, Italy.\n",
      "\n",
      "Citation:\n",
      "\n",
      "Lichman, M. (2013). UCI Machine Learning Repository\n",
      "[https://archive.ics.uci.edu/ml]. Irvine, CA: University of California,\n",
      "School of Information and Computer Science. \n",
      "\n",
      ".. topic:: References\n",
      "\n",
      "  (1) S. Aeberhard, D. Coomans and O. de Vel, \n",
      "  Comparison of Classifiers in High Dimensional Settings, \n",
      "  Tech. Rep. no. 92-02, (1992), Dept. of Computer Science and Dept. of  \n",
      "  Mathematics and Statistics, James Cook University of North Queensland. \n",
      "  (Also submitted to Technometrics). \n",
      "\n",
      "  The data was used with many others for comparing various \n",
      "  classifiers. The classes are separable, though only RDA \n",
      "  has achieved 100% correct classification. \n",
      "  (RDA : 100%, QDA 99.4%, LDA 98.9%, 1NN 96.1% (z-transformed data)) \n",
      "  (All results using the leave-one-out technique) \n",
      "\n",
      "  (2) S. Aeberhard, D. Coomans and O. de Vel, \n",
      "  \"THE CLASSIFICATION PERFORMANCE OF RDA\" \n",
      "  Tech. Rep. no. 92-01, (1992), Dept. of Computer Science and Dept. of \n",
      "  Mathematics and Statistics, James Cook University of North Queensland. \n",
      "  (Also submitted to Journal of Chemometrics).\n",
      "\n"
     ]
    }
   ],
   "source": [
    "# 데이터 Describe 해 보기\n",
    "print(wines.DESCR)"
   ]
  },
  {
   "cell_type": "markdown",
   "metadata": {},
   "source": [
    "## 4) train, test 데이터 분리"
   ]
  },
  {
   "cell_type": "code",
   "execution_count": 17,
   "metadata": {},
   "outputs": [
    {
     "name": "stdout",
     "output_type": "stream",
     "text": [
      "[2 1 1 1 2 1 2 0 0 1 1 1 1 2 0 2 0 1 0 0]\n"
     ]
    }
   ],
   "source": [
    "from sklearn.model_selection import train_test_split\n",
    "\n",
    "X_train, X_test, y_train, y_test = train_test_split(wines_data,\n",
    "                                                   wines_label,\n",
    "                                                   random_state=7,\n",
    "                                                   test_size=0.2,\n",
    "                                                   stratify=wines_label)\n",
    "\n",
    "# 랜덤시드를 줌으로써 기존에 연속적인 0, 1, 2를 섞어주었다.\n",
    "print(y_train[:20])"
   ]
  },
  {
   "cell_type": "markdown",
   "metadata": {},
   "source": [
    "## 5) 학습 및 평가, 지표설정\n",
    "- wine의 입력받는 다양한 특징 중에서 매 단계마다 몇가지 특성만 랜덤하게 골라서 예측하는 **Random Forest** 방식이 적합할 것으로 예상했다.\n",
    "- 와인의 종류를 단순히 맞추기만 하는 것으로 평가지표는 **Accuracy**로 결정했다."
   ]
  },
  {
   "cell_type": "code",
   "execution_count": 18,
   "metadata": {},
   "outputs": [
    {
     "name": "stdout",
     "output_type": "stream",
     "text": [
      "      Decision_Tree -> score : 0.944\n",
      "      Random_Forest -> score : 0.972\n",
      "                SVM -> score : 0.639\n",
      "       SGD_Gradient -> score : 0.500\n",
      "Logistic_Regression -> score : 0.917\n",
      "\n",
      "평가지표 : accuracy\n",
      "score가 가장 높은 모델 : Random_Forest, score : 0.972\n"
     ]
    }
   ],
   "source": [
    "for i in models:\n",
    "    score, cf_matrix, report, metrics = process(i, X_train, y_train, X_test, y_test)\n",
    "    result_dict[i] = score\n",
    "    print(\"{:>19} -> score : {:.3f}\".format(i, score))\n",
    "\n",
    "highest, score = sorted(result_dict.items(), key = lambda x : x[1], reverse=True)[0]\n",
    "print('')\n",
    "print(\"평가지표 : {}\\nscore가 가장 높은 모델 : {}, score : {:.3f}\".format(metrics, highest, score))"
   ]
  },
  {
   "cell_type": "markdown",
   "metadata": {},
   "source": [
    "# Breast Cancer"
   ]
  },
  {
   "cell_type": "markdown",
   "metadata": {},
   "source": [
    "## 1) 라이브러리 import"
   ]
  },
  {
   "cell_type": "code",
   "execution_count": 19,
   "metadata": {},
   "outputs": [],
   "source": [
    "from sklearn.datasets import load_breast_cancer"
   ]
  },
  {
   "cell_type": "markdown",
   "metadata": {},
   "source": [
    "## 2) 데이터준비 wine"
   ]
  },
  {
   "cell_type": "code",
   "execution_count": 20,
   "metadata": {},
   "outputs": [],
   "source": [
    "bcs = load_breast_cancer()"
   ]
  },
  {
   "cell_type": "markdown",
   "metadata": {},
   "source": [
    "## 3) 데이터 이해하기\n",
    "- Feature Data 지정하기\n",
    "- Label Data 지정하기\n",
    "- Target Names 출력해 보기\n",
    "- 데이터 Describe 해 보기"
   ]
  },
  {
   "cell_type": "code",
   "execution_count": 21,
   "metadata": {},
   "outputs": [
    {
     "name": "stdout",
     "output_type": "stream",
     "text": [
      "[0 0 0 0 0 0 0 0 0 0 0 0 0 0 0 0 0 0 0 1 1 1 0 0 0 0 0 0 0 0]\n"
     ]
    }
   ],
   "source": [
    "# Feature, Label Data 지정\n",
    "bcs_data = bcs.data\n",
    "bcs_label = bcs.target\n",
    "\n",
    "# 이후에 split을 사용할 때 random하게 바뀌는지 확인하기 위해\n",
    "# 먼저 찍어본다\n",
    "print(bcs_label[:30])"
   ]
  },
  {
   "cell_type": "code",
   "execution_count": 22,
   "metadata": {},
   "outputs": [
    {
     "data": {
      "text/plain": [
       "array(['malignant', 'benign'], dtype='<U9')"
      ]
     },
     "execution_count": 22,
     "metadata": {},
     "output_type": "execute_result"
    }
   ],
   "source": [
    "# target names 출력해보기\n",
    "bcs.target_names"
   ]
  },
  {
   "cell_type": "markdown",
   "metadata": {},
   "source": [
    "구분해야 하는 target(label)은 악성과 양성이다."
   ]
  },
  {
   "cell_type": "code",
   "execution_count": 23,
   "metadata": {},
   "outputs": [
    {
     "name": "stdout",
     "output_type": "stream",
     "text": [
      ".. _breast_cancer_dataset:\n",
      "\n",
      "Breast cancer wisconsin (diagnostic) dataset\n",
      "--------------------------------------------\n",
      "\n",
      "**Data Set Characteristics:**\n",
      "\n",
      "    :Number of Instances: 569\n",
      "\n",
      "    :Number of Attributes: 30 numeric, predictive attributes and the class\n",
      "\n",
      "    :Attribute Information:\n",
      "        - radius (mean of distances from center to points on the perimeter)\n",
      "        - texture (standard deviation of gray-scale values)\n",
      "        - perimeter\n",
      "        - area\n",
      "        - smoothness (local variation in radius lengths)\n",
      "        - compactness (perimeter^2 / area - 1.0)\n",
      "        - concavity (severity of concave portions of the contour)\n",
      "        - concave points (number of concave portions of the contour)\n",
      "        - symmetry\n",
      "        - fractal dimension (\"coastline approximation\" - 1)\n",
      "\n",
      "        The mean, standard error, and \"worst\" or largest (mean of the three\n",
      "        worst/largest values) of these features were computed for each image,\n",
      "        resulting in 30 features.  For instance, field 0 is Mean Radius, field\n",
      "        10 is Radius SE, field 20 is Worst Radius.\n",
      "\n",
      "        - class:\n",
      "                - WDBC-Malignant\n",
      "                - WDBC-Benign\n",
      "\n",
      "    :Summary Statistics:\n",
      "\n",
      "    ===================================== ====== ======\n",
      "                                           Min    Max\n",
      "    ===================================== ====== ======\n",
      "    radius (mean):                        6.981  28.11\n",
      "    texture (mean):                       9.71   39.28\n",
      "    perimeter (mean):                     43.79  188.5\n",
      "    area (mean):                          143.5  2501.0\n",
      "    smoothness (mean):                    0.053  0.163\n",
      "    compactness (mean):                   0.019  0.345\n",
      "    concavity (mean):                     0.0    0.427\n",
      "    concave points (mean):                0.0    0.201\n",
      "    symmetry (mean):                      0.106  0.304\n",
      "    fractal dimension (mean):             0.05   0.097\n",
      "    radius (standard error):              0.112  2.873\n",
      "    texture (standard error):             0.36   4.885\n",
      "    perimeter (standard error):           0.757  21.98\n",
      "    area (standard error):                6.802  542.2\n",
      "    smoothness (standard error):          0.002  0.031\n",
      "    compactness (standard error):         0.002  0.135\n",
      "    concavity (standard error):           0.0    0.396\n",
      "    concave points (standard error):      0.0    0.053\n",
      "    symmetry (standard error):            0.008  0.079\n",
      "    fractal dimension (standard error):   0.001  0.03\n",
      "    radius (worst):                       7.93   36.04\n",
      "    texture (worst):                      12.02  49.54\n",
      "    perimeter (worst):                    50.41  251.2\n",
      "    area (worst):                         185.2  4254.0\n",
      "    smoothness (worst):                   0.071  0.223\n",
      "    compactness (worst):                  0.027  1.058\n",
      "    concavity (worst):                    0.0    1.252\n",
      "    concave points (worst):               0.0    0.291\n",
      "    symmetry (worst):                     0.156  0.664\n",
      "    fractal dimension (worst):            0.055  0.208\n",
      "    ===================================== ====== ======\n",
      "\n",
      "    :Missing Attribute Values: None\n",
      "\n",
      "    :Class Distribution: 212 - Malignant, 357 - Benign\n",
      "\n",
      "    :Creator:  Dr. William H. Wolberg, W. Nick Street, Olvi L. Mangasarian\n",
      "\n",
      "    :Donor: Nick Street\n",
      "\n",
      "    :Date: November, 1995\n",
      "\n",
      "This is a copy of UCI ML Breast Cancer Wisconsin (Diagnostic) datasets.\n",
      "https://goo.gl/U2Uwz2\n",
      "\n",
      "Features are computed from a digitized image of a fine needle\n",
      "aspirate (FNA) of a breast mass.  They describe\n",
      "characteristics of the cell nuclei present in the image.\n",
      "\n",
      "Separating plane described above was obtained using\n",
      "Multisurface Method-Tree (MSM-T) [K. P. Bennett, \"Decision Tree\n",
      "Construction Via Linear Programming.\" Proceedings of the 4th\n",
      "Midwest Artificial Intelligence and Cognitive Science Society,\n",
      "pp. 97-101, 1992], a classification method which uses linear\n",
      "programming to construct a decision tree.  Relevant features\n",
      "were selected using an exhaustive search in the space of 1-4\n",
      "features and 1-3 separating planes.\n",
      "\n",
      "The actual linear program used to obtain the separating plane\n",
      "in the 3-dimensional space is that described in:\n",
      "[K. P. Bennett and O. L. Mangasarian: \"Robust Linear\n",
      "Programming Discrimination of Two Linearly Inseparable Sets\",\n",
      "Optimization Methods and Software 1, 1992, 23-34].\n",
      "\n",
      "This database is also available through the UW CS ftp server:\n",
      "\n",
      "ftp ftp.cs.wisc.edu\n",
      "cd math-prog/cpo-dataset/machine-learn/WDBC/\n",
      "\n",
      ".. topic:: References\n",
      "\n",
      "   - W.N. Street, W.H. Wolberg and O.L. Mangasarian. Nuclear feature extraction \n",
      "     for breast tumor diagnosis. IS&T/SPIE 1993 International Symposium on \n",
      "     Electronic Imaging: Science and Technology, volume 1905, pages 861-870,\n",
      "     San Jose, CA, 1993.\n",
      "   - O.L. Mangasarian, W.N. Street and W.H. Wolberg. Breast cancer diagnosis and \n",
      "     prognosis via linear programming. Operations Research, 43(4), pages 570-577, \n",
      "     July-August 1995.\n",
      "   - W.H. Wolberg, W.N. Street, and O.L. Mangasarian. Machine learning techniques\n",
      "     to diagnose breast cancer from fine-needle aspirates. Cancer Letters 77 (1994) \n",
      "     163-171.\n"
     ]
    }
   ],
   "source": [
    "# 데이터 Describe 해 보기\n",
    "print(bcs.DESCR)"
   ]
  },
  {
   "cell_type": "markdown",
   "metadata": {},
   "source": [
    "## 4) train, test 데이터 분리"
   ]
  },
  {
   "cell_type": "code",
   "execution_count": 24,
   "metadata": {},
   "outputs": [
    {
     "name": "stdout",
     "output_type": "stream",
     "text": [
      "[0 1 1 1 1 0 1 1 1 1 1 0 1 0 1 1 1 1 1 1]\n"
     ]
    }
   ],
   "source": [
    "from sklearn.model_selection import train_test_split\n",
    "\n",
    "X_train, X_test, y_train, y_test = train_test_split(bcs_data,\n",
    "                                                   bcs_label,\n",
    "                                                   random_state=7,\n",
    "                                                   test_size=0.2)\n",
    "\n",
    "# 연속되어 있는 label은 아니였지만 그래도 random_state의 값을 주어서 label 데이터를 섞어주었다.\n",
    "print(y_train[:20])"
   ]
  },
  {
   "cell_type": "markdown",
   "metadata": {},
   "source": [
    "## 5) 학습 및 평가, 지표설정\n",
    "- 암이 악성일 경우를 Positive, 암이 양성일 경우를 Negative라고 생각해본다.\n",
    "- 양성 암을 악성이라고 하는 것은 괜찮지만 악성 암을 양성이라고 판단하면 매우 위험해진다.\n",
    "- 그렇기 때문에 지표는 **Recall**, 혹은 **F1 Score**가 적합하다고 판단하였다."
   ]
  },
  {
   "cell_type": "markdown",
   "metadata": {},
   "source": [
    "### Recall? F1 score?\n",
    "- F1 score는 주로 label이 불균형 구조일 때, 모델의 성능을 정확하게 평가할 수 있다.\n",
    "- 그렇다면 label의 비중을 확인해본다.\n",
    " - ```collections```의 ```Counter``` 활용"
   ]
  },
  {
   "cell_type": "code",
   "execution_count": 25,
   "metadata": {},
   "outputs": [
    {
     "name": "stdout",
     "output_type": "stream",
     "text": [
      "malignant : 212개\n",
      "   benign : 357개\n"
     ]
    }
   ],
   "source": [
    "from collections import Counter\n",
    "\n",
    "for key, value in Counter(bcs.target).items():\n",
    "    print(\"{:>9} : {}개\".format(bcs.target_names[key], value))"
   ]
  },
  {
   "cell_type": "markdown",
   "metadata": {},
   "source": [
    "- 확인 결과 악성 212개와 양성 357개로 구성되어 있는 것을 확인할 수 있다.\n",
    "- 비록 차이는 많이 안크지만 데이터셋 자체가 비교적으로 작기 때문에 **F1 Score**를 사용할 것이다.\n",
    "- 추가적으로 결과로는 Confusion matrix를 출력해주도록 한다."
   ]
  },
  {
   "cell_type": "markdown",
   "metadata": {},
   "source": [
    "### 모델별로 score, confusion matrix시각화"
   ]
  },
  {
   "cell_type": "code",
   "execution_count": 26,
   "metadata": {
    "scrolled": false
   },
   "outputs": [
    {
     "name": "stdout",
     "output_type": "stream",
     "text": [
      "      Decision_Tree -> score : 0.901\n",
      "      Random_Forest -> score : 0.971\n",
      "                SVM -> score : 0.886\n",
      "       SGD_Gradient -> score : 0.889\n",
      "Logistic_Regression -> score : 0.940\n",
      "\n",
      "평가지표 : f1_score\n",
      "score가 가장 높은 모델 : Random_Forest, score : 0.971\n",
      "------------------------------------------------------\n",
      "                    Decision_Tree                     \n",
      "              precision    recall  f1-score   support\n",
      "\n",
      "           0       0.92      0.82      0.87        40\n",
      "           1       0.91      0.96      0.93        74\n",
      "\n",
      "    accuracy                           0.91       114\n",
      "   macro avg       0.91      0.89      0.90       114\n",
      "weighted avg       0.91      0.91      0.91       114\n",
      "\n",
      "- - - - - - - - - - - - - - - - - - - - - - - - - - - \n",
      "                    Random_Forest                     \n",
      "              precision    recall  f1-score   support\n",
      "\n",
      "           0       1.00      0.93      0.96        40\n",
      "           1       0.96      1.00      0.98        74\n",
      "\n",
      "    accuracy                           0.97       114\n",
      "   macro avg       0.98      0.96      0.97       114\n",
      "weighted avg       0.97      0.97      0.97       114\n",
      "\n",
      "- - - - - - - - - - - - - - - - - - - - - - - - - - - \n",
      "                         SVM                          \n",
      "              precision    recall  f1-score   support\n",
      "\n",
      "           0       1.00      0.72      0.84        40\n",
      "           1       0.87      1.00      0.93        74\n",
      "\n",
      "    accuracy                           0.90       114\n",
      "   macro avg       0.94      0.86      0.89       114\n",
      "weighted avg       0.92      0.90      0.90       114\n",
      "\n",
      "- - - - - - - - - - - - - - - - - - - - - - - - - - - \n",
      "                     SGD_Gradient                     \n",
      "              precision    recall  f1-score   support\n",
      "\n",
      "           0       0.94      0.78      0.85        40\n",
      "           1       0.89      0.97      0.93        74\n",
      "\n",
      "    accuracy                           0.90       114\n",
      "   macro avg       0.91      0.87      0.89       114\n",
      "weighted avg       0.91      0.90      0.90       114\n",
      "\n",
      "- - - - - - - - - - - - - - - - - - - - - - - - - - - \n",
      "                 Logistic_Regression                  \n",
      "              precision    recall  f1-score   support\n",
      "\n",
      "           0       1.00      0.85      0.92        40\n",
      "           1       0.93      1.00      0.96        74\n",
      "\n",
      "    accuracy                           0.95       114\n",
      "   macro avg       0.96      0.93      0.94       114\n",
      "weighted avg       0.95      0.95      0.95       114\n",
      "\n",
      "- - - - - - - - - - - - - - - - - - - - - - - - - - - \n"
     ]
    },
    {
     "data": {
      "image/png": "[encoded data removed]",
      "text/plain": [
       "<Figure size 432x288 with 1 Axes>"
      ]
     },
     "metadata": {
      "needs_background": "light"
     },
     "output_type": "display_data"
    },
    {
     "data": {
      "image/png": "[encoded data removed]",
      "text/plain": [
       "<Figure size 432x288 with 1 Axes>"
      ]
     },
     "metadata": {
      "needs_background": "light"
     },
     "output_type": "display_data"
    },
    {
     "data": {
      "image/png": "[encoded data removed]",
      "text/plain": [
       "<Figure size 432x288 with 1 Axes>"
      ]
     },
     "metadata": {
      "needs_background": "light"
     },
     "output_type": "display_data"
    },
    {
     "data": {
      "image/png": "[encoded data removed]",
      "text/plain": [
       "<Figure size 432x288 with 1 Axes>"
      ]
     },
     "metadata": {
      "needs_background": "light"
     },
     "output_type": "display_data"
    },
    {
     "data": {
      "image/png": "[encoded data removed]",
      "text/plain": [
       "<Figure size 432x288 with 1 Axes>"
      ]
     },
     "metadata": {
      "needs_background": "light"
     },
     "output_type": "display_data"
    }
   ],
   "source": [
    "reports = {}\n",
    "for i in models:\n",
    "    score, cf_matrix, report, metrics = process(i, X_train, y_train, X_test, y_test, metrics=\"f1_score\")\n",
    "    result_dict[i] = score\n",
    "    reports[i] = report\n",
    "    print(\"{:>19} -> score : {:.3f}\".format(i, score))\n",
    "    \n",
    "    fig, ax = plt.subplots()\n",
    "    ax.matshow(cf_matrix, cmap=plt.cm.Blues)\n",
    "    \n",
    "    for x in range(2) :\n",
    "        for y in range(2) :\n",
    "            c = cf_matrix[y, x]\n",
    "            ax.set_title(i)\n",
    "            ax.text(x, y, str(c), va='center', ha='center')\n",
    "    \n",
    "    \n",
    "\n",
    "highest, score = sorted(result_dict.items(), key = lambda x : x[1], reverse=True)[0]\n",
    "print('')\n",
    "print(\"평가지표 : {}\\nscore가 가장 높은 모델 : {}, score : {:.3f}\".format(metrics, highest, score))\n",
    "print('-'*54)\n",
    "for key, values in reports.items():\n",
    "    print(\"{:^54}\".format(key))\n",
    "    print(values)\n",
    "    print('- '*27)"
   ]
  },
  {
   "cell_type": "markdown",
   "metadata": {},
   "source": [
    "# 정리 "
   ]
  },
  {
   "cell_type": "markdown",
   "metadata": {},
   "source": [
    "#### 3가지의 데이터셋을 사용해서 각각 다양한 모델로 분류를 해보았다.\n",
    "<br>\n",
    "\n",
    "##### 1. 손글씨 데이터\n",
    " - 손글씨의 경우는 8x8의 사이즈, 총 64개의 픽셀에 대한 정보들이 입력으로 들어간다. 그리고 target(label)에 대한 정보는 각 손글씨가 0~9까지의 숫자중 어느 숫자인지 알려준다.\n",
    " - 손글씨를 보고 단순하게 어느 숫자인지 판별하는 것이기 때문에 **accuracy**를 사용하는 것이 맞다고 판단하였다.\n",
    " - 64개의 픽셀의 정보가 들어가지만 한 픽셀에 대한 정보가 특별하게 숫자를 나타내는데 정보가 되지 않다고 생각했고, 그러한 점에서 입력되는 정보가 많아도 Random Forest는 적합하지 않다고 생각하였다.\n",
    " - 그래서 각 모델의 accuracy만 확인해보았고 전체적으로 높은 대신에 Decision Tree가 가장 낮고 **SVM**이 가장 높은 점수가 나오는 것을 확인할 수 있었다.\n",
    "\n",
    "##### 2. 와인 데이터\n",
    " - 와인에 관련된 feature는 13개, 분류해야할 target(label)의 수는 3개이다.\n",
    " - 여기서는 13개의 와인에 대한 다양한 요소들을 사용해서 3가지의 종류 중에서 한가지를 맞춰야 한다.\n",
    " - 평가지표는 **accuracy**로 정하였다. 와인의 경우 단순하게 3개의 target중에서 맞추느냐 안맞추느냐의 문제로만 생각을 하였다.\n",
    " - 하지만 여기서 모델은 1번의 손글씨와는 다르게 다양한 feature의 정보 중에서 무작위로 선정하고, 매 단계마다 선정한 요소들로 어느 클래스에 속하는 와인인지 예측하고, 매 단계마다 반복해서 예측과정을 수행하는 **Random Forest**의 모델을 썼을 때 보다 정확한 Score가 나왔다.<br>\n",
    "\n",
    "##### 3. 유방암 데이터\n",
    " - 유방암의 경우는 feature의 수도 30개, target(label)은 2개이다.\n",
    " - 암의 경우에서는 confusion matrix를 참고하여 평가지표를 정하기로 했다.\n",
    " - 암이 있는 경우를 Positive, 없는 경우를 Negative로 했을 때,\n",
    "     암이 실제로 없을 때, 있다고 예측하는 것은 상관이 없다. (FP)\n",
    "     하지만 암이 있을 때, 없다고 예측하는 것은 매우 위험한 경우이다. (FN)\n",
    " - 그렇기 때문에 평가지표는 Recall, 혹은 F1 score로 설정하였다.\n",
    " - 추가적으로 유방암 데이터의 label 비율이 정확하게 같지는 않기 때문에 아무래도 불균형 구조일때 좀더 정확한 점수를 내는 **f1_score**가 적합하다고 생각했다."
   ]
  }
 ],
 "metadata": {
  "kernelspec": {
   "display_name": "aiffel",
   "language": "python",
   "name": "aiffel"
  },
  "language_info": {
   "codemirror_mode": {
    "name": "ipython",
    "version": 3
   },
   "file_extension": ".py",
   "mimetype": "text/x-python",
   "name": "python",
   "nbconvert_exporter": "python",
   "pygments_lexer": "ipython3",
   "version": "3.7.6"
  }
 },
 "nbformat": 4,
 "nbformat_minor": 4
}
