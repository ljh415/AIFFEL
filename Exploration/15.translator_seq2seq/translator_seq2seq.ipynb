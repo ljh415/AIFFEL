{
 "cells": [
  {
   "cell_type": "markdown",
   "metadata": {},
   "source": [
    "# 목표\n",
    "- 데이터에서 상위 33,000개의 샘플만 사용\n",
    "- 33,000개 중에서 3000개는 테스트 데이터로 분리하여 모델을 학습, 번역을 테스트하는 용도로 사용\n",
    "<br>  \n",
    "\n",
    "### 1. 정제, 정규화, 정처리(영어, 프랑스어 둘다)\n",
    "---\n",
    "1. 구두점을 단어와 분리\n",
    "    - ex) he is a good boy! -> 'he' 'is' 'a' 'good' 'boy' '!'\n",
    "    - 그래서 결국 전처리는 'he is a good boy !' 이런식으로 하면 띄어쓰기 단위로 토큰화 수행\n",
    "2. 모두 소문자로 변환\n",
    "    - ```str.lower()```\n",
    "3. 띄어쓰기 단위로 토큰화\n",
    "    - 토크나이저..로 나누라는 소리인가 split으로 나누라는 것인가\n",
    "    - ex) 'he is a good boy !' -> ['he', 'is', 'a', 'good', 'boy', '!']\n",
    "  \n",
    "  <br>  \n",
    "\n",
    "### 2. 디코더 문장에 시작토큰, 종료토큰 추가\n",
    "---\n",
    "입력 데이터가 Courez! 였으면  \n",
    "step 1을 지나면서 ['courez' '!']로 토큰화  \n",
    "- 입력 시퀀스 : ['', 'courez', '!']\n",
    "- 레이블 시퀀스 : ['courez', '!', '']\n",
    "  \n",
    "  <br>  \n",
    "\n",
    "### 3. 케라스 토크나이저 텍스트 -> 숫자로 바꾸기\n",
    "---\n",
    "각 단어를 고유한 정수로 바꿔서 처리한다.  \n",
    "```python\n",
    "setences = [ '뭐가 막 담겨있다하고' ]\n",
    "tokenizer = Tokenizer()\n",
    "tokenizer.fit_on_texts(setnences)\n",
    "print(tokenizer.word_index)\n",
    "# 이러면 뭔가 쫙 나옴 (dict형으로 return)\n",
    "```\n",
    "- ```fit_on_texts``` : 입력한 텍스트로부터 단어 빈도수가 높은 순으로 낮은 정수 인덱스를 부여, \n",
    "- ```word_index``` : 어떻게 인덱스가 부여되었는지를 보려면 사용\n",
    "- ```word_counts``` : 각 단어가 카운트를 수행하였을 때 몇 개 였는지를 보고자 한다면\n",
    "- ```text_to_sequences()``` : 입력으로 들어온 코퍼스에 대해서 각 단어를 이미 정해진 인덱스로 변환한다. (**이거다**)\n",
    "```python\n",
    "print(tokenizer.texts_to_sequences(sentences))\n",
    "# 이러면 기존에 단어로 이루어진 문장들이 숫자로 변환되어서 나온다\n",
    "```\n",
    "  \n",
    "  <br>  \n",
    "\n",
    "### 4. Embedding Layer 사용\n",
    "---\n",
    "각 단어를 Embedding Layer를 사용해서 **벡터화**시켜라.  \n",
    "Embedding Layer에 필요한 인자는 3가지, vocab_size, output_dim, input_length..  \n",
    "  \n",
    "아래는 위키독스의 내용\n",
    "```python\n",
    "v = Embedding(20000, 128, input_length = 500)\n",
    "# vocab_size = 20000\n",
    "# ouput_dim = 128\n",
    "# input_length = 500\n",
    "\n",
    "# 토큰화 수행\n",
    "t = Tokenizer()\n",
    "t.fit_on_texts(sentences)\n",
    "\n",
    "# vocab_size 구하기\n",
    "vocab_size = len(t.word_index) + 1\n",
    "\n",
    "# 가장 긴 문장 길이 구하기\n",
    "# 정수 인코딩 후에 구한다\n",
    "X_encoded = t.text_to_sequences(sentences)\n",
    "max_len = max(len(l) for l in X_encoded)\n",
    "```\n",
    "\n",
    "이를 통해서 인코더와 디코더의 임베딩 층을 각각 구현해본다.\n",
    "\n",
    "```python\n",
    "from tensorflow.keras.layers import Input, Embedding, Masking\n",
    "\n",
    "# 인코더에서 사용할 임베딩 층 사용 예시\n",
    "encoder_inputs = Input(shape=(None,))\n",
    "enc_emb =  Embedding(단어장의 크기, 임베딩 벡터의 차원)(encoder_inputs)\n",
    "encoder_lstm = LSTM(hidden state의 크기, return_state=True)\n",
    "encoder_outputs, state_h, state_c = encoder_lstm(enc_emb)\n",
    "```\n",
    "이런게 그럼 디코더에도 만들어야 한다는 것이겠지  \n",
    "  \n",
    "> 인코더와 디코더의 임베딩 층은 서로 다른 임베딩 층을 사욯해야한다.\n",
    "> 하지만 디코더의 Train과정과 Test과정(prediction과정)에서의 임베딩층은 동일해야 한다.\n",
    "\n",
    "  \n",
    "  <br>  \n",
    "\n",
    "### 5. 모델 구현\n",
    "### 6. 모델 평가"
   ]
  },
  {
   "cell_type": "markdown",
   "metadata": {},
   "source": [
    "# 시작"
   ]
  },
  {
   "cell_type": "markdown",
   "metadata": {},
   "source": [
    "## 라이브러리 import\n",
    "---"
   ]
  },
  {
   "cell_type": "code",
   "execution_count": 1,
   "metadata": {},
   "outputs": [],
   "source": [
    "import pandas as pd\n",
    "from tensorflow.keras.preprocessing.text import Tokenizer\n",
    "from tensorflow.keras.preprocessing.sequence import pad_sequences\n",
    "from tensorflow.keras.utils import to_categorical\n",
    "import numpy as np\n",
    "import os\n",
    "import re"
   ]
  },
  {
   "cell_type": "markdown",
   "metadata": {},
   "source": [
    "## 데이터 가져오기\n",
    "---\n",
    "- 3번째 Column은 필요가 없기 때문에 삭제한다.\n",
    "- 사용할 데이터 양은 33,000개의 샘플\n",
    "    - Train : 30,000 / Test : 3,000"
   ]
  },
  {
   "cell_type": "code",
   "execution_count": 2,
   "metadata": {},
   "outputs": [
    {
     "name": "stdout",
     "output_type": "stream",
     "text": [
      "전체 샘플의 수 : 178009\n"
     ]
    },
    {
     "data": {
      "text/html": [
       "<div>\n",
       "<style scoped>\n",
       "    .dataframe tbody tr th:only-of-type {\n",
       "        vertical-align: middle;\n",
       "    }\n",
       "\n",
       "    .dataframe tbody tr th {\n",
       "        vertical-align: top;\n",
       "    }\n",
       "\n",
       "    .dataframe thead th {\n",
       "        text-align: right;\n",
       "    }\n",
       "</style>\n",
       "<table border=\"1\" class=\"dataframe\">\n",
       "  <thead>\n",
       "    <tr style=\"text-align: right;\">\n",
       "      <th></th>\n",
       "      <th>eng</th>\n",
       "      <th>fra</th>\n",
       "      <th>cc</th>\n",
       "    </tr>\n",
       "  </thead>\n",
       "  <tbody>\n",
       "    <tr>\n",
       "      <th>71284</th>\n",
       "      <td>It's always been that way.</td>\n",
       "      <td>Il en a toujours été ainsi.</td>\n",
       "      <td>CC-BY 2.0 (France) Attribution: tatoeba.org #3...</td>\n",
       "    </tr>\n",
       "    <tr>\n",
       "      <th>57872</th>\n",
       "      <td>There is one difference.</td>\n",
       "      <td>Il y a une différence.</td>\n",
       "      <td>CC-BY 2.0 (France) Attribution: tatoeba.org #5...</td>\n",
       "    </tr>\n",
       "    <tr>\n",
       "      <th>67959</th>\n",
       "      <td>Have you ever loved a man?</td>\n",
       "      <td>As-tu déjà aimé un homme ?</td>\n",
       "      <td>CC-BY 2.0 (France) Attribution: tatoeba.org #5...</td>\n",
       "    </tr>\n",
       "    <tr>\n",
       "      <th>123767</th>\n",
       "      <td>There is a television in the room.</td>\n",
       "      <td>Il y a un poste de télévision dans la pièce.</td>\n",
       "      <td>CC-BY 2.0 (France) Attribution: tatoeba.org #4...</td>\n",
       "    </tr>\n",
       "    <tr>\n",
       "      <th>122375</th>\n",
       "      <td>I wonder if the weather will hold.</td>\n",
       "      <td>Je me demande si le temps se maintiendra.</td>\n",
       "      <td>CC-BY 2.0 (France) Attribution: tatoeba.org #2...</td>\n",
       "    </tr>\n",
       "  </tbody>\n",
       "</table>\n",
       "</div>"
      ],
      "text/plain": [
       "                                       eng  \\\n",
       "71284           It's always been that way.   \n",
       "57872             There is one difference.   \n",
       "67959           Have you ever loved a man?   \n",
       "123767  There is a television in the room.   \n",
       "122375  I wonder if the weather will hold.   \n",
       "\n",
       "                                                 fra  \\\n",
       "71284                    Il en a toujours été ainsi.   \n",
       "57872                         Il y a une différence.   \n",
       "67959                     As-tu déjà aimé un homme ?   \n",
       "123767  Il y a un poste de télévision dans la pièce.   \n",
       "122375     Je me demande si le temps se maintiendra.   \n",
       "\n",
       "                                                       cc  \n",
       "71284   CC-BY 2.0 (France) Attribution: tatoeba.org #3...  \n",
       "57872   CC-BY 2.0 (France) Attribution: tatoeba.org #5...  \n",
       "67959   CC-BY 2.0 (France) Attribution: tatoeba.org #5...  \n",
       "123767  CC-BY 2.0 (France) Attribution: tatoeba.org #4...  \n",
       "122375  CC-BY 2.0 (France) Attribution: tatoeba.org #2...  "
      ]
     },
     "execution_count": 2,
     "metadata": {},
     "output_type": "execute_result"
    }
   ],
   "source": [
    "file_path = os.getenv('HOME')+'/aiffel/translator_seq2seq/data/fra.txt'\n",
    "lines = pd.read_csv(file_path, names=['eng', 'fra', 'cc'], sep='\\t')\n",
    "print('전체 샘플의 수 :',len(lines))\n",
    "lines.sample(5) #샘플 5개 출력"
   ]
  },
  {
   "cell_type": "code",
   "execution_count": 3,
   "metadata": {},
   "outputs": [
    {
     "data": {
      "text/html": [
       "<div>\n",
       "<style scoped>\n",
       "    .dataframe tbody tr th:only-of-type {\n",
       "        vertical-align: middle;\n",
       "    }\n",
       "\n",
       "    .dataframe tbody tr th {\n",
       "        vertical-align: top;\n",
       "    }\n",
       "\n",
       "    .dataframe thead th {\n",
       "        text-align: right;\n",
       "    }\n",
       "</style>\n",
       "<table border=\"1\" class=\"dataframe\">\n",
       "  <thead>\n",
       "    <tr style=\"text-align: right;\">\n",
       "      <th></th>\n",
       "      <th>eng</th>\n",
       "      <th>fra</th>\n",
       "    </tr>\n",
       "  </thead>\n",
       "  <tbody>\n",
       "    <tr>\n",
       "      <th>13086</th>\n",
       "      <td>We're different.</td>\n",
       "      <td>Nous sommes différents.</td>\n",
       "    </tr>\n",
       "    <tr>\n",
       "      <th>1087</th>\n",
       "      <td>Are you up?</td>\n",
       "      <td>Es-tu levé ?</td>\n",
       "    </tr>\n",
       "    <tr>\n",
       "      <th>25169</th>\n",
       "      <td>I've caught a cold.</td>\n",
       "      <td>J'ai attrapé froid.</td>\n",
       "    </tr>\n",
       "    <tr>\n",
       "      <th>15547</th>\n",
       "      <td>I'm on the phone.</td>\n",
       "      <td>Je suis au téléphone.</td>\n",
       "    </tr>\n",
       "    <tr>\n",
       "      <th>24645</th>\n",
       "      <td>I saw the man jump.</td>\n",
       "      <td>J'ai vu l'homme sauter.</td>\n",
       "    </tr>\n",
       "  </tbody>\n",
       "</table>\n",
       "</div>"
      ],
      "text/plain": [
       "                       eng                      fra\n",
       "13086     We're different.  Nous sommes différents.\n",
       "1087           Are you up?             Es-tu levé ?\n",
       "25169  I've caught a cold.      J'ai attrapé froid.\n",
       "15547    I'm on the phone.    Je suis au téléphone.\n",
       "24645  I saw the man jump.  J'ai vu l'homme sauter."
      ]
     },
     "execution_count": 3,
     "metadata": {},
     "output_type": "execute_result"
    }
   ],
   "source": [
    "lines = lines[['eng', 'fra']][:33000] # 3.3만개의 샘플\n",
    "lines.sample(5)"
   ]
  },
  {
   "cell_type": "markdown",
   "metadata": {},
   "source": [
    "## 정제, 정규화, 전처리(영어, 프랑스어 둘다)\n",
    "---\n",
    "1. 구두점을 단어와 분리\n",
    "    - ex) he is a good boy! -> 'he' 'is' 'a' 'good' 'boy' '!'\n",
    "    - 그래서 결국 전처리는 'he is a good boy !' 이런식으로 하면 띄어쓰기 단위로 토큰화 수행\n",
    "2. 모두 소문자로 변환\n",
    "    - ```str.lower()```\n",
    "3. 띄어쓰기 단위로 토큰화\n",
    "    - 토크나이저..로 나누라는 소리인가 split으로 나누라는 것인가\n",
    "    - ex) 'he is a good boy !' -> ['he', 'is', 'a', 'good', 'boy', '!']"
   ]
  },
  {
   "cell_type": "code",
   "execution_count": 4,
   "metadata": {},
   "outputs": [
    {
     "data": {
      "text/html": [
       "<div>\n",
       "<style scoped>\n",
       "    .dataframe tbody tr th:only-of-type {\n",
       "        vertical-align: middle;\n",
       "    }\n",
       "\n",
       "    .dataframe tbody tr th {\n",
       "        vertical-align: top;\n",
       "    }\n",
       "\n",
       "    .dataframe thead th {\n",
       "        text-align: right;\n",
       "    }\n",
       "</style>\n",
       "<table border=\"1\" class=\"dataframe\">\n",
       "  <thead>\n",
       "    <tr style=\"text-align: right;\">\n",
       "      <th></th>\n",
       "      <th>eng</th>\n",
       "      <th>fra</th>\n",
       "    </tr>\n",
       "  </thead>\n",
       "  <tbody>\n",
       "    <tr>\n",
       "      <th>23658</th>\n",
       "      <td>He is about to die.</td>\n",
       "      <td>Il est sur le point de mourir.</td>\n",
       "    </tr>\n",
       "    <tr>\n",
       "      <th>23170</th>\n",
       "      <td>Do you have a blog?</td>\n",
       "      <td>Avez-vous un blog ?</td>\n",
       "    </tr>\n",
       "    <tr>\n",
       "      <th>27794</th>\n",
       "      <td>You know the drill.</td>\n",
       "      <td>Vous connaissez le refrain.</td>\n",
       "    </tr>\n",
       "    <tr>\n",
       "      <th>17002</th>\n",
       "      <td>Was anybody hurt?</td>\n",
       "      <td>Qui que ce soit a-t-il été blessé ?</td>\n",
       "    </tr>\n",
       "    <tr>\n",
       "      <th>28887</th>\n",
       "      <td>He averted his gaze.</td>\n",
       "      <td>Il évita son regard.</td>\n",
       "    </tr>\n",
       "    <tr>\n",
       "      <th>30124</th>\n",
       "      <td>I study very little.</td>\n",
       "      <td>J'étudie très peu.</td>\n",
       "    </tr>\n",
       "  </tbody>\n",
       "</table>\n",
       "</div>"
      ],
      "text/plain": [
       "                        eng                                  fra\n",
       "23658   He is about to die.       Il est sur le point de mourir.\n",
       "23170   Do you have a blog?                  Avez-vous un blog ?\n",
       "27794   You know the drill.          Vous connaissez le refrain.\n",
       "17002     Was anybody hurt?  Qui que ce soit a-t-il été blessé ?\n",
       "28887  He averted his gaze.                 Il évita son regard.\n",
       "30124  I study very little.                   J'étudie très peu."
      ]
     },
     "execution_count": 4,
     "metadata": {},
     "output_type": "execute_result"
    }
   ],
   "source": [
    "lines.sample(6)"
   ]
  },
  {
   "cell_type": "markdown",
   "metadata": {},
   "source": [
    "### 전처리\n",
    "- 구두점 나누기\n",
    "- 소문자로 만들기"
   ]
  },
  {
   "cell_type": "code",
   "execution_count": 5,
   "metadata": {},
   "outputs": [
    {
     "data": {
      "text/html": [
       "<div>\n",
       "<style scoped>\n",
       "    .dataframe tbody tr th:only-of-type {\n",
       "        vertical-align: middle;\n",
       "    }\n",
       "\n",
       "    .dataframe tbody tr th {\n",
       "        vertical-align: top;\n",
       "    }\n",
       "\n",
       "    .dataframe thead th {\n",
       "        text-align: right;\n",
       "    }\n",
       "</style>\n",
       "<table border=\"1\" class=\"dataframe\">\n",
       "  <thead>\n",
       "    <tr style=\"text-align: right;\">\n",
       "      <th></th>\n",
       "      <th>eng</th>\n",
       "      <th>fra</th>\n",
       "    </tr>\n",
       "  </thead>\n",
       "  <tbody>\n",
       "    <tr>\n",
       "      <th>28208</th>\n",
       "      <td>alert the neighbors !</td>\n",
       "      <td>alertons les voisins !</td>\n",
       "    </tr>\n",
       "    <tr>\n",
       "      <th>18712</th>\n",
       "      <td>he looks after us .</td>\n",
       "      <td>il s occupe de nous .</td>\n",
       "    </tr>\n",
       "    <tr>\n",
       "      <th>22082</th>\n",
       "      <td>what a great view !</td>\n",
       "      <td>quelle superbe vue !</td>\n",
       "    </tr>\n",
       "    <tr>\n",
       "      <th>9264</th>\n",
       "      <td>they look cool .</td>\n",
       "      <td>elles ont l air d tendues .</td>\n",
       "    </tr>\n",
       "    <tr>\n",
       "      <th>156</th>\n",
       "      <td>i drive .</td>\n",
       "      <td>je conduis .</td>\n",
       "    </tr>\n",
       "  </tbody>\n",
       "</table>\n",
       "</div>"
      ],
      "text/plain": [
       "                          eng                           fra\n",
       "28208  alert the neighbors !        alertons les voisins ! \n",
       "18712    he looks after us .         il s occupe de nous . \n",
       "22082    what a great view !          quelle superbe vue ! \n",
       "9264        they look cool .   elles ont l air d tendues . \n",
       "156                i drive .                  je conduis . "
      ]
     },
     "execution_count": 5,
     "metadata": {},
     "output_type": "execute_result"
    }
   ],
   "source": [
    "def preprocess_sentence(sentence) :\n",
    "    \n",
    "    # 전처리 부분\n",
    "\n",
    "    # 구두점을 단어와 분리를 시켜본다\n",
    "    sentence = re.sub(r\"([?.!,¿])\", r\" \\1 \", sentence)\n",
    "    sentence = re.sub(r\"[^a-zA-Z!.?]+\", r\" \", sentence)\n",
    "    sentence = re.sub(r\"\\s+\", r\" \", sentence)\n",
    "#     sentence = re.sub(r'[\" \"]+', \" \", sentence)\n",
    "    \n",
    "    # 모두 소문자로 변환\n",
    "    sentence = sentence.lower()\n",
    "    \n",
    "    return sentence\n",
    "\n",
    "lines.eng = lines.eng.apply(lambda x : preprocess_sentence(x))\n",
    "lines.fra = lines.fra.apply(lambda x : preprocess_sentence(x))\n",
    "lines.sample(5)"
   ]
  },
  {
   "cell_type": "markdown",
   "metadata": {},
   "source": [
    "### 시작토큰과 종료토큰 추가하기\n",
    "- 프랑스어에만 추가 (decoder 언어)\n",
    "    - decoder_input에는 시작태그만\n",
    "    - decoder_target에는 종료태그만 남아야 한다."
   ]
  },
  {
   "cell_type": "code",
   "execution_count": 6,
   "metadata": {},
   "outputs": [
    {
     "name": "stdout",
     "output_type": "stream",
     "text": [
      "전체 샘플의 수 :  33000\n"
     ]
    },
    {
     "data": {
      "text/html": [
       "<div>\n",
       "<style scoped>\n",
       "    .dataframe tbody tr th:only-of-type {\n",
       "        vertical-align: middle;\n",
       "    }\n",
       "\n",
       "    .dataframe tbody tr th {\n",
       "        vertical-align: top;\n",
       "    }\n",
       "\n",
       "    .dataframe thead th {\n",
       "        text-align: right;\n",
       "    }\n",
       "</style>\n",
       "<table border=\"1\" class=\"dataframe\">\n",
       "  <thead>\n",
       "    <tr style=\"text-align: right;\">\n",
       "      <th></th>\n",
       "      <th>eng</th>\n",
       "      <th>fra</th>\n",
       "    </tr>\n",
       "  </thead>\n",
       "  <tbody>\n",
       "    <tr>\n",
       "      <th>30080</th>\n",
       "      <td>i said i d be there .</td>\n",
       "      <td>&lt;sos&gt; j ai dit que je serais l .  &lt;eos&gt;</td>\n",
       "    </tr>\n",
       "    <tr>\n",
       "      <th>8630</th>\n",
       "      <td>is he japanese ?</td>\n",
       "      <td>&lt;sos&gt; est il japonais ?  &lt;eos&gt;</td>\n",
       "    </tr>\n",
       "    <tr>\n",
       "      <th>6227</th>\n",
       "      <td>it s terrible .</td>\n",
       "      <td>&lt;sos&gt; c est terrible .  &lt;eos&gt;</td>\n",
       "    </tr>\n",
       "    <tr>\n",
       "      <th>9385</th>\n",
       "      <td>tom is in town .</td>\n",
       "      <td>&lt;sos&gt; tom est en ville .  &lt;eos&gt;</td>\n",
       "    </tr>\n",
       "    <tr>\n",
       "      <th>12466</th>\n",
       "      <td>that s not mine .</td>\n",
       "      <td>&lt;sos&gt; ce n est pas moi .  &lt;eos&gt;</td>\n",
       "    </tr>\n",
       "  </tbody>\n",
       "</table>\n",
       "</div>"
      ],
      "text/plain": [
       "                          eng                                      fra\n",
       "30080  i said i d be there .   <sos> j ai dit que je serais l .  <eos>\n",
       "8630        is he japanese ?            <sos> est il japonais ?  <eos>\n",
       "6227         it s terrible .             <sos> c est terrible .  <eos>\n",
       "9385        tom is in town .           <sos> tom est en ville .  <eos>\n",
       "12466      that s not mine .           <sos> ce n est pas moi .  <eos>"
      ]
     },
     "execution_count": 6,
     "metadata": {},
     "output_type": "execute_result"
    }
   ],
   "source": [
    "### 시작 토큰과 종료 토큰 추가\n",
    "sos_token = '<sos>'\n",
    "eos_token = '<eos>'\n",
    "lines.fra = lines.fra.apply(lambda x : sos_token + ' ' + x + ' ' + eos_token)\n",
    "print('전체 샘플의 수 : ', len(lines))\n",
    "lines.sample(5)"
   ]
  },
  {
   "cell_type": "markdown",
   "metadata": {},
   "source": [
    "### 단어 단위 토큰화\n",
    "- ```Tokenizer```의 인자 중 ```char_level```은 default값으로 False이다.\n",
    "- 이 인자를 True로 사용한다면 글자 단위의 토큰화를 수행"
   ]
  },
  {
   "cell_type": "code",
   "execution_count": 7,
   "metadata": {},
   "outputs": [
    {
     "data": {
      "text/plain": [
       "[[30, 1], [1132, 1], [1132, 1]]"
      ]
     },
     "execution_count": 7,
     "metadata": {},
     "output_type": "execute_result"
    }
   ],
   "source": [
    "eng_tokenizer = Tokenizer(filters=\"\", lower=False)            # 토큰화 수행 : 문자 단위 X\n",
    "eng_tokenizer.fit_on_texts(lines.eng)   # 33000개의 데이터 각 행을 토큰화\n",
    "input_text = eng_tokenizer.texts_to_sequences(lines.eng)   # 단어를 숫자값 인덱스로 변환\n",
    "input_text[:3]"
   ]
  },
  {
   "cell_type": "code",
   "execution_count": 8,
   "metadata": {},
   "outputs": [
    {
     "data": {
      "text/plain": [
       "[[1, 91, 12, 2], [1, 1068, 12, 2], [1, 1068, 3, 2]]"
      ]
     },
     "execution_count": 8,
     "metadata": {},
     "output_type": "execute_result"
    }
   ],
   "source": [
    "fra_tokenizer = Tokenizer(filters=\"\", lower=False)\n",
    "fra_tokenizer.fit_on_texts(lines.fra)\n",
    "target_text = fra_tokenizer.texts_to_sequences(lines.fra)\n",
    "target_text[:3]"
   ]
  },
  {
   "cell_type": "markdown",
   "metadata": {},
   "source": [
    "### 단어장의 사이즈를 저장"
   ]
  },
  {
   "cell_type": "code",
   "execution_count": 9,
   "metadata": {},
   "outputs": [
    {
     "name": "stdout",
     "output_type": "stream",
     "text": [
      "영어 단어장의 크기 :  4662\n",
      "프랑스어 단어장의 크기:  7326\n"
     ]
    }
   ],
   "source": [
    "eng_vocab_size = len(eng_tokenizer.word_index) + 1\n",
    "fra_vocab_size = len(fra_tokenizer.word_index) + 1\n",
    "print(\"영어 단어장의 크기 : \", eng_vocab_size)\n",
    "print(\"프랑스어 단어장의 크기: \", fra_vocab_size)"
   ]
  },
  {
   "cell_type": "markdown",
   "metadata": {},
   "source": [
    "### 패딩추가를 위해서 최대 길이를 저장"
   ]
  },
  {
   "cell_type": "markdown",
   "metadata": {},
   "source": [
    "### 디코더의 데이터 수정"
   ]
  },
  {
   "cell_type": "markdown",
   "metadata": {},
   "source": [
    "주의!  \n",
    "- 디코더의 입력에는 ```<eos>``` 토큰이 필요없음\n",
    "- 디코더의 출력과 비교할 시퀀스는 ```<sos>```가 필요"
   ]
  },
  {
   "cell_type": "code",
   "execution_count": 10,
   "metadata": {},
   "outputs": [],
   "source": [
    "encoder_input = input_text\n",
    "\n",
    "# 종료 토큰 제거\n",
    "decoder_input = [[ char for char in line if char != fra_tokenizer.word_index[eos_token] ] for line in target_text]\n",
    "# 시작 토큰 제거\n",
    "decoder_target = [[ char for char in line if char != fra_tokenizer.word_index[sos_token] ] for line in target_text]"
   ]
  },
  {
   "cell_type": "code",
   "execution_count": 11,
   "metadata": {},
   "outputs": [
    {
     "name": "stdout",
     "output_type": "stream",
     "text": [
      "[[1, 91, 12], [1, 1068, 12], [1, 1068, 3]]\n",
      "[[91, 12, 2], [1068, 12, 2], [1068, 3, 2]]\n"
     ]
    }
   ],
   "source": [
    "print(decoder_input[:3])\n",
    "print(decoder_target[:3])"
   ]
  },
  {
   "cell_type": "code",
   "execution_count": 12,
   "metadata": {},
   "outputs": [
    {
     "name": "stdout",
     "output_type": "stream",
     "text": [
      "영어 시퀀스의 최대 길이 8\n",
      "프랑스어 시퀀스의 최대 길이 17\n"
     ]
    }
   ],
   "source": [
    "max_eng_seq_len = max([len(line) for line in input_text])\n",
    "max_fra_seq_len = max([len(line) for line in target_text])\n",
    "print('영어 시퀀스의 최대 길이', max_eng_seq_len)\n",
    "print('프랑스어 시퀀스의 최대 길이', max_fra_seq_len)"
   ]
  },
  {
   "cell_type": "code",
   "execution_count": 13,
   "metadata": {},
   "outputs": [
    {
     "name": "stdout",
     "output_type": "stream",
     "text": [
      "전체 샘플의 수 : 33000\n",
      "영어 단어장의 크기 : 4662\n",
      "프랑스어 단어장의 크기 : 7326\n",
      "영어 시퀀스의 최대 길이 :  8\n",
      "프랑스어 시퀀스의 최대 길이 :  17\n"
     ]
    }
   ],
   "source": [
    "print('전체 샘플의 수 :',len(lines))\n",
    "print('영어 단어장의 크기 :', eng_vocab_size)\n",
    "print('프랑스어 단어장의 크기 :', fra_vocab_size)\n",
    "print('영어 시퀀스의 최대 길이 : ', max_eng_seq_len)\n",
    "print('프랑스어 시퀀스의 최대 길이 : ', max_fra_seq_len)"
   ]
  },
  {
   "cell_type": "markdown",
   "metadata": {},
   "source": [
    "### 패딩 추가"
   ]
  },
  {
   "cell_type": "markdown",
   "metadata": {},
   "source": [
    "패딩을 수행해줘야 한다.  \n",
    "```max_eng_seq_len```, ```max_fra_seq_len```을 활용해서 해당 길이보다 짧다면 패딩을 채워주는 것"
   ]
  },
  {
   "cell_type": "code",
   "execution_count": 14,
   "metadata": {},
   "outputs": [
    {
     "name": "stdout",
     "output_type": "stream",
     "text": [
      "영어 데이터의 크기(shape) : (33000, 8)\n",
      "프랑스어 입력데이터의 크기(shape) : (33000, 17)\n",
      "프랑스어 출력데이터의 크기(shape) : (33000, 17)\n"
     ]
    }
   ],
   "source": [
    "encoder_input = pad_sequences(encoder_input, maxlen=max_eng_seq_len, padding='post')\n",
    "decoder_input = pad_sequences(decoder_input, maxlen=max_fra_seq_len, padding='post')\n",
    "decoder_target = pad_sequences(decoder_target, maxlen=max_fra_seq_len, padding='post')\n",
    "print('영어 데이터의 크기(shape) :',np.shape(encoder_input))\n",
    "print('프랑스어 입력데이터의 크기(shape) :',np.shape(decoder_input))\n",
    "print('프랑스어 출력데이터의 크기(shape) :',np.shape(decoder_target))"
   ]
  },
  {
   "cell_type": "code",
   "execution_count": 15,
   "metadata": {},
   "outputs": [],
   "source": [
    "eng_to_index = eng_tokenizer.word_index\n",
    "index_to_eng = eng_tokenizer.index_word\n",
    "\n",
    "fra_to_index = fra_tokenizer.word_index\n",
    "index_to_fra = fra_tokenizer.index_word"
   ]
  },
  {
   "cell_type": "markdown",
   "metadata": {},
   "source": [
    "### 데이터셋 나누기\n",
    "- 데이터를 나누기 전에 먼저 한번 섞어준 후에 Training 3만개, Test 3천개로 나눈다."
   ]
  },
  {
   "cell_type": "code",
   "execution_count": 16,
   "metadata": {},
   "outputs": [
    {
     "name": "stdout",
     "output_type": "stream",
     "text": [
      "영어 데이터의 크기(shape) : (33000, 8)\n",
      "프랑스어 입력데이터의 크기(shape) : (33000, 17)\n",
      "프랑스어 출력데이터의 크기(shape) : (33000, 17)\n"
     ]
    }
   ],
   "source": [
    "print('영어 데이터의 크기(shape) :',np.shape(encoder_input))\n",
    "print('프랑스어 입력데이터의 크기(shape) :',np.shape(decoder_input))\n",
    "print('프랑스어 출력데이터의 크기(shape) :',np.shape(decoder_target))"
   ]
  },
  {
   "cell_type": "code",
   "execution_count": 17,
   "metadata": {},
   "outputs": [
    {
     "name": "stdout",
     "output_type": "stream",
     "text": [
      "[ 6045 17112 28339 ...  2455 25641   860]\n"
     ]
    }
   ],
   "source": [
    "indices = np.arange(encoder_input.shape[0])\n",
    "np.random.shuffle(indices)\n",
    "print(indices)"
   ]
  },
  {
   "cell_type": "code",
   "execution_count": 18,
   "metadata": {},
   "outputs": [],
   "source": [
    "encoder_input = encoder_input[indices]\n",
    "decoder_input = decoder_input[indices]\n",
    "decoder_target = decoder_target[indices]"
   ]
  },
  {
   "cell_type": "code",
   "execution_count": 19,
   "metadata": {},
   "outputs": [],
   "source": [
    "encoder_input_train = encoder_input[:30000]\n",
    "decoder_input_train = decoder_input[:30000]\n",
    "decoder_target_train = decoder_target[:30000]\n",
    "\n",
    "encoder_input_test = encoder_input[30000:]\n",
    "decoder_input_test = decoder_input[30000:]\n",
    "decoder_target_test = decoder_target[30000:]"
   ]
  },
  {
   "cell_type": "code",
   "execution_count": 20,
   "metadata": {},
   "outputs": [
    {
     "name": "stdout",
     "output_type": "stream",
     "text": [
      "(30000, 8)\n",
      "(30000, 17)\n",
      "(30000, 17)\n",
      "(3000, 8)\n",
      "(3000, 17)\n",
      "(3000, 17)\n"
     ]
    }
   ],
   "source": [
    "print(encoder_input_train.shape)\n",
    "print(decoder_input_train.shape)\n",
    "print(decoder_target_train.shape)\n",
    "print(encoder_input_test.shape)\n",
    "print(decoder_input_test.shape)\n",
    "print(decoder_target_test.shape)"
   ]
  },
  {
   "cell_type": "markdown",
   "metadata": {},
   "source": [
    "## 모델 훈련"
   ]
  },
  {
   "cell_type": "markdown",
   "metadata": {},
   "source": [
    "### 필요한 라이브러리 import"
   ]
  },
  {
   "cell_type": "code",
   "execution_count": 21,
   "metadata": {},
   "outputs": [],
   "source": [
    "from tensorflow.keras.layers import Input, LSTM, Embedding, Dense, Masking\n",
    "from tensorflow.keras.models import Model"
   ]
  },
  {
   "cell_type": "code",
   "execution_count": 22,
   "metadata": {},
   "outputs": [],
   "source": [
    "# LSTM의 출력 차원\n",
    "latent_dim = 32"
   ]
  },
  {
   "cell_type": "markdown",
   "metadata": {},
   "source": [
    "### 인코더 설계  \n",
    "Masking은 패딩 토큰의 숫자 0의 경우에는 연산을 제외하는 역할을 수행"
   ]
  },
  {
   "cell_type": "code",
   "execution_count": 23,
   "metadata": {},
   "outputs": [],
   "source": [
    "# 인코더 설계\n",
    "encoder_inputs = Input(shape=(None,))\n",
    "enc_emb = Embedding(eng_vocab_size, latent_dim)(encoder_inputs) # 임베딩층\n",
    "enc_masking = Masking(mask_value=0.0)(enc_emb)  # 패딩 0은 연산에서 제외\n",
    "encoder_lstm = LSTM(latent_dim, return_state=True)  # 상태값 리턴\n",
    "encoder_outputs, state_h, state_c = encoder_lstm(enc_masking)  # 은닉 상태와 셀 상태를 리턴\n",
    "encoder_states = [state_h, state_c]  # 인코더의 은닉 상태외 셀 상태를 저장"
   ]
  },
  {
   "cell_type": "markdown",
   "metadata": {},
   "source": [
    "### 디코더 설계"
   ]
  },
  {
   "cell_type": "markdown",
   "metadata": {},
   "source": [
    "- ```optimizer``` : ```rmsprop```\n",
    "- ```loss``` : ```sparse_categorical_crossentropy```\n",
    "- ```mterics``` : ```acc```"
   ]
  },
  {
   "cell_type": "code",
   "execution_count": 24,
   "metadata": {},
   "outputs": [],
   "source": [
    "# 디코더\n",
    "decoder_inputs = Input(shape=(None, ))\n",
    "dec_emb_layer = Embedding(fra_vocab_size, latent_dim)  # 임베딩 층\n",
    "dec_emb = dec_emb_layer(decoder_inputs)  # 패딩 0은 언제나 연산에서 제외\n",
    "dec_masking = Masking(mask_value=0.0)(dec_emb)\n",
    "\n",
    "# 상태값 리턴을 위해 return_state는 True, 모든 시점에 대해서 단어를 예측하기 위해 return_sequence는 True\n",
    "decoder_lstm = LSTM(latent_dim, return_sequences=True, return_state=True)\n",
    "\n",
    "# 인코더의 은닉 상태를 초기 은닉 상태 (initial_state)로 사용\n",
    "decoder_outputs, _, _ = decoder_lstm(dec_masking, initial_state=encoder_states)\n",
    "\n",
    "# 모든 시점에 결과에 대해 소프트맥스 함수를 사용한 출력층을 통해 단어 예측\n",
    "decoder_dense = Dense(fra_vocab_size, activation='softmax')\n",
    "decoder_outputs = decoder_dense(decoder_outputs)"
   ]
  },
  {
   "cell_type": "markdown",
   "metadata": {},
   "source": [
    "### 학습"
   ]
  },
  {
   "cell_type": "code",
   "execution_count": 25,
   "metadata": {},
   "outputs": [
    {
     "name": "stdout",
     "output_type": "stream",
     "text": [
      "Model: \"model\"\n",
      "__________________________________________________________________________________________________\n",
      "Layer (type)                    Output Shape         Param #     Connected to                     \n",
      "==================================================================================================\n",
      "input_1 (InputLayer)            [(None, None)]       0                                            \n",
      "__________________________________________________________________________________________________\n",
      "input_2 (InputLayer)            [(None, None)]       0                                            \n",
      "__________________________________________________________________________________________________\n",
      "embedding (Embedding)           (None, None, 32)     149184      input_1[0][0]                    \n",
      "__________________________________________________________________________________________________\n",
      "embedding_1 (Embedding)         (None, None, 32)     234432      input_2[0][0]                    \n",
      "__________________________________________________________________________________________________\n",
      "masking (Masking)               (None, None, 32)     0           embedding[0][0]                  \n",
      "__________________________________________________________________________________________________\n",
      "masking_1 (Masking)             (None, None, 32)     0           embedding_1[0][0]                \n",
      "__________________________________________________________________________________________________\n",
      "lstm (LSTM)                     [(None, 32), (None,  8320        masking[0][0]                    \n",
      "__________________________________________________________________________________________________\n",
      "lstm_1 (LSTM)                   [(None, None, 32), ( 8320        masking_1[0][0]                  \n",
      "                                                                 lstm[0][1]                       \n",
      "                                                                 lstm[0][2]                       \n",
      "__________________________________________________________________________________________________\n",
      "dense (Dense)                   (None, None, 7326)   241758      lstm_1[0][0]                     \n",
      "==================================================================================================\n",
      "Total params: 642,014\n",
      "Trainable params: 642,014\n",
      "Non-trainable params: 0\n",
      "__________________________________________________________________________________________________\n"
     ]
    }
   ],
   "source": [
    "model = Model([encoder_inputs, decoder_inputs], decoder_outputs)\n",
    "model.compile(optimizer='rmsprop', loss='sparse_categorical_crossentropy', metrics=['acc'])\n",
    "model.summary()"
   ]
  },
  {
   "cell_type": "code",
   "execution_count": 26,
   "metadata": {},
   "outputs": [
    {
     "name": "stdout",
     "output_type": "stream",
     "text": [
      "Epoch 1/50\n",
      "235/235 [==============================] - 9s 38ms/step - loss: 3.8890 - acc: 0.6101 - val_loss: 2.1206 - val_acc: 0.6128\n",
      "Epoch 2/50\n",
      "235/235 [==============================] - 7s 32ms/step - loss: 1.8707 - acc: 0.6770 - val_loss: 1.7175 - val_acc: 0.7273\n",
      "Epoch 3/50\n",
      "235/235 [==============================] - 7s 32ms/step - loss: 1.6282 - acc: 0.7367 - val_loss: 1.5773 - val_acc: 0.7450\n",
      "Epoch 4/50\n",
      "235/235 [==============================] - 8s 32ms/step - loss: 1.5250 - acc: 0.7496 - val_loss: 1.5039 - val_acc: 0.7534\n",
      "Epoch 5/50\n",
      "235/235 [==============================] - 8s 32ms/step - loss: 1.4530 - acc: 0.7615 - val_loss: 1.4327 - val_acc: 0.7681\n",
      "Epoch 6/50\n",
      "235/235 [==============================] - 8s 33ms/step - loss: 1.3869 - acc: 0.7754 - val_loss: 1.3781 - val_acc: 0.7788\n",
      "Epoch 7/50\n",
      "235/235 [==============================] - 7s 32ms/step - loss: 1.3346 - acc: 0.7837 - val_loss: 1.3377 - val_acc: 0.7844\n",
      "Epoch 8/50\n",
      "235/235 [==============================] - 7s 32ms/step - loss: 1.2927 - acc: 0.7895 - val_loss: 1.3023 - val_acc: 0.7895\n",
      "Epoch 9/50\n",
      "235/235 [==============================] - 7s 32ms/step - loss: 1.2559 - acc: 0.7949 - val_loss: 1.2707 - val_acc: 0.7951\n",
      "Epoch 10/50\n",
      "235/235 [==============================] - 7s 32ms/step - loss: 1.2225 - acc: 0.7998 - val_loss: 1.2434 - val_acc: 0.8001\n",
      "Epoch 11/50\n",
      "235/235 [==============================] - 7s 32ms/step - loss: 1.1919 - acc: 0.8044 - val_loss: 1.2160 - val_acc: 0.8046\n",
      "Epoch 12/50\n",
      "235/235 [==============================] - 8s 33ms/step - loss: 1.1641 - acc: 0.8083 - val_loss: 1.1952 - val_acc: 0.8082\n",
      "Epoch 13/50\n",
      "235/235 [==============================] - 8s 32ms/step - loss: 1.1382 - acc: 0.8116 - val_loss: 1.1785 - val_acc: 0.8082\n",
      "Epoch 14/50\n",
      "235/235 [==============================] - 8s 32ms/step - loss: 1.1147 - acc: 0.8147 - val_loss: 1.1566 - val_acc: 0.8122\n",
      "Epoch 15/50\n",
      "235/235 [==============================] - 8s 32ms/step - loss: 1.0933 - acc: 0.8175 - val_loss: 1.1432 - val_acc: 0.8150\n",
      "Epoch 16/50\n",
      "235/235 [==============================] - 8s 32ms/step - loss: 1.0737 - acc: 0.8201 - val_loss: 1.1306 - val_acc: 0.8161\n",
      "Epoch 17/50\n",
      "235/235 [==============================] - 8s 32ms/step - loss: 1.0556 - acc: 0.8226 - val_loss: 1.1164 - val_acc: 0.8166\n",
      "Epoch 18/50\n",
      "235/235 [==============================] - 8s 32ms/step - loss: 1.0387 - acc: 0.8247 - val_loss: 1.0999 - val_acc: 0.8204\n",
      "Epoch 19/50\n",
      "235/235 [==============================] - 8s 32ms/step - loss: 1.0230 - acc: 0.8267 - val_loss: 1.0891 - val_acc: 0.8212\n",
      "Epoch 20/50\n",
      "235/235 [==============================] - 8s 32ms/step - loss: 1.0076 - acc: 0.8287 - val_loss: 1.0828 - val_acc: 0.8220\n",
      "Epoch 21/50\n",
      "235/235 [==============================] - 8s 32ms/step - loss: 0.9928 - acc: 0.8309 - val_loss: 1.0669 - val_acc: 0.8243\n",
      "Epoch 22/50\n",
      "235/235 [==============================] - 8s 32ms/step - loss: 0.9786 - acc: 0.8326 - val_loss: 1.0568 - val_acc: 0.8251\n",
      "Epoch 23/50\n",
      "235/235 [==============================] - 8s 33ms/step - loss: 0.9656 - acc: 0.8346 - val_loss: 1.0483 - val_acc: 0.8269\n",
      "Epoch 24/50\n",
      "235/235 [==============================] - 8s 34ms/step - loss: 0.9536 - acc: 0.8361 - val_loss: 1.0404 - val_acc: 0.8283\n",
      "Epoch 25/50\n",
      "235/235 [==============================] - 8s 34ms/step - loss: 0.9426 - acc: 0.8380 - val_loss: 1.0342 - val_acc: 0.8279\n",
      "Epoch 26/50\n",
      "235/235 [==============================] - 8s 34ms/step - loss: 0.9323 - acc: 0.8391 - val_loss: 1.0244 - val_acc: 0.8307\n",
      "Epoch 27/50\n",
      "235/235 [==============================] - 8s 34ms/step - loss: 0.9224 - acc: 0.8407 - val_loss: 1.0204 - val_acc: 0.8313\n",
      "Epoch 28/50\n",
      "235/235 [==============================] - 8s 34ms/step - loss: 0.9132 - acc: 0.8421 - val_loss: 1.0120 - val_acc: 0.8314\n",
      "Epoch 29/50\n",
      "235/235 [==============================] - 8s 34ms/step - loss: 0.9042 - acc: 0.8433 - val_loss: 1.0033 - val_acc: 0.8341\n",
      "Epoch 30/50\n",
      "235/235 [==============================] - 8s 34ms/step - loss: 0.8954 - acc: 0.8446 - val_loss: 0.9981 - val_acc: 0.8339\n",
      "Epoch 31/50\n",
      "235/235 [==============================] - 8s 34ms/step - loss: 0.8870 - acc: 0.8457 - val_loss: 0.9973 - val_acc: 0.8345\n",
      "Epoch 32/50\n",
      "235/235 [==============================] - 8s 34ms/step - loss: 0.8788 - acc: 0.8468 - val_loss: 0.9869 - val_acc: 0.8353\n",
      "Epoch 33/50\n",
      "235/235 [==============================] - 8s 34ms/step - loss: 0.8706 - acc: 0.8481 - val_loss: 0.9821 - val_acc: 0.8359\n",
      "Epoch 34/50\n",
      "235/235 [==============================] - 8s 34ms/step - loss: 0.8630 - acc: 0.8491 - val_loss: 0.9760 - val_acc: 0.8374\n",
      "Epoch 35/50\n",
      "235/235 [==============================] - 8s 33ms/step - loss: 0.8559 - acc: 0.8501 - val_loss: 0.9706 - val_acc: 0.8383\n",
      "Epoch 36/50\n",
      "235/235 [==============================] - 8s 33ms/step - loss: 0.8493 - acc: 0.8513 - val_loss: 0.9713 - val_acc: 0.8374\n",
      "Epoch 37/50\n",
      "235/235 [==============================] - 8s 33ms/step - loss: 0.8429 - acc: 0.8524 - val_loss: 0.9663 - val_acc: 0.8378\n",
      "Epoch 38/50\n",
      "235/235 [==============================] - 8s 33ms/step - loss: 0.8367 - acc: 0.8532 - val_loss: 0.9601 - val_acc: 0.8387\n",
      "Epoch 39/50\n",
      "235/235 [==============================] - 8s 33ms/step - loss: 0.8309 - acc: 0.8543 - val_loss: 0.9567 - val_acc: 0.8395\n",
      "Epoch 40/50\n",
      "235/235 [==============================] - 8s 33ms/step - loss: 0.8252 - acc: 0.8554 - val_loss: 0.9571 - val_acc: 0.8393\n",
      "Epoch 41/50\n",
      "235/235 [==============================] - 8s 33ms/step - loss: 0.8198 - acc: 0.8563 - val_loss: 0.9524 - val_acc: 0.8400\n",
      "Epoch 42/50\n",
      "235/235 [==============================] - 8s 33ms/step - loss: 0.8148 - acc: 0.8573 - val_loss: 0.9492 - val_acc: 0.8409\n",
      "Epoch 43/50\n",
      "235/235 [==============================] - 8s 33ms/step - loss: 0.8099 - acc: 0.8582 - val_loss: 0.9470 - val_acc: 0.8408\n",
      "Epoch 44/50\n",
      "235/235 [==============================] - 8s 33ms/step - loss: 0.8050 - acc: 0.8592 - val_loss: 0.9448 - val_acc: 0.8414\n",
      "Epoch 45/50\n",
      "235/235 [==============================] - 8s 33ms/step - loss: 0.8007 - acc: 0.8598 - val_loss: 0.9460 - val_acc: 0.8412\n",
      "Epoch 46/50\n",
      "235/235 [==============================] - 8s 33ms/step - loss: 0.7963 - acc: 0.8607 - val_loss: 0.9405 - val_acc: 0.8423\n",
      "Epoch 47/50\n",
      "235/235 [==============================] - 8s 33ms/step - loss: 0.7917 - acc: 0.8616 - val_loss: 0.9370 - val_acc: 0.8430\n",
      "Epoch 48/50\n",
      "235/235 [==============================] - 8s 34ms/step - loss: 0.7877 - acc: 0.8623 - val_loss: 0.9372 - val_acc: 0.8437\n",
      "Epoch 49/50\n",
      "235/235 [==============================] - 8s 33ms/step - loss: 0.7837 - acc: 0.8629 - val_loss: 0.9349 - val_acc: 0.8434\n",
      "Epoch 50/50\n",
      "235/235 [==============================] - 8s 33ms/step - loss: 0.7795 - acc: 0.8639 - val_loss: 0.9354 - val_acc: 0.8445\n"
     ]
    },
    {
     "data": {
      "text/plain": [
       "<tensorflow.python.keras.callbacks.History at 0x7f4454f3c8d0>"
      ]
     },
     "execution_count": 26,
     "metadata": {},
     "output_type": "execute_result"
    }
   ],
   "source": [
    "model.fit(x = [encoder_input_train, decoder_input_train], y = decoder_target_train, \\\n",
    "          validation_data = ([encoder_input_test, decoder_input_test], decoder_target_test),\n",
    "          batch_size = 128, epochs = 50)"
   ]
  },
  {
   "cell_type": "markdown",
   "metadata": {},
   "source": [
    "## 모델 테스트"
   ]
  },
  {
   "cell_type": "markdown",
   "metadata": {},
   "source": [
    "#### 인코더"
   ]
  },
  {
   "cell_type": "code",
   "execution_count": 27,
   "metadata": {},
   "outputs": [
    {
     "name": "stdout",
     "output_type": "stream",
     "text": [
      "Model: \"model_1\"\n",
      "_________________________________________________________________\n",
      "Layer (type)                 Output Shape              Param #   \n",
      "=================================================================\n",
      "input_1 (InputLayer)         [(None, None)]            0         \n",
      "_________________________________________________________________\n",
      "embedding (Embedding)        (None, None, 32)          149184    \n",
      "_________________________________________________________________\n",
      "masking (Masking)            (None, None, 32)          0         \n",
      "_________________________________________________________________\n",
      "lstm (LSTM)                  [(None, 32), (None, 32),  8320      \n",
      "=================================================================\n",
      "Total params: 157,504\n",
      "Trainable params: 157,504\n",
      "Non-trainable params: 0\n",
      "_________________________________________________________________\n"
     ]
    }
   ],
   "source": [
    "encoder_model = Model(inputs = encoder_inputs, outputs = encoder_states)\n",
    "encoder_model.summary()"
   ]
  },
  {
   "cell_type": "markdown",
   "metadata": {},
   "source": [
    "#### 디코더\n",
    "- h, c의 차이는 무엇인가, LSTM의 반환되는 것이 뭐지? : ```return_sequence```, ```return_state```\n",
    "    - 위에서 설정한 LSTM 레이어에서는 sequence와 state를 return해주도록 인자를 주었음\n",
    "        - ```decoder_outputs``` : 전체 sequence의 output\n",
    "        - ```state_h2``` : memory.. state..에 대한 정보가 return 되는 것인가?\n",
    "        - ```state_c2``` : final_carry_state를 리턴하는 것 같은데 이건 뭐지..\n",
    "    - [TensorFlow 공식 문서 참고 링크](https://www.tensorflow.org/api_docs/python/tf/keras/layers/LSTM#for_example_2)\n",
    "- 인코더와 디코더의 임베딩층은 서로 다른 임베딩 층을 사용\n",
    "- 디코더의 훈련과 테스트는 같은 임베딩 층을 사용"
   ]
  },
  {
   "cell_type": "code",
   "execution_count": 28,
   "metadata": {},
   "outputs": [],
   "source": [
    "# 디코더 설계\n",
    "# 이전 시점의 상태롤 보관할 텐서\n",
    "decoder_state_input_h = Input(shape=(latent_dim,))\n",
    "decoder_state_input_c = Input(shape=(latent_dim,))\n",
    "decoder_states_inputs = [decoder_state_input_h, decoder_state_input_c]\n",
    "\n",
    "# train 때 사용했던 임베딩 층을 재사용..\n",
    "dec_emb2 = dec_emb_layer(decoder_inputs)\n",
    "\n",
    "# 다음 단어 예측을 위해 이전 시점의 상태를 현 시점의 초기 상태로 사용\n",
    "decoder_outputs2, state_h2, state_c2 = decoder_lstm(dec_emb2, initial_state=decoder_states_inputs)\n",
    "decoder_states2 = [state_h2, state_c2]\n",
    "\n",
    "# 모든 시점에 대해서 단여 예측\n",
    "decoder_outputs2 = decoder_dense(decoder_outputs2)"
   ]
  },
  {
   "cell_type": "code",
   "execution_count": 29,
   "metadata": {},
   "outputs": [],
   "source": [
    "# 디코더 정의\n",
    "decoder_model = Model(\n",
    "    [decoder_inputs] + decoder_states_inputs,\n",
    "    [decoder_outputs2] + decoder_states2\n",
    ")"
   ]
  },
  {
   "cell_type": "code",
   "execution_count": 30,
   "metadata": {},
   "outputs": [],
   "source": [
    "def decode_sequence(input_seq):\n",
    "    # 입력으로부터 인코더의 상태를 얻음\n",
    "    states_value = encoder_model.predict(input_seq)\n",
    "\n",
    "    # <SOS>에 해당하는 정수 생성\n",
    "    target_seq = np.zeros((1,1))\n",
    "    target_seq[0, 0] = fra_to_index['<sos>']\n",
    "\n",
    "    stop_condition = False\n",
    "    decoded_sentence = ''\n",
    "\n",
    "    # stop_condition이 True가 될 때까지 루프 반복\n",
    "    # 구현의 간소화를 위해서 이 함수는 배치 크기를 1로 가정합니다.\n",
    "    while not stop_condition:\n",
    "        # 이점 시점의 상태 states_value를 현 시점의 초기 상태로 사용\n",
    "        output_tokens, h, c = decoder_model.predict([target_seq] + states_value)\n",
    "\n",
    "        # 예측 결과를 단어로 변환\n",
    "        sampled_token_index = np.argmax(output_tokens[0, -1, :])\n",
    "        sampled_char = index_to_fra[sampled_token_index]\n",
    "\n",
    "         # 현재 시점의 예측 단어를 예측 문장에 추가\n",
    "        decoded_sentence += ' '+sampled_char\n",
    "\n",
    "        # <eos>에 도달하거나 정해진 길이를 넘으면 중단.\n",
    "        if (sampled_char == '<eos>' or\n",
    "           len(decoded_sentence) > 50):\n",
    "            stop_condition = True\n",
    "\n",
    "        # 현재 시점의 예측 결과를 다음 시점의 입력으로 사용하기 위해 저장\n",
    "        target_seq = np.zeros((1,1))\n",
    "        target_seq[0, 0] = sampled_token_index\n",
    "\n",
    "        # 현재 시점의 상태를 다음 시점의 상태로 사용하기 위해 저장\n",
    "        states_value = [h, c]\n",
    "\n",
    "    return decoded_sentence"
   ]
  },
  {
   "cell_type": "markdown",
   "metadata": {},
   "source": [
    "### 결과 확인을 위한 함수"
   ]
  },
  {
   "cell_type": "code",
   "execution_count": 31,
   "metadata": {},
   "outputs": [],
   "source": [
    "def seq2eng(input_seq):\n",
    "    temp = ''\n",
    "    for i in input_seq :\n",
    "        if(i!=0):\n",
    "            temp = temp + index_to_eng[i] + ' '\n",
    "    return temp\n",
    "\n",
    "# 번역문의 정수 시퀀스를 텍스트 시퀀스로 변환\n",
    "def seq2fra(input_seq):\n",
    "    temp = ''\n",
    "    for i in input_seq:\n",
    "        if ((i!=0 and i!=fra_to_index['<sos>']) and i!=fra_to_index['<eos>']):\n",
    "            temp = temp + index_to_fra[i] + ' '\n",
    "    return temp"
   ]
  },
  {
   "cell_type": "markdown",
   "metadata": {},
   "source": [
    "훈련 데이터에 대해서 임의로 선택한 인덱스의 샘플 결과를 출력"
   ]
  },
  {
   "cell_type": "code",
   "execution_count": 32,
   "metadata": {},
   "outputs": [
    {
     "name": "stdout",
     "output_type": "stream",
     "text": [
      "원문 :  i don t like my job . \n",
      "번역문 :  je n aime pas mon boulot . \n",
      "예측문 :   je n aime pas mon r ponse . \n",
      "\n",
      "\n",
      "원문 :  don t talk nonsense . \n",
      "번역문 :  ne dis pas de sottises . \n",
      "예측문 :   ne me sont pas des argent . \n",
      "\n",
      "\n",
      "원문 :  it was rather funny . \n",
      "번역문 :  ce fut plut t amusant . \n",
      "예측문 :   c tait assez ? \n",
      "\n",
      "\n",
      "원문 :  i have no friends . \n",
      "번역문 :  je n ai pas d amis . \n",
      "예측문 :   je n ai pas de enfants . \n",
      "\n",
      "\n",
      "원문 :  life is crazy . \n",
      "번역문 :  la vie est dingue . \n",
      "예측문 :   la vie est s . \n",
      "\n",
      "\n"
     ]
    }
   ],
   "source": [
    "for seq_index in [3, 50, 100, 600, 2005]:\n",
    "    input_seq = encoder_input_train[seq_index: seq_index + 1]\n",
    "    decoded_sentence = decode_sequence(input_seq)\n",
    "    \n",
    "    print(\"원문 : \", seq2eng(encoder_input_train[seq_index]))\n",
    "    print(\"번역문 : \", seq2fra(decoder_input_train[seq_index]))\n",
    "    print(\"예측문 : \", decoded_sentence[:-5])\n",
    "    print('\\n')"
   ]
  },
  {
   "cell_type": "markdown",
   "metadata": {},
   "source": [
    "# 정리\n",
    "---\n",
    "1. 텍스트 전처리\n",
    "    ```python\n",
    "    sentence = re.sub(r\"([?.!,¿])\", r\" \\1 \", sentence)   # 1\n",
    "    sentence = re.sub(r\"[^a-zA-Z!.?]+\", r\" \", sentence)  # 2\n",
    "    sentence = re.sub(r\"\\s+\", r\" \", sentence)            # 3\n",
    "    \n",
    "    sentence = sentence.lower()                          # 4\n",
    "    ```\n",
    "    - 1 : 구분자 앞뒤로 공백을 추가\n",
    "    - 2 : 소문자, 대문자 알파벳, 구분자를 제외한 문자 공백으로 치환\n",
    "    - 3 : 여러 공백문자들을 하나의 공백으로 치환\n",
    "    - 4 : 문장을 소문자로 바꿔준다\n",
    "    \n",
    "2. 학습 진행\n",
    "    ```\n",
    "    Epoch 1/50\n",
    "235/235 [==============================] - 9s 38ms/step - loss: 3.8890 - acc: 0.6101 - val_loss: 2.1206 - val_acc: 0.6128\n",
    "Epoch 2/50\n",
    "235/235 [==============================] - 7s 32ms/step - loss: 1.8707 - acc: 0.6770 - val_loss: 1.7175 - val_acc: 0.7273\n",
    "    .\n",
    "    .\n",
    "    .\n",
    "    Epoch 49/50\n",
    "235/235 [==============================] - 8s 33ms/step - loss: 0.7837 - acc: 0.8629 - val_loss: 0.9349 - val_acc: 0.8434\n",
    "Epoch 50/50\n",
    "235/235 [==============================] - 8s 33ms/step - loss: 0.7795 - acc: 0.8639 - val_loss: 0.9354 - val_acc: 0.8445\n",
    "    ```\n",
    "    validation loss가 안정적으로 떨어지면서 0.9354까지 떨어지면서 학습 중간에 오르기 시작하는 현상(Overfitting)은 관찰되지 않았다.\n",
    "    \n",
    "3. 테스트용 디코더의 경우 input을 2개로 받아오면서 이전에 학습할때 사용한 디코더와는 구조가 다르다.\n",
    "    - 원래 들어오는 input + input의 상태\n",
    "    - 이전 시점에서 나오는 outputs과 그 상태"
   ]
  },
  {
   "cell_type": "code",
   "execution_count": null,
   "metadata": {},
   "outputs": [],
   "source": []
  }
 ],
 "metadata": {
  "kernelspec": {
   "display_name": "aiffel",
   "language": "python",
   "name": "aiffel"
  },
  "language_info": {
   "codemirror_mode": {
    "name": "ipython",
    "version": 3
   },
   "file_extension": ".py",
   "mimetype": "text/x-python",
   "name": "python",
   "nbconvert_exporter": "python",
   "pygments_lexer": "ipython3",
   "version": "3.7.6"
  },
  "toc": {
   "base_numbering": 1,
   "nav_menu": {},
   "number_sections": true,
   "sideBar": true,
   "skip_h1_title": false,
   "title_cell": "Table of Contents",
   "title_sidebar": "Contents",
   "toc_cell": false,
   "toc_position": {},
   "toc_section_display": true,
   "toc_window_display": false
  }
 },
 "nbformat": 4,
 "nbformat_minor": 4
}
