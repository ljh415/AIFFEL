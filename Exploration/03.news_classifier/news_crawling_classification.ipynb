{
 "cells": [
  {
   "cell_type": "markdown",
   "metadata": {},
   "source": [
    "# 다음 사항들을 바꿔가면서 학습 해보기"
   ]
  },
  {
   "cell_type": "markdown",
   "metadata": {},
   "source": [
    "### 1) KoNLPy 토크나이저 클래스\n",
    "- Mecab\n",
    "    - 메카브, 일본어용 형태소 분석기를 한국어를 사용할 수 있도록 수정\n",
    "    - https://bitbucket.org/eunjeon/mecab-ko\n",
    "- Hannanum\n",
    "    - 한나눔, KAIST Semantic Web Research Center 개발\n",
    "    - http://semanticweb.kaist.ac.kr/hannanum/\n",
    "- Kkma\n",
    "    - 꼬꼬마, 서울대학교 IDS(Intelligent Data System)연구실 개발\n",
    "    - http://kkma.snu.ac.kr/\n",
    "- Komoran\n",
    "    - 코모란. Shineware에서 개발\n",
    "    - https://github.com/shin285/KOMORAN\n",
    "- Okt\n",
    "    - Open Korean Text, 오픈소스 한국어 분석기, 과거 트위치 형태소 분석기\n",
    "    - https://github.com/open-korean-text/open-korean-text"
   ]
  },
  {
   "cell_type": "markdown",
   "metadata": {},
   "source": [
    "### 2) 불용어 추가\n",
    "- 데이터를 출력해 보고, 불용어를 총 50개가 될 때까지 추가해본다.\n",
    "- 추가 전, 후의 모델 성능을 비교해본다."
   ]
  },
  {
   "cell_type": "markdown",
   "metadata": {},
   "source": [
    "### 3) 다른 날짜 데이터 추가\n",
    "- 5월6일 데이터와 추가로 수집된 데이터를 적절히 합치려면?\n",
    "- 어떻게 해야지 적절히 섞을지?"
   ]
  },
  {
   "cell_type": "markdown",
   "metadata": {},
   "source": [
    "---\n",
    "- 제공 받은 데이터셋 : 2020년 4월 15일자 뉴스\n",
    "- 프로젝트 내의 ```code_list = [101, 102, 103, 105]```로 50개씩 다운로드\n",
    "\n",
    "#### 그렇다면 5월 6일의 기사와 4월 15일의 기사를 합쳐서 학습을 하면 될 것이다.\n",
    "---"
   ]
  },
  {
   "cell_type": "markdown",
   "metadata": {},
   "source": [
    "## 1. 라이브러리 import"
   ]
  },
  {
   "cell_type": "code",
   "execution_count": 155,
   "metadata": {},
   "outputs": [],
   "source": [
    "import os\n",
    "from glob import glob\n",
    "import pandas as pd\n",
    "\n",
    "from konlpy.tag import Mecab, Hannanum, Kkma, Komoran, Okt\n",
    "from sklearn.model_selection import train_test_split\n",
    "from sklearn.feature_extraction.text import CountVectorizer, TfidfTransformer\n",
    "from sklearn.naive_bayes import MultinomialNB\n",
    "from sklearn.linear_model import SGDClassifier\n",
    "from sklearn import metrics\n",
    "\n",
    "import re\n",
    "from tqdm.notebook import tqdm"
   ]
  },
  {
   "cell_type": "markdown",
   "metadata": {},
   "source": [
    "## 2. 데이터 불러오기\n",
    "- 읽어서 데이터 프레임에 저장\n",
    "- 5월 6일 데이터 + 4월 15일 데이터를 합치도록 한다."
   ]
  },
  {
   "cell_type": "code",
   "execution_count": 171,
   "metadata": {},
   "outputs": [
    {
     "data": {
      "text/html": [
       "<div>\n",
       "<style scoped>\n",
       "    .dataframe tbody tr th:only-of-type {\n",
       "        vertical-align: middle;\n",
       "    }\n",
       "\n",
       "    .dataframe tbody tr th {\n",
       "        vertical-align: top;\n",
       "    }\n",
       "\n",
       "    .dataframe thead th {\n",
       "        text-align: right;\n",
       "    }\n",
       "</style>\n",
       "<table border=\"1\" class=\"dataframe\">\n",
       "  <thead>\n",
       "    <tr style=\"text-align: right;\">\n",
       "      <th></th>\n",
       "      <th>news</th>\n",
       "      <th>code</th>\n",
       "    </tr>\n",
       "  </thead>\n",
       "  <tbody>\n",
       "    <tr>\n",
       "      <th>0</th>\n",
       "      <td>파주시청. 사진제공=파주시 파주시청. 사진제공=파주시\\n\\n[파주=파이낸셜뉴스 강근...</td>\n",
       "      <td>사회</td>\n",
       "    </tr>\n",
       "    <tr>\n",
       "      <th>1</th>\n",
       "      <td>동영상 뉴스\\n\\n이천 물류창고 화재 발화지점으로 지목된 지하 2층에서 산소절단기의...</td>\n",
       "      <td>사회</td>\n",
       "    </tr>\n",
       "    <tr>\n",
       "      <th>2</th>\n",
       "      <td>황범순 의정부시 부시장 을지대학교 의정부캠퍼스 및 부속병원 공사현장 안전점검. 사진...</td>\n",
       "      <td>사회</td>\n",
       "    </tr>\n",
       "    <tr>\n",
       "      <th>3</th>\n",
       "      <td>귀갓길 여성을 쫓아가 성범죄를 시도한 20대 남성이 구속됐습니다.서울 강남경찰서는 ...</td>\n",
       "      <td>사회</td>\n",
       "    </tr>\n",
       "    <tr>\n",
       "      <th>4</th>\n",
       "      <td>(서울=연합뉴스) 대한약사회가 6일부터 코로나바이러스 감염증 대응 체계를 '사회적 ...</td>\n",
       "      <td>사회</td>\n",
       "    </tr>\n",
       "  </tbody>\n",
       "</table>\n",
       "</div>"
      ],
      "text/plain": [
       "                                                news code\n",
       "0  파주시청. 사진제공=파주시 파주시청. 사진제공=파주시\\n\\n[파주=파이낸셜뉴스 강근...   사회\n",
       "1  동영상 뉴스\\n\\n이천 물류창고 화재 발화지점으로 지목된 지하 2층에서 산소절단기의...   사회\n",
       "2  황범순 의정부시 부시장 을지대학교 의정부캠퍼스 및 부속병원 공사현장 안전점검. 사진...   사회\n",
       "3  귀갓길 여성을 쫓아가 성범죄를 시도한 20대 남성이 구속됐습니다.서울 강남경찰서는 ...   사회\n",
       "4  (서울=연합뉴스) 대한약사회가 6일부터 코로나바이러스 감염증 대응 체계를 '사회적 ...   사회"
      ]
     },
     "execution_count": 171,
     "metadata": {},
     "output_type": "execute_result"
    }
   ],
   "source": [
    "csv_paths = glob(os.getenv(\"HOME\") + \"/aiffel/news_crawler/*.csv\")\n",
    "df = pd.DataFrame()\n",
    "\n",
    "for csv_path in csv_paths :\n",
    "    df = df.append(pd.read_table(csv_path, sep=','), ignore_index=True)\n",
    "    \n",
    "df.head()"
   ]
  },
  {
   "cell_type": "markdown",
   "metadata": {},
   "source": [
    "#### 한글을 제외한 문자 제거\n",
    "- 기존의 코드\n",
    "```python\n",
    "df['news'] = df['news'].str.replace(\"[^ㄱ-ㅎㅏ-ㅣ가-힣 ]\",\"\")\n",
    "df['news']\n",
    "```\n",
    "- 정규식을 활용해서 태그, 한글을 제외한 문자들을 변경\n",
    "    - 태그 : 공백\n",
    "    - 한글+공백 제외한 문자 : 제거"
   ]
  },
  {
   "cell_type": "code",
   "execution_count": 172,
   "metadata": {},
   "outputs": [
    {
     "data": {
      "text/html": [
       "<div>\n",
       "<style scoped>\n",
       "    .dataframe tbody tr th:only-of-type {\n",
       "        vertical-align: middle;\n",
       "    }\n",
       "\n",
       "    .dataframe tbody tr th {\n",
       "        vertical-align: top;\n",
       "    }\n",
       "\n",
       "    .dataframe thead th {\n",
       "        text-align: right;\n",
       "    }\n",
       "</style>\n",
       "<table border=\"1\" class=\"dataframe\">\n",
       "  <thead>\n",
       "    <tr style=\"text-align: right;\">\n",
       "      <th></th>\n",
       "      <th>news</th>\n",
       "      <th>code</th>\n",
       "    </tr>\n",
       "  </thead>\n",
       "  <tbody>\n",
       "    <tr>\n",
       "      <th>0</th>\n",
       "      <td>파주시청 사진제공파주시 파주시청 사진제공파주시  파주파이낸셜뉴스 강근주 기자 파주시...</td>\n",
       "      <td>사회</td>\n",
       "    </tr>\n",
       "    <tr>\n",
       "      <th>1</th>\n",
       "      <td>동영상 뉴스  이천 물류창고 화재 발화지점으로 지목된 지하 층에서 산소절단기의 산소...</td>\n",
       "      <td>사회</td>\n",
       "    </tr>\n",
       "    <tr>\n",
       "      <th>2</th>\n",
       "      <td>황범순 의정부시 부시장 을지대학교 의정부캠퍼스 및 부속병원 공사현장 안전점검 사진제...</td>\n",
       "      <td>사회</td>\n",
       "    </tr>\n",
       "    <tr>\n",
       "      <th>3</th>\n",
       "      <td>귀갓길 여성을 쫓아가 성범죄를 시도한 대 남성이 구속됐습니다서울 강남경찰서는 강간상...</td>\n",
       "      <td>사회</td>\n",
       "    </tr>\n",
       "    <tr>\n",
       "      <th>4</th>\n",
       "      <td>서울연합뉴스 대한약사회가 일부터 코로나바이러스 감염증 대응 체계를 '사회적 거리두기...</td>\n",
       "      <td>사회</td>\n",
       "    </tr>\n",
       "  </tbody>\n",
       "</table>\n",
       "</div>"
      ],
      "text/plain": [
       "                                                news code\n",
       "0  파주시청 사진제공파주시 파주시청 사진제공파주시  파주파이낸셜뉴스 강근주 기자 파주시...   사회\n",
       "1  동영상 뉴스  이천 물류창고 화재 발화지점으로 지목된 지하 층에서 산소절단기의 산소...   사회\n",
       "2  황범순 의정부시 부시장 을지대학교 의정부캠퍼스 및 부속병원 공사현장 안전점검 사진제...   사회\n",
       "3  귀갓길 여성을 쫓아가 성범죄를 시도한 대 남성이 구속됐습니다서울 강남경찰서는 강간상...   사회\n",
       "4  서울연합뉴스 대한약사회가 일부터 코로나바이러스 감염증 대응 체계를 '사회적 거리두기...   사회"
      ]
     },
     "execution_count": 172,
     "metadata": {},
     "output_type": "execute_result"
    }
   ],
   "source": [
    "pattern1 = re.compile(\"[\\\\n]\")\n",
    "pattern2 = re.compile(\"[^ㄱ-ㅎㅏ-ㅣ가-힣' ' ]\")\n",
    "\n",
    "df['news'] = df['news'].map(lambda x : pattern1.sub(' ', x))\n",
    "df['news'] = df['news'].map(lambda x : pattern2.sub('', x))\n",
    "df.head()"
   ]
  },
  {
   "cell_type": "markdown",
   "metadata": {},
   "source": [
    "#### null값 확인"
   ]
  },
  {
   "cell_type": "code",
   "execution_count": 173,
   "metadata": {},
   "outputs": [
    {
     "name": "stdout",
     "output_type": "stream",
     "text": [
      "news    0\n",
      "code    0\n",
      "dtype: int64\n"
     ]
    }
   ],
   "source": [
    "print(df.isnull().sum())"
   ]
  },
  {
   "cell_type": "markdown",
   "metadata": {},
   "source": [
    "#### 중복확인\n",
    "- 기존에 8827개의 기사가 6127개로 줄었다. 중복된 기사들을 제거했다."
   ]
  },
  {
   "cell_type": "code",
   "execution_count": 174,
   "metadata": {},
   "outputs": [
    {
     "name": "stdout",
     "output_type": "stream",
     "text": [
      "뉴스 기사의 개수:  6127\n"
     ]
    }
   ],
   "source": [
    "# 중복된 샘플들을 제거합니다.\n",
    "df.drop_duplicates(subset=['news'], inplace=True)\n",
    "\n",
    "print('뉴스 기사의 개수: ',len(df))"
   ]
  },
  {
   "cell_type": "code",
   "execution_count": 175,
   "metadata": {
    "scrolled": true
   },
   "outputs": [
    {
     "name": "stdout",
     "output_type": "stream",
     "text": [
      "    code  count\n",
      "0  IT/과학   1138\n",
      "1     경제    901\n",
      "2     사회   2222\n",
      "3  생활/문화   1866\n"
     ]
    }
   ],
   "source": [
    "# df['code'].value_counts().plot(kind = 'bar')\n",
    "print(df.groupby('code').size().reset_index(name = 'count'))"
   ]
  },
  {
   "cell_type": "markdown",
   "metadata": {},
   "source": [
    "#### 불용어 파일 불러오기\n",
    "- https://www.ranks.nl/stopwords/korean\n",
    "    - 위에서 제공하는 불용어 활용"
   ]
  },
  {
   "cell_type": "code",
   "execution_count": 176,
   "metadata": {},
   "outputs": [
    {
     "name": "stdout",
     "output_type": "stream",
     "text": [
      "불용어 총 갯수 : 677\n",
      "['아\\n', '휴\\n', '아이구\\n', '아이쿠\\n', '아이고\\n', '어\\n', '나\\n', '우리\\n', '저희\\n', '따라\\n']\n",
      "\\n 태그 없애기 수행\n"
     ]
    },
    {
     "data": {
      "application/vnd.jupyter.widget-view+json": {
       "model_id": "74db87d1ab2e4eceb1dcd0e087bb3fb6",
       "version_major": 2,
       "version_minor": 0
      },
      "text/plain": [
       "HBox(children=(FloatProgress(value=0.0, max=677.0), HTML(value='')))"
      ]
     },
     "metadata": {},
     "output_type": "display_data"
    },
    {
     "name": "stdout",
     "output_type": "stream",
     "text": [
      "\n",
      "['아', '휴', '아이구', '아이쿠', '아이고', '어', '나', '우리', '저희', '따라']\n"
     ]
    }
   ],
   "source": [
    "pattern = re.compile(\"[^ㄱ-ㅎㅏ-ㅣ가-힣' ' ]\")\n",
    "stopwords = []\n",
    "\n",
    "# txt파일 읽기\n",
    "f = open(\"/home/aiffel0042/aiffel/news_crawler/stopwords/ranksnl-korean.txt\")\n",
    "while True:\n",
    "    line = f.readline()\n",
    "    if not line :\n",
    "        break\n",
    "    stopwords.append(line)\n",
    "f.close()\n",
    "\n",
    "print(\"불용어 총 갯수 : {}\".format(len(stopwords)))\n",
    "print(stopwords[:10])\n",
    "print(\"\\\\n 태그 없애기 수행\")\n",
    "\n",
    "for i in tqdm(range(len(stopwords))):\n",
    "    stopwords[i] = pattern.sub('', stopwords[i])\n",
    "\n",
    "print(stopwords[:10])"
   ]
  },
  {
   "cell_type": "markdown",
   "metadata": {},
   "source": [
    "## 3. 전처리 ~ 학습\n",
    "- ```process``` 함수 생성\n",
    "    - ```news_df``` : 뉴스 내용, 카테고리가 담긴 데이터 프레임\n",
    "    - ```token``` : tokenizer선택 (Mecab, Hannanum, Kkma, Komoran, Okt / default = Mecab)\n",
    "- 다음과 같이 진행\n",
    "    1. input data(news_df)로 부터 입력받은 tokenizer로 기사내용을 토큰화\n",
    "    2. 불용어 제거\n",
    "    3. 데이터셋 나누기 (train:test = 8:2, 랜덤O)\n",
    "    4. 훈련 기사 벡터화, tfidf구하기"
   ]
  },
  {
   "cell_type": "code",
   "execution_count": 177,
   "metadata": {},
   "outputs": [],
   "source": [
    "def process(news_df, token='Mecab'):\n",
    "    print('-'*20)\n",
    "    \n",
    "    # 토크나이저 설정\n",
    "    if token == 'Mecab':\n",
    "        tokenizer = Mecab()\n",
    "        pass\n",
    "    elif token == 'Hannanum':\n",
    "        tokenizer = Hannanum()\n",
    "        pass\n",
    "    elif token == 'Kkma':\n",
    "        tokenizer = Kkma()\n",
    "        pass\n",
    "    elif token == 'Komoran':\n",
    "        tokenizer = Komoran()\n",
    "        pass\n",
    "    elif token == 'Okt':\n",
    "        tokenizer = Okt()\n",
    "        pass\n",
    "    else :\n",
    "        print(\"Wrong Tokenizer Input\")\n",
    "        return False\n",
    "    \n",
    "    print(\"Tokenizer : {}\".format(token))\n",
    "    print('-'*20)\n",
    "    \n",
    "    # 불용어 제거\n",
    "    # 기사를 토큰으로 먼저 나누고 각 토큰과 불용어 사전을 비교\n",
    "    news_article = news_df['news']\n",
    "    text_data = []\n",
    "    print(\"토큰화, 불용어 제거 진행중..\")\n",
    "    for sentence in tqdm(news_article):\n",
    "        tmp_data = []\n",
    "        # 토큰화\n",
    "        tmp_data = tokenizer.morphs(sentence)\n",
    "        # 불용어 제거\n",
    "        tmp_data = [word for word in tmp_data if not word in stopwords]\n",
    "        text_data.append(tmp_data)\n",
    "    # 불용어를 제거한 기사의 토큰들이 text_data에 담기게 된다\n",
    "    text_data = list(map(' '.join, text_data))\n",
    "    print('불용어 제거 완료')\n",
    "    \n",
    "    \n",
    "    # 학습, 평가 데이터 나누기\n",
    "    # random_state인자를 줌으로써 랜덤하게 데이터를 나눔\n",
    "    X_train, X_test, y_train, y_test = train_test_split(text_data, news_df['code'], random_state = 77)\n",
    "    print('-'*20)\n",
    "    \n",
    "    # 개수는 어떤 토크나이저이든 같은 비율로 나누어 질 것이다\n",
    "    # 그렇기 때문에 밑에서 학습을 시킬 때 Mecab을 시작으로 다른 모델을 참고하기 때문에\n",
    "    # 다음과 같은 조건을 줬음\n",
    "    if token == 'Mecab' :\n",
    "        print('훈련용 뉴스 기사의 개수 :', len(X_train))\n",
    "        print('테스트용 뉴스 기사의 개수 : ', len(X_test))\n",
    "        print('훈련용 레이블의 개수 : ', len(y_train))\n",
    "        print('테스트용 레이블의 개수 : ', len(y_test))\n",
    "\n",
    "    print('-'*20)\n",
    "    print('학습중')\n",
    "    print('-'*20)\n",
    "    \n",
    "    # 카운트벡터라이저\n",
    "    count_vect = CountVectorizer()\n",
    "    X_train_counts = count_vect.fit_transform(X_train)\n",
    "    \n",
    "    # 카운터 벡터라이저의 결과로 tf-idf\n",
    "    tfidf_transformer = TfidfTransformer()\n",
    "    X_train_tfidf = tfidf_transformer.fit_transform(X_train_counts)\n",
    "    \n",
    "    # 나이브 베이즈 분류기 수행\n",
    "    # X_Train => tf-idf벡터, y_train => 레이블\n",
    "#     clf = MultinomialNB().fit(X_train_tfidf, y_train)\n",
    "\n",
    "    # 기존의 나이브 베이즈 분류기가 낮은 점수를 보여서 SGDClassifier로 학습\n",
    "    clf = SGDClassifier().fit(X_train_tfidf, y_train)\n",
    "    \n",
    "    def tfidf_vectorizer(data):\n",
    "        data_counts = count_vect.transform(data)\n",
    "        data_tfidf = tfidf_transformer.transform(data_counts)\n",
    "        return data_tfidf\n",
    "    \n",
    "    print(\"테스트 데이터 예측\")\n",
    "    \n",
    "    y_pred = clf.predict(tfidf_vectorizer(X_test))\n",
    "    result = metrics.classification_report(y_test, y_pred)\n",
    "    print(\"완료\\n\")\n",
    "    print(result)\n",
    "    print('-'*30)\n",
    "    print('\\n\\n')\n",
    "    \n",
    "    return result"
   ]
  },
  {
   "cell_type": "markdown",
   "metadata": {},
   "source": [
    "### 학습 시작"
   ]
  },
  {
   "cell_type": "code",
   "execution_count": 181,
   "metadata": {},
   "outputs": [
    {
     "name": "stdout",
     "output_type": "stream",
     "text": [
      "--------------------\n",
      "Tokenizer : Mecab\n",
      "--------------------\n",
      "토큰화, 불용어 제거 진행중..\n"
     ]
    },
    {
     "data": {
      "application/vnd.jupyter.widget-view+json": {
       "model_id": "938009d6629c413dad88bf6845e0f852",
       "version_major": 2,
       "version_minor": 0
      },
      "text/plain": [
       "HBox(children=(FloatProgress(value=0.0, max=6127.0), HTML(value='')))"
      ]
     },
     "metadata": {},
     "output_type": "display_data"
    },
    {
     "name": "stdout",
     "output_type": "stream",
     "text": [
      "\n",
      "불용어 제거 완료\n",
      "--------------------\n",
      "훈련용 뉴스 기사의 개수 : 4595\n",
      "테스트용 뉴스 기사의 개수 :  1532\n",
      "훈련용 레이블의 개수 :  4595\n",
      "테스트용 레이블의 개수 :  1532\n",
      "--------------------\n",
      "학습중\n",
      "--------------------\n",
      "테스트 데이터 예측\n",
      "완료\n",
      "\n",
      "              precision    recall  f1-score   support\n",
      "\n",
      "       IT/과학       0.83      0.83      0.83       284\n",
      "          경제       0.84      0.79      0.82       225\n",
      "          사회       0.88      0.88      0.88       557\n",
      "       생활/문화       0.81      0.84      0.83       466\n",
      "\n",
      "    accuracy                           0.85      1532\n",
      "   macro avg       0.84      0.84      0.84      1532\n",
      "weighted avg       0.85      0.85      0.85      1532\n",
      "\n",
      "------------------------------\n",
      "\n",
      "\n",
      "\n",
      "--------------------\n",
      "Tokenizer : Hannanum\n",
      "--------------------\n",
      "토큰화, 불용어 제거 진행중..\n"
     ]
    },
    {
     "data": {
      "application/vnd.jupyter.widget-view+json": {
       "model_id": "8c66ec0528d143b1bfdb5b444244cdde",
       "version_major": 2,
       "version_minor": 0
      },
      "text/plain": [
       "HBox(children=(FloatProgress(value=0.0, max=6127.0), HTML(value='')))"
      ]
     },
     "metadata": {},
     "output_type": "display_data"
    },
    {
     "name": "stdout",
     "output_type": "stream",
     "text": [
      "\n",
      "불용어 제거 완료\n",
      "--------------------\n",
      "--------------------\n",
      "학습중\n",
      "--------------------\n",
      "테스트 데이터 예측\n",
      "완료\n",
      "\n",
      "              precision    recall  f1-score   support\n",
      "\n",
      "       IT/과학       0.82      0.87      0.84       284\n",
      "          경제       0.86      0.80      0.83       225\n",
      "          사회       0.88      0.87      0.88       557\n",
      "       생활/문화       0.82      0.83      0.82       466\n",
      "\n",
      "    accuracy                           0.85      1532\n",
      "   macro avg       0.84      0.84      0.84      1532\n",
      "weighted avg       0.85      0.85      0.85      1532\n",
      "\n",
      "------------------------------\n",
      "\n",
      "\n",
      "\n",
      "--------------------\n",
      "Tokenizer : Kkma\n",
      "--------------------\n",
      "토큰화, 불용어 제거 진행중..\n"
     ]
    },
    {
     "data": {
      "application/vnd.jupyter.widget-view+json": {
       "model_id": "690d52797fbf405687e740b26cc24786",
       "version_major": 2,
       "version_minor": 0
      },
      "text/plain": [
       "HBox(children=(FloatProgress(value=0.0, max=6127.0), HTML(value='')))"
      ]
     },
     "metadata": {},
     "output_type": "display_data"
    },
    {
     "name": "stdout",
     "output_type": "stream",
     "text": [
      "\n",
      "불용어 제거 완료\n",
      "--------------------\n",
      "--------------------\n",
      "학습중\n",
      "--------------------\n",
      "테스트 데이터 예측\n",
      "완료\n",
      "\n",
      "              precision    recall  f1-score   support\n",
      "\n",
      "       IT/과학       0.83      0.83      0.83       284\n",
      "          경제       0.84      0.80      0.82       225\n",
      "          사회       0.88      0.87      0.88       557\n",
      "       생활/문화       0.81      0.85      0.83       466\n",
      "\n",
      "    accuracy                           0.85      1532\n",
      "   macro avg       0.84      0.84      0.84      1532\n",
      "weighted avg       0.85      0.85      0.85      1532\n",
      "\n",
      "------------------------------\n",
      "\n",
      "\n",
      "\n",
      "--------------------\n",
      "Tokenizer : Komoran\n",
      "--------------------\n",
      "토큰화, 불용어 제거 진행중..\n"
     ]
    },
    {
     "data": {
      "application/vnd.jupyter.widget-view+json": {
       "model_id": "f5faf8ac565d446d9515a5c23ae4eecb",
       "version_major": 2,
       "version_minor": 0
      },
      "text/plain": [
       "HBox(children=(FloatProgress(value=0.0, max=6127.0), HTML(value='')))"
      ]
     },
     "metadata": {},
     "output_type": "display_data"
    },
    {
     "name": "stdout",
     "output_type": "stream",
     "text": [
      "\n",
      "불용어 제거 완료\n",
      "--------------------\n",
      "--------------------\n",
      "학습중\n",
      "--------------------\n",
      "테스트 데이터 예측\n",
      "완료\n",
      "\n",
      "              precision    recall  f1-score   support\n",
      "\n",
      "       IT/과학       0.83      0.85      0.84       284\n",
      "          경제       0.86      0.80      0.83       225\n",
      "          사회       0.88      0.88      0.88       557\n",
      "       생활/문화       0.82      0.83      0.82       466\n",
      "\n",
      "    accuracy                           0.85      1532\n",
      "   macro avg       0.85      0.84      0.84      1532\n",
      "weighted avg       0.85      0.85      0.85      1532\n",
      "\n",
      "------------------------------\n",
      "\n",
      "\n",
      "\n",
      "--------------------\n",
      "Tokenizer : Okt\n",
      "--------------------\n",
      "토큰화, 불용어 제거 진행중..\n"
     ]
    },
    {
     "data": {
      "application/vnd.jupyter.widget-view+json": {
       "model_id": "629a1893d52e466da7d515402487eaed",
       "version_major": 2,
       "version_minor": 0
      },
      "text/plain": [
       "HBox(children=(FloatProgress(value=0.0, max=6127.0), HTML(value='')))"
      ]
     },
     "metadata": {},
     "output_type": "display_data"
    },
    {
     "name": "stdout",
     "output_type": "stream",
     "text": [
      "\n",
      "불용어 제거 완료\n",
      "--------------------\n",
      "--------------------\n",
      "학습중\n",
      "--------------------\n",
      "테스트 데이터 예측\n",
      "완료\n",
      "\n",
      "              precision    recall  f1-score   support\n",
      "\n",
      "       IT/과학       0.84      0.84      0.84       284\n",
      "          경제       0.83      0.78      0.81       225\n",
      "          사회       0.88      0.87      0.88       557\n",
      "       생활/문화       0.80      0.84      0.82       466\n",
      "\n",
      "    accuracy                           0.84      1532\n",
      "   macro avg       0.84      0.83      0.84      1532\n",
      "weighted avg       0.84      0.84      0.84      1532\n",
      "\n",
      "------------------------------\n",
      "\n",
      "\n",
      "\n"
     ]
    }
   ],
   "source": [
    "tokenizers = ['Mecab', 'Hannanum', 'Kkma', 'Komoran', 'Okt'] \n",
    "\n",
    "reports = []\n",
    "\n",
    "for token in tokenizers:\n",
    "    reports.append(process(df, token))\n"
   ]
  },
  {
   "cell_type": "code",
   "execution_count": 180,
   "metadata": {
    "scrolled": true
   },
   "outputs": [
    {
     "name": "stdout",
     "output_type": "stream",
     "text": [
      "Mecab\n",
      "\n",
      "              precision    recall  f1-score   support\n",
      "\n",
      "       IT/과학       0.83      0.83      0.83       284\n",
      "          경제       0.84      0.80      0.82       225\n",
      "          사회       0.88      0.88      0.88       557\n",
      "       생활/문화       0.81      0.84      0.83       466\n",
      "\n",
      "    accuracy                           0.85      1532\n",
      "   macro avg       0.84      0.84      0.84      1532\n",
      "weighted avg       0.85      0.85      0.85      1532\n",
      "\n",
      "--------------------\n",
      "\n",
      "\n",
      "Hannanum\n",
      "\n",
      "              precision    recall  f1-score   support\n",
      "\n",
      "       IT/과학       0.82      0.87      0.84       284\n",
      "          경제       0.85      0.80      0.83       225\n",
      "          사회       0.89      0.87      0.88       557\n",
      "       생활/문화       0.82      0.84      0.83       466\n",
      "\n",
      "    accuracy                           0.85      1532\n",
      "   macro avg       0.85      0.84      0.84      1532\n",
      "weighted avg       0.85      0.85      0.85      1532\n",
      "\n",
      "--------------------\n",
      "\n",
      "\n",
      "Kkma\n",
      "\n",
      "              precision    recall  f1-score   support\n",
      "\n",
      "       IT/과학       0.83      0.83      0.83       284\n",
      "          경제       0.85      0.80      0.82       225\n",
      "          사회       0.88      0.87      0.87       557\n",
      "       생활/문화       0.81      0.85      0.83       466\n",
      "\n",
      "    accuracy                           0.85      1532\n",
      "   macro avg       0.84      0.84      0.84      1532\n",
      "weighted avg       0.85      0.85      0.85      1532\n",
      "\n",
      "--------------------\n",
      "\n",
      "\n",
      "Komoran\n",
      "\n",
      "              precision    recall  f1-score   support\n",
      "\n",
      "       IT/과학       0.82      0.85      0.84       284\n",
      "          경제       0.86      0.80      0.82       225\n",
      "          사회       0.88      0.87      0.88       557\n",
      "       생활/문화       0.81      0.83      0.82       466\n",
      "\n",
      "    accuracy                           0.85      1532\n",
      "   macro avg       0.84      0.84      0.84      1532\n",
      "weighted avg       0.85      0.85      0.85      1532\n",
      "\n",
      "--------------------\n",
      "\n",
      "\n",
      "Okt\n",
      "\n",
      "              precision    recall  f1-score   support\n",
      "\n",
      "       IT/과학       0.85      0.85      0.85       284\n",
      "          경제       0.85      0.77      0.81       225\n",
      "          사회       0.88      0.87      0.87       557\n",
      "       생활/문화       0.80      0.85      0.83       466\n",
      "\n",
      "    accuracy                           0.84      1532\n",
      "   macro avg       0.84      0.83      0.84      1532\n",
      "weighted avg       0.85      0.84      0.84      1532\n",
      "\n",
      "--------------------\n",
      "\n",
      "\n"
     ]
    }
   ],
   "source": [
    "for token, report in list(zip(tokenizers, reports)):\n",
    "    print(token)\n",
    "    print('')\n",
    "    print(report)\n",
    "    print('-'*20+'\\n\\n')"
   ]
  },
  {
   "cell_type": "markdown",
   "metadata": {},
   "source": [
    "### +. 점수를 더 높일 수 있을까?\n",
    "#### 데이터의 비율을 일정하게 맞추고 해보았다.\n",
    "```\n",
    "    code  count\n",
    "0  IT/과학   1138\n",
    "1     경제    901\n",
    "2     사회   2222\n",
    "3  생활/문화   1866\n",
    "```\n",
    "- 경제에 대한 데이터는 적기 때문에 다른 분야의 데이터수를 1000개로 맞추어 주었다."
   ]
  },
  {
   "cell_type": "code",
   "execution_count": 148,
   "metadata": {},
   "outputs": [
    {
     "data": {
      "text/html": [
       "<div>\n",
       "<style scoped>\n",
       "    .dataframe tbody tr th:only-of-type {\n",
       "        vertical-align: middle;\n",
       "    }\n",
       "\n",
       "    .dataframe tbody tr th {\n",
       "        vertical-align: top;\n",
       "    }\n",
       "\n",
       "    .dataframe thead th {\n",
       "        text-align: right;\n",
       "    }\n",
       "</style>\n",
       "<table border=\"1\" class=\"dataframe\">\n",
       "  <thead>\n",
       "    <tr style=\"text-align: right;\">\n",
       "      <th></th>\n",
       "      <th>news</th>\n",
       "      <th>code</th>\n",
       "    </tr>\n",
       "  </thead>\n",
       "  <tbody>\n",
       "    <tr>\n",
       "      <th>0</th>\n",
       "      <td>파주시청 사진제공파주시 파주시청 사진제공파주시  파주파이낸셜뉴스 강근주 기자 파주시...</td>\n",
       "      <td>사회</td>\n",
       "    </tr>\n",
       "    <tr>\n",
       "      <th>1</th>\n",
       "      <td>동영상 뉴스  이천 물류창고 화재 발화지점으로 지목된 지하 층에서 산소절단기의 산소...</td>\n",
       "      <td>사회</td>\n",
       "    </tr>\n",
       "    <tr>\n",
       "      <th>2</th>\n",
       "      <td>황범순 의정부시 부시장 을지대학교 의정부캠퍼스 및 부속병원 공사현장 안전점검 사진제...</td>\n",
       "      <td>사회</td>\n",
       "    </tr>\n",
       "    <tr>\n",
       "      <th>3</th>\n",
       "      <td>귀갓길 여성을 쫓아가 성범죄를 시도한 대 남성이 구속됐습니다서울 강남경찰서는 강간상...</td>\n",
       "      <td>사회</td>\n",
       "    </tr>\n",
       "    <tr>\n",
       "      <th>4</th>\n",
       "      <td>서울연합뉴스 대한약사회가 일부터 코로나바이러스 감염증 대응 체계를 '사회적 거리두기...</td>\n",
       "      <td>사회</td>\n",
       "    </tr>\n",
       "  </tbody>\n",
       "</table>\n",
       "</div>"
      ],
      "text/plain": [
       "                                                news code\n",
       "0  파주시청 사진제공파주시 파주시청 사진제공파주시  파주파이낸셜뉴스 강근주 기자 파주시...   사회\n",
       "1  동영상 뉴스  이천 물류창고 화재 발화지점으로 지목된 지하 층에서 산소절단기의 산소...   사회\n",
       "2  황범순 의정부시 부시장 을지대학교 의정부캠퍼스 및 부속병원 공사현장 안전점검 사진제...   사회\n",
       "3  귀갓길 여성을 쫓아가 성범죄를 시도한 대 남성이 구속됐습니다서울 강남경찰서는 강간상...   사회\n",
       "4  서울연합뉴스 대한약사회가 일부터 코로나바이러스 감염증 대응 체계를 '사회적 거리두기...   사회"
      ]
     },
     "execution_count": 148,
     "metadata": {},
     "output_type": "execute_result"
    }
   ],
   "source": [
    "df.head()"
   ]
  },
  {
   "cell_type": "code",
   "execution_count": 149,
   "metadata": {},
   "outputs": [
    {
     "name": "stdout",
     "output_type": "stream",
     "text": [
      "1000\n"
     ]
    },
    {
     "data": {
      "text/html": [
       "<div>\n",
       "<style scoped>\n",
       "    .dataframe tbody tr th:only-of-type {\n",
       "        vertical-align: middle;\n",
       "    }\n",
       "\n",
       "    .dataframe tbody tr th {\n",
       "        vertical-align: top;\n",
       "    }\n",
       "\n",
       "    .dataframe thead th {\n",
       "        text-align: right;\n",
       "    }\n",
       "</style>\n",
       "<table border=\"1\" class=\"dataframe\">\n",
       "  <thead>\n",
       "    <tr style=\"text-align: right;\">\n",
       "      <th></th>\n",
       "      <th>news</th>\n",
       "      <th>code</th>\n",
       "    </tr>\n",
       "  </thead>\n",
       "  <tbody>\n",
       "    <tr>\n",
       "      <th>0</th>\n",
       "      <td>파주시청 사진제공파주시 파주시청 사진제공파주시  파주파이낸셜뉴스 강근주 기자 파주시...</td>\n",
       "      <td>사회</td>\n",
       "    </tr>\n",
       "    <tr>\n",
       "      <th>1</th>\n",
       "      <td>동영상 뉴스  이천 물류창고 화재 발화지점으로 지목된 지하 층에서 산소절단기의 산소...</td>\n",
       "      <td>사회</td>\n",
       "    </tr>\n",
       "    <tr>\n",
       "      <th>2</th>\n",
       "      <td>황범순 의정부시 부시장 을지대학교 의정부캠퍼스 및 부속병원 공사현장 안전점검 사진제...</td>\n",
       "      <td>사회</td>\n",
       "    </tr>\n",
       "    <tr>\n",
       "      <th>3</th>\n",
       "      <td>귀갓길 여성을 쫓아가 성범죄를 시도한 대 남성이 구속됐습니다서울 강남경찰서는 강간상...</td>\n",
       "      <td>사회</td>\n",
       "    </tr>\n",
       "    <tr>\n",
       "      <th>4</th>\n",
       "      <td>서울연합뉴스 대한약사회가 일부터 코로나바이러스 감염증 대응 체계를 '사회적 거리두기...</td>\n",
       "      <td>사회</td>\n",
       "    </tr>\n",
       "  </tbody>\n",
       "</table>\n",
       "</div>"
      ],
      "text/plain": [
       "                                                news code\n",
       "0  파주시청 사진제공파주시 파주시청 사진제공파주시  파주파이낸셜뉴스 강근주 기자 파주시...   사회\n",
       "1  동영상 뉴스  이천 물류창고 화재 발화지점으로 지목된 지하 층에서 산소절단기의 산소...   사회\n",
       "2  황범순 의정부시 부시장 을지대학교 의정부캠퍼스 및 부속병원 공사현장 안전점검 사진제...   사회\n",
       "3  귀갓길 여성을 쫓아가 성범죄를 시도한 대 남성이 구속됐습니다서울 강남경찰서는 강간상...   사회\n",
       "4  서울연합뉴스 대한약사회가 일부터 코로나바이러스 감염증 대응 체계를 '사회적 거리두기...   사회"
      ]
     },
     "execution_count": 149,
     "metadata": {},
     "output_type": "execute_result"
    }
   ],
   "source": [
    "so_df = df[df['code'] == '사회']\n",
    "so_df = so_df.iloc[:1000].reset_index(drop=True)\n",
    "print(len(so_df))\n",
    "so_df.head()"
   ]
  },
  {
   "cell_type": "code",
   "execution_count": 150,
   "metadata": {},
   "outputs": [
    {
     "name": "stdout",
     "output_type": "stream",
     "text": [
      "901\n"
     ]
    },
    {
     "data": {
      "text/html": [
       "<div>\n",
       "<style scoped>\n",
       "    .dataframe tbody tr th:only-of-type {\n",
       "        vertical-align: middle;\n",
       "    }\n",
       "\n",
       "    .dataframe tbody tr th {\n",
       "        vertical-align: top;\n",
       "    }\n",
       "\n",
       "    .dataframe thead th {\n",
       "        text-align: right;\n",
       "    }\n",
       "</style>\n",
       "<table border=\"1\" class=\"dataframe\">\n",
       "  <thead>\n",
       "    <tr style=\"text-align: right;\">\n",
       "      <th></th>\n",
       "      <th>news</th>\n",
       "      <th>code</th>\n",
       "    </tr>\n",
       "  </thead>\n",
       "  <tbody>\n",
       "    <tr>\n",
       "      <th>0</th>\n",
       "      <td>제대 총선 실시간 개표 현황 및 결과 보기  총선에서 여당이 다시 한 번 승리를 거...</td>\n",
       "      <td>경제</td>\n",
       "    </tr>\n",
       "    <tr>\n",
       "      <th>1</th>\n",
       "      <td>뉴욕뉴시스지난 일 뉴욕 증권거래소 건물에 미국 국기가 게양되어 있다 신종 코로나바이...</td>\n",
       "      <td>경제</td>\n",
       "    </tr>\n",
       "    <tr>\n",
       "      <th>2</th>\n",
       "      <td>부산지역 주유소에서 판매하는 기름값이 휘발유는 평균 원대 경유는 원대에 돌입했다일 ...</td>\n",
       "      <td>경제</td>\n",
       "    </tr>\n",
       "    <tr>\n",
       "      <th>3</th>\n",
       "      <td>담배업계가 소비자의 취향을 저격한 다양한 담배 신제품들을 잇달아 선보이고 있다이전까...</td>\n",
       "      <td>경제</td>\n",
       "    </tr>\n",
       "    <tr>\n",
       "      <th>4</th>\n",
       "      <td>이데일리 박태진 기자 다음은 일자 이데일리신문 주요 기사다면민주 연승 자만 말고 협...</td>\n",
       "      <td>경제</td>\n",
       "    </tr>\n",
       "  </tbody>\n",
       "</table>\n",
       "</div>"
      ],
      "text/plain": [
       "                                                news code\n",
       "0  제대 총선 실시간 개표 현황 및 결과 보기  총선에서 여당이 다시 한 번 승리를 거...   경제\n",
       "1  뉴욕뉴시스지난 일 뉴욕 증권거래소 건물에 미국 국기가 게양되어 있다 신종 코로나바이...   경제\n",
       "2  부산지역 주유소에서 판매하는 기름값이 휘발유는 평균 원대 경유는 원대에 돌입했다일 ...   경제\n",
       "3  담배업계가 소비자의 취향을 저격한 다양한 담배 신제품들을 잇달아 선보이고 있다이전까...   경제\n",
       "4  이데일리 박태진 기자 다음은 일자 이데일리신문 주요 기사다면민주 연승 자만 말고 협...   경제"
      ]
     },
     "execution_count": 150,
     "metadata": {},
     "output_type": "execute_result"
    }
   ],
   "source": [
    "ec_df = df[df['code'] == '경제']\n",
    "ec_df = ec_df.iloc[:1000].reset_index(drop=True)\n",
    "print(len(ec_df))\n",
    "ec_df.head()"
   ]
  },
  {
   "cell_type": "code",
   "execution_count": 151,
   "metadata": {},
   "outputs": [
    {
     "name": "stdout",
     "output_type": "stream",
     "text": [
      "1000\n"
     ]
    },
    {
     "data": {
      "text/html": [
       "<div>\n",
       "<style scoped>\n",
       "    .dataframe tbody tr th:only-of-type {\n",
       "        vertical-align: middle;\n",
       "    }\n",
       "\n",
       "    .dataframe tbody tr th {\n",
       "        vertical-align: top;\n",
       "    }\n",
       "\n",
       "    .dataframe thead th {\n",
       "        text-align: right;\n",
       "    }\n",
       "</style>\n",
       "<table border=\"1\" class=\"dataframe\">\n",
       "  <thead>\n",
       "    <tr style=\"text-align: right;\">\n",
       "      <th></th>\n",
       "      <th>news</th>\n",
       "      <th>code</th>\n",
       "    </tr>\n",
       "  </thead>\n",
       "  <tbody>\n",
       "    <tr>\n",
       "      <th>0</th>\n",
       "      <td>헤럴드경제고승희 기자 문화체육관광부는 한국문화예술위원회 기 비상임위원으로 다문화극단...</td>\n",
       "      <td>생활/문화</td>\n",
       "    </tr>\n",
       "    <tr>\n",
       "      <th>1</th>\n",
       "      <td>동영상 뉴스  오늘 서쪽 지방과 동쪽 지방의 온도 차가 제법 컸습니다서쪽 지방은 강...</td>\n",
       "      <td>생활/문화</td>\n",
       "    </tr>\n",
       "    <tr>\n",
       "      <th>2</th>\n",
       "      <td>나는 지난 여년간 협력이라는 말을 매일 마주하며 살고 있다 남북관계 현장에서 젊음을...</td>\n",
       "      <td>생활/문화</td>\n",
       "    </tr>\n",
       "    <tr>\n",
       "      <th>3</th>\n",
       "      <td>아가타 파리  아가타 파리   아가타 파리  아가타 파리   아가타 파리 가 시그니...</td>\n",
       "      <td>생활/문화</td>\n",
       "    </tr>\n",
       "    <tr>\n",
       "      <th>4</th>\n",
       "      <td>'까칠남녀'에 출연한 정영진  '까칠남녀'에 출연한 정영진   '까칠남녀'에 출연...</td>\n",
       "      <td>생활/문화</td>\n",
       "    </tr>\n",
       "  </tbody>\n",
       "</table>\n",
       "</div>"
      ],
      "text/plain": [
       "                                                news   code\n",
       "0  헤럴드경제고승희 기자 문화체육관광부는 한국문화예술위원회 기 비상임위원으로 다문화극단...  생활/문화\n",
       "1  동영상 뉴스  오늘 서쪽 지방과 동쪽 지방의 온도 차가 제법 컸습니다서쪽 지방은 강...  생활/문화\n",
       "2  나는 지난 여년간 협력이라는 말을 매일 마주하며 살고 있다 남북관계 현장에서 젊음을...  생활/문화\n",
       "3  아가타 파리  아가타 파리   아가타 파리  아가타 파리   아가타 파리 가 시그니...  생활/문화\n",
       "4   '까칠남녀'에 출연한 정영진  '까칠남녀'에 출연한 정영진   '까칠남녀'에 출연...  생활/문화"
      ]
     },
     "execution_count": 151,
     "metadata": {},
     "output_type": "execute_result"
    }
   ],
   "source": [
    "cl_df = df[df['code'] == '생활/문화']\n",
    "cl_df = cl_df.iloc[:1000].reset_index(drop=True)\n",
    "print(len(cl_df))\n",
    "cl_df.head()"
   ]
  },
  {
   "cell_type": "code",
   "execution_count": 152,
   "metadata": {},
   "outputs": [
    {
     "name": "stdout",
     "output_type": "stream",
     "text": [
      "1000\n"
     ]
    },
    {
     "data": {
      "text/html": [
       "<div>\n",
       "<style scoped>\n",
       "    .dataframe tbody tr th:only-of-type {\n",
       "        vertical-align: middle;\n",
       "    }\n",
       "\n",
       "    .dataframe tbody tr th {\n",
       "        vertical-align: top;\n",
       "    }\n",
       "\n",
       "    .dataframe thead th {\n",
       "        text-align: right;\n",
       "    }\n",
       "</style>\n",
       "<table border=\"1\" class=\"dataframe\">\n",
       "  <thead>\n",
       "    <tr style=\"text-align: right;\">\n",
       "      <th></th>\n",
       "      <th>news</th>\n",
       "      <th>code</th>\n",
       "    </tr>\n",
       "  </thead>\n",
       "  <tbody>\n",
       "    <tr>\n",
       "      <th>0</th>\n",
       "      <td>서울뉴시스 오동현 기자  모바일 게임 기업 컴투스는  모바일 야구 게임 컴투스프로야...</td>\n",
       "      <td>IT/과학</td>\n",
       "    </tr>\n",
       "    <tr>\n",
       "      <th>1</th>\n",
       "      <td>연합뉴스 연합뉴스  요즘은 잔인한 날리프트도 앞서 명 일시해고뉴욕연합뉴스 이귀원 특...</td>\n",
       "      <td>IT/과학</td>\n",
       "    </tr>\n",
       "    <tr>\n",
       "      <th>2</th>\n",
       "      <td>지난 년 포항공대에 구축한 세대 선형 방사광가속기 연합뉴스 지난 년 포항공대에 구축...</td>\n",
       "      <td>IT/과학</td>\n",
       "    </tr>\n",
       "    <tr>\n",
       "      <th>3</th>\n",
       "      <td>나주 방사광 가속기 조감도 전남도 제공 나주 방사광 가속기 조감도 전남도 제공  치...</td>\n",
       "      <td>IT/과학</td>\n",
       "    </tr>\n",
       "    <tr>\n",
       "      <th>4</th>\n",
       "      <td>서울뉴시스 오동현 기자  펍지주식회사가 올해 첫 '플레이어언노운스 배틀그라운드' 글...</td>\n",
       "      <td>IT/과학</td>\n",
       "    </tr>\n",
       "  </tbody>\n",
       "</table>\n",
       "</div>"
      ],
      "text/plain": [
       "                                                news   code\n",
       "0  서울뉴시스 오동현 기자  모바일 게임 기업 컴투스는  모바일 야구 게임 컴투스프로야...  IT/과학\n",
       "1  연합뉴스 연합뉴스  요즘은 잔인한 날리프트도 앞서 명 일시해고뉴욕연합뉴스 이귀원 특...  IT/과학\n",
       "2  지난 년 포항공대에 구축한 세대 선형 방사광가속기 연합뉴스 지난 년 포항공대에 구축...  IT/과학\n",
       "3  나주 방사광 가속기 조감도 전남도 제공 나주 방사광 가속기 조감도 전남도 제공  치...  IT/과학\n",
       "4  서울뉴시스 오동현 기자  펍지주식회사가 올해 첫 '플레이어언노운스 배틀그라운드' 글...  IT/과학"
      ]
     },
     "execution_count": 152,
     "metadata": {},
     "output_type": "execute_result"
    }
   ],
   "source": [
    "it_df = df[df['code'] == 'IT/과학']\n",
    "it_df = it_df.iloc[:1000].reset_index(drop=True)\n",
    "print(len(it_df))\n",
    "it_df.head()"
   ]
  },
  {
   "cell_type": "code",
   "execution_count": 153,
   "metadata": {},
   "outputs": [
    {
     "data": {
      "text/html": [
       "<div>\n",
       "<style scoped>\n",
       "    .dataframe tbody tr th:only-of-type {\n",
       "        vertical-align: middle;\n",
       "    }\n",
       "\n",
       "    .dataframe tbody tr th {\n",
       "        vertical-align: top;\n",
       "    }\n",
       "\n",
       "    .dataframe thead th {\n",
       "        text-align: right;\n",
       "    }\n",
       "</style>\n",
       "<table border=\"1\" class=\"dataframe\">\n",
       "  <thead>\n",
       "    <tr style=\"text-align: right;\">\n",
       "      <th></th>\n",
       "      <th>news</th>\n",
       "      <th>code</th>\n",
       "    </tr>\n",
       "  </thead>\n",
       "  <tbody>\n",
       "    <tr>\n",
       "      <th>0</th>\n",
       "      <td>파주시청 사진제공파주시 파주시청 사진제공파주시  파주파이낸셜뉴스 강근주 기자 파주시...</td>\n",
       "      <td>사회</td>\n",
       "    </tr>\n",
       "    <tr>\n",
       "      <th>1</th>\n",
       "      <td>동영상 뉴스  이천 물류창고 화재 발화지점으로 지목된 지하 층에서 산소절단기의 산소...</td>\n",
       "      <td>사회</td>\n",
       "    </tr>\n",
       "    <tr>\n",
       "      <th>2</th>\n",
       "      <td>황범순 의정부시 부시장 을지대학교 의정부캠퍼스 및 부속병원 공사현장 안전점검 사진제...</td>\n",
       "      <td>사회</td>\n",
       "    </tr>\n",
       "    <tr>\n",
       "      <th>3</th>\n",
       "      <td>귀갓길 여성을 쫓아가 성범죄를 시도한 대 남성이 구속됐습니다서울 강남경찰서는 강간상...</td>\n",
       "      <td>사회</td>\n",
       "    </tr>\n",
       "    <tr>\n",
       "      <th>4</th>\n",
       "      <td>서울연합뉴스 대한약사회가 일부터 코로나바이러스 감염증 대응 체계를 '사회적 거리두기...</td>\n",
       "      <td>사회</td>\n",
       "    </tr>\n",
       "    <tr>\n",
       "      <th>...</th>\n",
       "      <td>...</td>\n",
       "      <td>...</td>\n",
       "    </tr>\n",
       "    <tr>\n",
       "      <th>3896</th>\n",
       "      <td>전 세계가 신종 코로나바이러스 감염증코로나 확산 대응의 모범국가로 한국을 꼽고 있는...</td>\n",
       "      <td>IT/과학</td>\n",
       "    </tr>\n",
       "    <tr>\n",
       "      <th>3897</th>\n",
       "      <td>애플 모빌리티 트렌드 리포트에서 나타난 국내 이동량 추이 애플 제공 애플 모빌리티 ...</td>\n",
       "      <td>IT/과학</td>\n",
       "    </tr>\n",
       "    <tr>\n",
       "      <th>3898</th>\n",
       "      <td>일 에서 차 온라인 개학대비 학습관리 시스템 합동 점검 회의를 진행했다  지디넷코리...</td>\n",
       "      <td>IT/과학</td>\n",
       "    </tr>\n",
       "    <tr>\n",
       "      <th>3899</th>\n",
       "      <td>축구톡톡 편 공개전북 현대 제공 축구톡톡 편 공개전북 현대 제공  서울연합뉴스 안홍...</td>\n",
       "      <td>IT/과학</td>\n",
       "    </tr>\n",
       "    <tr>\n",
       "      <th>3900</th>\n",
       "      <td>들개 게티이미지 제공 들개 게티이미지 제공  파이낸셜뉴스 캐나다의 한 과학자는 코로...</td>\n",
       "      <td>IT/과학</td>\n",
       "    </tr>\n",
       "  </tbody>\n",
       "</table>\n",
       "<p>3901 rows × 2 columns</p>\n",
       "</div>"
      ],
      "text/plain": [
       "                                                   news   code\n",
       "0     파주시청 사진제공파주시 파주시청 사진제공파주시  파주파이낸셜뉴스 강근주 기자 파주시...     사회\n",
       "1     동영상 뉴스  이천 물류창고 화재 발화지점으로 지목된 지하 층에서 산소절단기의 산소...     사회\n",
       "2     황범순 의정부시 부시장 을지대학교 의정부캠퍼스 및 부속병원 공사현장 안전점검 사진제...     사회\n",
       "3     귀갓길 여성을 쫓아가 성범죄를 시도한 대 남성이 구속됐습니다서울 강남경찰서는 강간상...     사회\n",
       "4     서울연합뉴스 대한약사회가 일부터 코로나바이러스 감염증 대응 체계를 '사회적 거리두기...     사회\n",
       "...                                                 ...    ...\n",
       "3896  전 세계가 신종 코로나바이러스 감염증코로나 확산 대응의 모범국가로 한국을 꼽고 있는...  IT/과학\n",
       "3897  애플 모빌리티 트렌드 리포트에서 나타난 국내 이동량 추이 애플 제공 애플 모빌리티 ...  IT/과학\n",
       "3898  일 에서 차 온라인 개학대비 학습관리 시스템 합동 점검 회의를 진행했다  지디넷코리...  IT/과학\n",
       "3899  축구톡톡 편 공개전북 현대 제공 축구톡톡 편 공개전북 현대 제공  서울연합뉴스 안홍...  IT/과학\n",
       "3900  들개 게티이미지 제공 들개 게티이미지 제공  파이낸셜뉴스 캐나다의 한 과학자는 코로...  IT/과학\n",
       "\n",
       "[3901 rows x 2 columns]"
      ]
     },
     "execution_count": 153,
     "metadata": {},
     "output_type": "execute_result"
    }
   ],
   "source": [
    "final_df = pd.DataFrame()\n",
    "# df = df.append(pd.read_table(csv_path, sep=','), ignore_index=True)\n",
    "final_df = final_df.append(so_df, ignore_index=True)\n",
    "final_df = final_df.append(ec_df, ignore_index=True)\n",
    "final_df = final_df.append(cl_df, ignore_index=True)\n",
    "final_df = final_df.append(it_df, ignore_index=True)\n",
    "\n",
    "final_df.reset_index(drop=True)"
   ]
  },
  {
   "cell_type": "code",
   "execution_count": 159,
   "metadata": {},
   "outputs": [
    {
     "name": "stdout",
     "output_type": "stream",
     "text": [
      "--------------------\n",
      "Tokenizer : Mecab\n",
      "--------------------\n",
      "토큰화, 불용어 제거 진행중..\n"
     ]
    },
    {
     "data": {
      "application/vnd.jupyter.widget-view+json": {
       "model_id": "0da93e2662094da28841067345ed886e",
       "version_major": 2,
       "version_minor": 0
      },
      "text/plain": [
       "HBox(children=(FloatProgress(value=0.0, max=3901.0), HTML(value='')))"
      ]
     },
     "metadata": {},
     "output_type": "display_data"
    },
    {
     "name": "stdout",
     "output_type": "stream",
     "text": [
      "\n",
      "불용어 제거 완료\n",
      "--------------------\n",
      "훈련용 뉴스 기사의 개수 : 2925\n",
      "테스트용 뉴스 기사의 개수 :  976\n",
      "훈련용 레이블의 개수 :  2925\n",
      "테스트용 레이블의 개수 :  976\n",
      "--------------------\n",
      "학습중\n",
      "--------------------\n",
      "테스트 데이터 예측\n",
      "완료\n",
      "\n",
      "              precision    recall  f1-score   support\n",
      "\n",
      "       IT/과학       0.83      0.86      0.84       225\n",
      "          경제       0.85      0.84      0.84       244\n",
      "          사회       0.82      0.79      0.81       268\n",
      "       생활/문화       0.77      0.79      0.78       239\n",
      "\n",
      "    accuracy                           0.82       976\n",
      "   macro avg       0.82      0.82      0.82       976\n",
      "weighted avg       0.82      0.82      0.82       976\n",
      "\n",
      "------------------------------\n",
      "\n",
      "\n",
      "\n",
      "--------------------\n",
      "Tokenizer : Hannanum\n",
      "--------------------\n",
      "토큰화, 불용어 제거 진행중..\n"
     ]
    },
    {
     "data": {
      "application/vnd.jupyter.widget-view+json": {
       "model_id": "7e3eac442f5d41bda49db5f8f21760d6",
       "version_major": 2,
       "version_minor": 0
      },
      "text/plain": [
       "HBox(children=(FloatProgress(value=0.0, max=3901.0), HTML(value='')))"
      ]
     },
     "metadata": {},
     "output_type": "display_data"
    },
    {
     "name": "stdout",
     "output_type": "stream",
     "text": [
      "\n",
      "불용어 제거 완료\n",
      "--------------------\n",
      "--------------------\n",
      "학습중\n",
      "--------------------\n",
      "테스트 데이터 예측\n",
      "완료\n",
      "\n",
      "              precision    recall  f1-score   support\n",
      "\n",
      "       IT/과학       0.82      0.86      0.84       225\n",
      "          경제       0.87      0.85      0.86       244\n",
      "          사회       0.82      0.78      0.80       268\n",
      "       생활/문화       0.77      0.78      0.78       239\n",
      "\n",
      "    accuracy                           0.82       976\n",
      "   macro avg       0.82      0.82      0.82       976\n",
      "weighted avg       0.82      0.82      0.82       976\n",
      "\n",
      "------------------------------\n",
      "\n",
      "\n",
      "\n",
      "--------------------\n",
      "Tokenizer : Kkma\n",
      "--------------------\n",
      "토큰화, 불용어 제거 진행중..\n"
     ]
    },
    {
     "data": {
      "application/vnd.jupyter.widget-view+json": {
       "model_id": "59fed70339ec4b8288861a4521a2c745",
       "version_major": 2,
       "version_minor": 0
      },
      "text/plain": [
       "HBox(children=(FloatProgress(value=0.0, max=3901.0), HTML(value='')))"
      ]
     },
     "metadata": {},
     "output_type": "display_data"
    },
    {
     "name": "stdout",
     "output_type": "stream",
     "text": [
      "\n",
      "불용어 제거 완료\n",
      "--------------------\n",
      "--------------------\n",
      "학습중\n",
      "--------------------\n",
      "테스트 데이터 예측\n",
      "완료\n",
      "\n",
      "              precision    recall  f1-score   support\n",
      "\n",
      "       IT/과학       0.81      0.86      0.84       225\n",
      "          경제       0.88      0.84      0.86       244\n",
      "          사회       0.81      0.79      0.80       268\n",
      "       생활/문화       0.76      0.77      0.77       239\n",
      "\n",
      "    accuracy                           0.82       976\n",
      "   macro avg       0.82      0.82      0.82       976\n",
      "weighted avg       0.82      0.82      0.82       976\n",
      "\n",
      "------------------------------\n",
      "\n",
      "\n",
      "\n",
      "--------------------\n",
      "Tokenizer : Komoran\n",
      "--------------------\n",
      "토큰화, 불용어 제거 진행중..\n"
     ]
    },
    {
     "data": {
      "application/vnd.jupyter.widget-view+json": {
       "model_id": "1fd5925cd6024f569f38f751c4bac15a",
       "version_major": 2,
       "version_minor": 0
      },
      "text/plain": [
       "HBox(children=(FloatProgress(value=0.0, max=3901.0), HTML(value='')))"
      ]
     },
     "metadata": {},
     "output_type": "display_data"
    },
    {
     "name": "stdout",
     "output_type": "stream",
     "text": [
      "\n",
      "불용어 제거 완료\n",
      "--------------------\n",
      "--------------------\n",
      "학습중\n",
      "--------------------\n",
      "테스트 데이터 예측\n",
      "완료\n",
      "\n",
      "              precision    recall  f1-score   support\n",
      "\n",
      "       IT/과학       0.82      0.87      0.85       225\n",
      "          경제       0.86      0.85      0.86       244\n",
      "          사회       0.81      0.79      0.80       268\n",
      "       생활/문화       0.77      0.76      0.76       239\n",
      "\n",
      "    accuracy                           0.82       976\n",
      "   macro avg       0.82      0.82      0.82       976\n",
      "weighted avg       0.82      0.82      0.82       976\n",
      "\n",
      "------------------------------\n",
      "\n",
      "\n",
      "\n",
      "--------------------\n",
      "Tokenizer : Okt\n",
      "--------------------\n",
      "토큰화, 불용어 제거 진행중..\n"
     ]
    },
    {
     "data": {
      "application/vnd.jupyter.widget-view+json": {
       "model_id": "40d3abd70d5b4db9ba17e1f9232f8201",
       "version_major": 2,
       "version_minor": 0
      },
      "text/plain": [
       "HBox(children=(FloatProgress(value=0.0, max=3901.0), HTML(value='')))"
      ]
     },
     "metadata": {},
     "output_type": "display_data"
    },
    {
     "name": "stdout",
     "output_type": "stream",
     "text": [
      "\n",
      "불용어 제거 완료\n",
      "--------------------\n",
      "--------------------\n",
      "학습중\n",
      "--------------------\n",
      "테스트 데이터 예측\n",
      "완료\n",
      "\n",
      "              precision    recall  f1-score   support\n",
      "\n",
      "       IT/과학       0.84      0.89      0.86       225\n",
      "          경제       0.88      0.85      0.86       244\n",
      "          사회       0.84      0.79      0.82       268\n",
      "       생활/문화       0.77      0.80      0.79       239\n",
      "\n",
      "    accuracy                           0.83       976\n",
      "   macro avg       0.83      0.83      0.83       976\n",
      "weighted avg       0.83      0.83      0.83       976\n",
      "\n",
      "------------------------------\n",
      "\n",
      "\n",
      "\n"
     ]
    }
   ],
   "source": [
    "reports = []\n",
    "\n",
    "for token in tokenizers:\n",
    "    reports.append(process(token, final_df))"
   ]
  },
  {
   "cell_type": "code",
   "execution_count": 165,
   "metadata": {},
   "outputs": [
    {
     "name": "stdout",
     "output_type": "stream",
     "text": [
      "-------------------사용한 Tokenizer : Okt-------------------\n",
      "              precision    recall  f1-score   support\n",
      "\n",
      "       IT/과학       0.84      0.89      0.86       225\n",
      "          경제       0.88      0.85      0.86       244\n",
      "          사회       0.84      0.79      0.82       268\n",
      "       생활/문화       0.77      0.80      0.79       239\n",
      "\n",
      "    accuracy                           0.83       976\n",
      "   macro avg       0.83      0.83      0.83       976\n",
      "weighted avg       0.83      0.83      0.83       976\n",
      "\n"
     ]
    }
   ],
   "source": [
    "print(\"-------------------사용한 Tokenizer : {}-------------------\".format(tokenizers[4]))\n",
    "print(reports[4])"
   ]
  },
  {
   "cell_type": "markdown",
   "metadata": {},
   "source": [
    "# 정리\n",
    "1. Tokenizer 5가지 비교, 불용어 제거를 위해서 677개의 불용어 파일을 읽어들임\n",
    "2. 5월6일의 데이터, 4월 15일의 데이터를 합쳐서 사용.\n",
    "    - 기존에 8827개의 기사에서 중복된 기사를 제거 후 6127개로 줄었다.\n",
    "3. 데이터 6127개로 학습 및 분류\n",
    "    - 토크나이저 변경, f1score : okt를 제외한 토크나이저는 모두 0.85의 점수가 나왔고 okt는 0.84가 나왔다.\n",
    "    - 나이브 베이즈 분류기 -> SGD 분류기 : 기존의 나이브 베이즈 분류기의 점수는 0.7의 후반대에 머물렀지만 분류기를 다른 것으로 바꿔보았고 높은 점수가 나오게 되었다.\n",
    "4. 데이터의 비율을 맞춰서 한번더 확인\n",
    "    - 일부 카테고리의 경우는 점수가 오르는 것을 확인했지만 반면에 ```생활/문화```의 경우 점수가 떨어지는 것을 확인\n",
    "    - 일반적으로 데이터가 더 많을 수록 분류를 잘한것이라고 예측할 수 있을 거 같다."
   ]
  },
  {
   "cell_type": "markdown",
   "metadata": {},
   "source": [
    "#### 주말에 복습할 내용\n",
    "- 데이터 수를 늘려본다.\n",
    "- 나이브 베이즈로도 높은 점수를 받도록 해보고\n",
    "    - 나이브 베이즈 분류기의 경우 데이터가 상대적으로 적은 ```경제``` 분야의 기사 정확도가 많이 떨어졌다.\n",
    "    - 반면에 SGD 분류기로 확인할 경우 대부분 비슷하게 높은 점수가 나오는 것을 확인하였다\n",
    "    - 랜덤포레스트, SVM등 이전에 배웠던 분류기를 바꿔가면서 다른 결과도 확인하고 분류기마다 특성을 좀더 자세하게 정리를 해보도록 한다.\n",
    "- 데이터의 균형 및 불용어에 따라서 점수가 어떻게 바뀌는지 확인 해보자"
   ]
  },
  {
   "cell_type": "code",
   "execution_count": null,
   "metadata": {},
   "outputs": [],
   "source": []
  }
 ],
 "metadata": {
  "kernelspec": {
   "display_name": "aiffel",
   "language": "python",
   "name": "aiffel"
  },
  "language_info": {
   "codemirror_mode": {
    "name": "ipython",
    "version": 3
   },
   "file_extension": ".py",
   "mimetype": "text/x-python",
   "name": "python",
   "nbconvert_exporter": "python",
   "pygments_lexer": "ipython3",
   "version": "3.7.6"
  }
 },
 "nbformat": 4,
 "nbformat_minor": 4
}
