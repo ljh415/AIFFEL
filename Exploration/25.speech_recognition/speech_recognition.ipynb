{
  "nbformat": 4,
  "nbformat_minor": 0,
  "metadata": {
    "kernelspec": {
      "name": "python3",
      "display_name": "Python 3"
    },
    "colab": {
      "name": "speech_recognition.ipynb",
      "provenance": [],
      "machine_shape": "hm"
    },
    "accelerator": "GPU",
    "widgets": {
      "application/vnd.jupyter.widget-state+json": {
        "d22e5c72a5ff49819faf44be927e93eb": {
          "model_module": "@jupyter-widgets/controls",
          "model_name": "HBoxModel",
          "state": {
            "_view_name": "HBoxView",
            "_dom_classes": [],
            "_model_name": "HBoxModel",
            "_view_module": "@jupyter-widgets/controls",
            "_model_module_version": "1.5.0",
            "_view_count": null,
            "_view_module_version": "1.5.0",
            "box_style": "",
            "layout": "IPY_MODEL_61ae62bb57ad4fb1a7d73b7d274bb5a0",
            "_model_module": "@jupyter-widgets/controls",
            "children": [
              "IPY_MODEL_ff2dd8b8ee864d8b970c81c82685bcc1",
              "IPY_MODEL_16eeb76a65d34227a27b1f9b3a7fba02"
            ]
          }
        },
        "61ae62bb57ad4fb1a7d73b7d274bb5a0": {
          "model_module": "@jupyter-widgets/base",
          "model_name": "LayoutModel",
          "state": {
            "_view_name": "LayoutView",
            "grid_template_rows": null,
            "right": null,
            "justify_content": null,
            "_view_module": "@jupyter-widgets/base",
            "overflow": null,
            "_model_module_version": "1.2.0",
            "_view_count": null,
            "flex_flow": null,
            "width": null,
            "min_width": null,
            "border": null,
            "align_items": null,
            "bottom": null,
            "_model_module": "@jupyter-widgets/base",
            "top": null,
            "grid_column": null,
            "overflow_y": null,
            "overflow_x": null,
            "grid_auto_flow": null,
            "grid_area": null,
            "grid_template_columns": null,
            "flex": null,
            "_model_name": "LayoutModel",
            "justify_items": null,
            "grid_row": null,
            "max_height": null,
            "align_content": null,
            "visibility": null,
            "align_self": null,
            "height": null,
            "min_height": null,
            "padding": null,
            "grid_auto_rows": null,
            "grid_gap": null,
            "max_width": null,
            "order": null,
            "_view_module_version": "1.2.0",
            "grid_template_areas": null,
            "object_position": null,
            "object_fit": null,
            "grid_auto_columns": null,
            "margin": null,
            "display": null,
            "left": null
          }
        },
        "ff2dd8b8ee864d8b970c81c82685bcc1": {
          "model_module": "@jupyter-widgets/controls",
          "model_name": "FloatProgressModel",
          "state": {
            "_view_name": "ProgressView",
            "style": "IPY_MODEL_0b5390082a2c40949614fb4cedf1853b",
            "_dom_classes": [],
            "description": "",
            "_model_name": "FloatProgressModel",
            "bar_style": "success",
            "max": 1,
            "_view_module": "@jupyter-widgets/controls",
            "_model_module_version": "1.5.0",
            "value": 1,
            "_view_count": null,
            "_view_module_version": "1.5.0",
            "orientation": "horizontal",
            "min": 0,
            "description_tooltip": null,
            "_model_module": "@jupyter-widgets/controls",
            "layout": "IPY_MODEL_43b14970ac5e41c7a04d2807cb3a2c2f"
          }
        },
        "16eeb76a65d34227a27b1f9b3a7fba02": {
          "model_module": "@jupyter-widgets/controls",
          "model_name": "HTMLModel",
          "state": {
            "_view_name": "HTMLView",
            "style": "IPY_MODEL_191c5f1a7b7e40269e2861862b37341d",
            "_dom_classes": [],
            "description": "",
            "_model_name": "HTMLModel",
            "placeholder": "​",
            "_view_module": "@jupyter-widgets/controls",
            "_model_module_version": "1.5.0",
            "value": " 45558/? [01:14&lt;00:00, 608.59it/s]",
            "_view_count": null,
            "_view_module_version": "1.5.0",
            "description_tooltip": null,
            "_model_module": "@jupyter-widgets/controls",
            "layout": "IPY_MODEL_0353e57140b94134a047f2a2536ef25a"
          }
        },
        "0b5390082a2c40949614fb4cedf1853b": {
          "model_module": "@jupyter-widgets/controls",
          "model_name": "ProgressStyleModel",
          "state": {
            "_view_name": "StyleView",
            "_model_name": "ProgressStyleModel",
            "description_width": "initial",
            "_view_module": "@jupyter-widgets/base",
            "_model_module_version": "1.5.0",
            "_view_count": null,
            "_view_module_version": "1.2.0",
            "bar_color": null,
            "_model_module": "@jupyter-widgets/controls"
          }
        },
        "43b14970ac5e41c7a04d2807cb3a2c2f": {
          "model_module": "@jupyter-widgets/base",
          "model_name": "LayoutModel",
          "state": {
            "_view_name": "LayoutView",
            "grid_template_rows": null,
            "right": null,
            "justify_content": null,
            "_view_module": "@jupyter-widgets/base",
            "overflow": null,
            "_model_module_version": "1.2.0",
            "_view_count": null,
            "flex_flow": null,
            "width": null,
            "min_width": null,
            "border": null,
            "align_items": null,
            "bottom": null,
            "_model_module": "@jupyter-widgets/base",
            "top": null,
            "grid_column": null,
            "overflow_y": null,
            "overflow_x": null,
            "grid_auto_flow": null,
            "grid_area": null,
            "grid_template_columns": null,
            "flex": null,
            "_model_name": "LayoutModel",
            "justify_items": null,
            "grid_row": null,
            "max_height": null,
            "align_content": null,
            "visibility": null,
            "align_self": null,
            "height": null,
            "min_height": null,
            "padding": null,
            "grid_auto_rows": null,
            "grid_gap": null,
            "max_width": null,
            "order": null,
            "_view_module_version": "1.2.0",
            "grid_template_areas": null,
            "object_position": null,
            "object_fit": null,
            "grid_auto_columns": null,
            "margin": null,
            "display": null,
            "left": null
          }
        },
        "191c5f1a7b7e40269e2861862b37341d": {
          "model_module": "@jupyter-widgets/controls",
          "model_name": "DescriptionStyleModel",
          "state": {
            "_view_name": "StyleView",
            "_model_name": "DescriptionStyleModel",
            "description_width": "",
            "_view_module": "@jupyter-widgets/base",
            "_model_module_version": "1.5.0",
            "_view_count": null,
            "_view_module_version": "1.2.0",
            "_model_module": "@jupyter-widgets/controls"
          }
        },
        "0353e57140b94134a047f2a2536ef25a": {
          "model_module": "@jupyter-widgets/base",
          "model_name": "LayoutModel",
          "state": {
            "_view_name": "LayoutView",
            "grid_template_rows": null,
            "right": null,
            "justify_content": null,
            "_view_module": "@jupyter-widgets/base",
            "overflow": null,
            "_model_module_version": "1.2.0",
            "_view_count": null,
            "flex_flow": null,
            "width": null,
            "min_width": null,
            "border": null,
            "align_items": null,
            "bottom": null,
            "_model_module": "@jupyter-widgets/base",
            "top": null,
            "grid_column": null,
            "overflow_y": null,
            "overflow_x": null,
            "grid_auto_flow": null,
            "grid_area": null,
            "grid_template_columns": null,
            "flex": null,
            "_model_name": "LayoutModel",
            "justify_items": null,
            "grid_row": null,
            "max_height": null,
            "align_content": null,
            "visibility": null,
            "align_self": null,
            "height": null,
            "min_height": null,
            "padding": null,
            "grid_auto_rows": null,
            "grid_gap": null,
            "max_width": null,
            "order": null,
            "_view_module_version": "1.2.0",
            "grid_template_areas": null,
            "object_position": null,
            "object_fit": null,
            "grid_auto_columns": null,
            "margin": null,
            "display": null,
            "left": null
          }
        },
        "c59f332fdff94bcfbd5c95a9d5aed3a8": {
          "model_module": "@jupyter-widgets/controls",
          "model_name": "HBoxModel",
          "state": {
            "_view_name": "HBoxView",
            "_dom_classes": [],
            "_model_name": "HBoxModel",
            "_view_module": "@jupyter-widgets/controls",
            "_model_module_version": "1.5.0",
            "_view_count": null,
            "_view_module_version": "1.5.0",
            "box_style": "",
            "layout": "IPY_MODEL_3c0871238eda427991e412127c345347",
            "_model_module": "@jupyter-widgets/controls",
            "children": [
              "IPY_MODEL_0457b26e8a1546609fa52a927024c099",
              "IPY_MODEL_3ff4d74676e04224ae194bf8fe1db6e3"
            ]
          }
        },
        "3c0871238eda427991e412127c345347": {
          "model_module": "@jupyter-widgets/base",
          "model_name": "LayoutModel",
          "state": {
            "_view_name": "LayoutView",
            "grid_template_rows": null,
            "right": null,
            "justify_content": null,
            "_view_module": "@jupyter-widgets/base",
            "overflow": null,
            "_model_module_version": "1.2.0",
            "_view_count": null,
            "flex_flow": null,
            "width": null,
            "min_width": null,
            "border": null,
            "align_items": null,
            "bottom": null,
            "_model_module": "@jupyter-widgets/base",
            "top": null,
            "grid_column": null,
            "overflow_y": null,
            "overflow_x": null,
            "grid_auto_flow": null,
            "grid_area": null,
            "grid_template_columns": null,
            "flex": null,
            "_model_name": "LayoutModel",
            "justify_items": null,
            "grid_row": null,
            "max_height": null,
            "align_content": null,
            "visibility": null,
            "align_self": null,
            "height": null,
            "min_height": null,
            "padding": null,
            "grid_auto_rows": null,
            "grid_gap": null,
            "max_width": null,
            "order": null,
            "_view_module_version": "1.2.0",
            "grid_template_areas": null,
            "object_position": null,
            "object_fit": null,
            "grid_auto_columns": null,
            "margin": null,
            "display": null,
            "left": null
          }
        },
        "0457b26e8a1546609fa52a927024c099": {
          "model_module": "@jupyter-widgets/controls",
          "model_name": "FloatProgressModel",
          "state": {
            "_view_name": "ProgressView",
            "style": "IPY_MODEL_a92f4d129fd64a6082258b88f3a2e2ea",
            "_dom_classes": [],
            "description": "",
            "_model_name": "FloatProgressModel",
            "bar_style": "success",
            "max": 1,
            "_view_module": "@jupyter-widgets/controls",
            "_model_module_version": "1.5.0",
            "value": 1,
            "_view_count": null,
            "_view_module_version": "1.5.0",
            "orientation": "horizontal",
            "min": 0,
            "description_tooltip": null,
            "_model_module": "@jupyter-widgets/controls",
            "layout": "IPY_MODEL_3b20a38c41dc4d1cab635fbaf8a03a89"
          }
        },
        "3ff4d74676e04224ae194bf8fe1db6e3": {
          "model_module": "@jupyter-widgets/controls",
          "model_name": "HTMLModel",
          "state": {
            "_view_name": "HTMLView",
            "style": "IPY_MODEL_47d9fa337e4e4eef9f376fef021b530a",
            "_dom_classes": [],
            "description": "",
            "_model_name": "HTMLModel",
            "placeholder": "​",
            "_view_module": "@jupyter-widgets/controls",
            "_model_module_version": "1.5.0",
            "value": " 5062/? [00:08&lt;00:00, 624.21it/s]",
            "_view_count": null,
            "_view_module_version": "1.5.0",
            "description_tooltip": null,
            "_model_module": "@jupyter-widgets/controls",
            "layout": "IPY_MODEL_4c2f101d9acc41718752d771215966a3"
          }
        },
        "a92f4d129fd64a6082258b88f3a2e2ea": {
          "model_module": "@jupyter-widgets/controls",
          "model_name": "ProgressStyleModel",
          "state": {
            "_view_name": "StyleView",
            "_model_name": "ProgressStyleModel",
            "description_width": "initial",
            "_view_module": "@jupyter-widgets/base",
            "_model_module_version": "1.5.0",
            "_view_count": null,
            "_view_module_version": "1.2.0",
            "bar_color": null,
            "_model_module": "@jupyter-widgets/controls"
          }
        },
        "3b20a38c41dc4d1cab635fbaf8a03a89": {
          "model_module": "@jupyter-widgets/base",
          "model_name": "LayoutModel",
          "state": {
            "_view_name": "LayoutView",
            "grid_template_rows": null,
            "right": null,
            "justify_content": null,
            "_view_module": "@jupyter-widgets/base",
            "overflow": null,
            "_model_module_version": "1.2.0",
            "_view_count": null,
            "flex_flow": null,
            "width": null,
            "min_width": null,
            "border": null,
            "align_items": null,
            "bottom": null,
            "_model_module": "@jupyter-widgets/base",
            "top": null,
            "grid_column": null,
            "overflow_y": null,
            "overflow_x": null,
            "grid_auto_flow": null,
            "grid_area": null,
            "grid_template_columns": null,
            "flex": null,
            "_model_name": "LayoutModel",
            "justify_items": null,
            "grid_row": null,
            "max_height": null,
            "align_content": null,
            "visibility": null,
            "align_self": null,
            "height": null,
            "min_height": null,
            "padding": null,
            "grid_auto_rows": null,
            "grid_gap": null,
            "max_width": null,
            "order": null,
            "_view_module_version": "1.2.0",
            "grid_template_areas": null,
            "object_position": null,
            "object_fit": null,
            "grid_auto_columns": null,
            "margin": null,
            "display": null,
            "left": null
          }
        },
        "47d9fa337e4e4eef9f376fef021b530a": {
          "model_module": "@jupyter-widgets/controls",
          "model_name": "DescriptionStyleModel",
          "state": {
            "_view_name": "StyleView",
            "_model_name": "DescriptionStyleModel",
            "description_width": "",
            "_view_module": "@jupyter-widgets/base",
            "_model_module_version": "1.5.0",
            "_view_count": null,
            "_view_module_version": "1.2.0",
            "_model_module": "@jupyter-widgets/controls"
          }
        },
        "4c2f101d9acc41718752d771215966a3": {
          "model_module": "@jupyter-widgets/base",
          "model_name": "LayoutModel",
          "state": {
            "_view_name": "LayoutView",
            "grid_template_rows": null,
            "right": null,
            "justify_content": null,
            "_view_module": "@jupyter-widgets/base",
            "overflow": null,
            "_model_module_version": "1.2.0",
            "_view_count": null,
            "flex_flow": null,
            "width": null,
            "min_width": null,
            "border": null,
            "align_items": null,
            "bottom": null,
            "_model_module": "@jupyter-widgets/base",
            "top": null,
            "grid_column": null,
            "overflow_y": null,
            "overflow_x": null,
            "grid_auto_flow": null,
            "grid_area": null,
            "grid_template_columns": null,
            "flex": null,
            "_model_name": "LayoutModel",
            "justify_items": null,
            "grid_row": null,
            "max_height": null,
            "align_content": null,
            "visibility": null,
            "align_self": null,
            "height": null,
            "min_height": null,
            "padding": null,
            "grid_auto_rows": null,
            "grid_gap": null,
            "max_width": null,
            "order": null,
            "_view_module_version": "1.2.0",
            "grid_template_areas": null,
            "object_position": null,
            "object_fit": null,
            "grid_auto_columns": null,
            "margin": null,
            "display": null,
            "left": null
          }
        }
      }
    }
  },
  "cells": [
    {
      "cell_type": "markdown",
      "metadata": {
        "id": "oiH82RK1ViWE"
      },
      "source": [
        "# Spectogram classification 모델 구현\n",
        "---\n",
        "## 1차원 waveform을 2차원의 Spectrogram으로 변환 후 학습\n",
        "- skip connection이 없는 기본 버전과 있는 버전을 비교\n",
        "\n",
        "1. 데이터 처리와 분류\n",
        "    - 라벨 데이터 처리하기\n",
        "    - ```sklearn```의 ```train_test_split```함수를 이용하여 train, test 분리\n",
        "2. 학습을 위한 하이퍼파라미터 과정\n",
        "3. 데이터셋 구성\n",
        "    - ```tf.data.Dataset```을 이용\n",
        "    - from_tensor_slices 함수에 return 받길 원하는 데이터를 튜플(data, label)형태로 넣어서 사용\n",
        "    - map과 batch를 이용한 데이터 전처리\n",
        "4. 2차원 Spectogram 데이터를 처리하는 모델 구성\n",
        "    - 2차원 Spectogram 데이터의 시간축 방향으로 Conv1D layer를 적용, 혹은 Conv2D layer를 적용 가능\n",
        "    - BatchNorm, Dropout, Dense layer 등을 이용\n",
        "    - 12개의 단어 class를 구분하는 loss를 사용하고 Adam optimzer를 사용\n",
        "    - 모델 가중치를 저장하는 Checkpoint Callback 함수 추가\n",
        "    - 다양한 모델의 실험을 진행해 본다\n",
        "5. 학습 후, 학습이 어떻게 진행됐는지 그래프로 출력\n",
        "    - loss, accuracy를 그래프로 표현\n",
        "6. Test dataset을 이용해서 모델의 성능을 평가\n",
        "    - 저장한 weight 불러오기\n",
        "    - 모델의 예측값과 정답값이 얼마나 일치하는지 확인"
      ]
    },
    {
      "cell_type": "code",
      "metadata": {
        "id": "MCTTNO47Vv1n",
        "outputId": "373c113d-5e1b-4ec6-d34f-cbf9c302c648",
        "colab": {
          "base_uri": "https://localhost:8080/"
        }
      },
      "source": [
        "from google.colab import drive\n",
        "drive.mount('/content/drive')"
      ],
      "execution_count": 1,
      "outputs": [
        {
          "output_type": "stream",
          "text": [
            "Drive already mounted at /content/drive; to attempt to forcibly remount, call drive.mount(\"/content/drive\", force_remount=True).\n"
          ],
          "name": "stdout"
        }
      ]
    },
    {
      "cell_type": "code",
      "metadata": {
        "id": "0Q5y8LyVViWG"
      },
      "source": [
        "import os\n",
        "import random\n",
        "import librosa\n",
        "import numpy as np\n",
        "import matplotlib.pyplot as plt\n",
        "import IPython.display as ipd\n",
        "import tensorflow as tf\n",
        "from tensorflow.keras import layers\n",
        "from tqdm.notebook import tqdm"
      ],
      "execution_count": 29,
      "outputs": []
    },
    {
      "cell_type": "code",
      "metadata": {
        "id": "y8HxXqycViWM"
      },
      "source": [
        "batch_size = 128\n",
        "max_epochs = 50"
      ],
      "execution_count": 3,
      "outputs": []
    },
    {
      "cell_type": "markdown",
      "metadata": {
        "id": "X3VKMfGpViWS"
      },
      "source": [
        "### train data load"
      ]
    },
    {
      "cell_type": "code",
      "metadata": {
        "id": "L7vJ8sbnViWS"
      },
      "source": [
        "# data_path = os.getenv(\"HOME\") + \"/aiffel/speech_recognition/data/speech_wav_8000.npz\"\n",
        "data_path = '/content/drive/Shared drives/GOFOODA/DOS/wav/speech_wav_8000.npz'\n",
        "speech_data = np.load(data_path)"
      ],
      "execution_count": 4,
      "outputs": []
    },
    {
      "cell_type": "code",
      "metadata": {
        "id": "JNbLmKowViWV",
        "outputId": "93ed7a4a-d4bb-4bbc-f0b8-bc6df0c636f3",
        "colab": {
          "base_uri": "https://localhost:8080/"
        }
      },
      "source": [
        "print(\"Wave data shape : \", speech_data[\"wav_vals\"].shape)\n",
        "print(\"Label data shape : \", speech_data[\"label_vals\"].shape)"
      ],
      "execution_count": 5,
      "outputs": [
        {
          "output_type": "stream",
          "text": [
            "Wave data shape :  (50620, 8000)\n",
            "Label data shape :  (50620, 1)\n"
          ],
          "name": "stdout"
        }
      ]
    },
    {
      "cell_type": "code",
      "metadata": {
        "id": "H7Hy70I2ViWY",
        "outputId": "4e028b6c-59c3-4445-f4ae-a2dd25379da1",
        "colab": {
          "base_uri": "https://localhost:8080/",
          "height": 129
        }
      },
      "source": [
        "# 데이터 선택\n",
        "rand = random.randint(0, len(speech_data[\"wav_vals\"]))\n",
        "print(\"rand num : \", rand)\n",
        "\n",
        "sr = 8000 # 1초동안 재생되는 샘플의 갯수\n",
        "data = speech_data[\"wav_vals\"][rand]\n",
        "print(\"Wave data shape : \", data.shape)\n",
        "print(\"label : \", speech_data[\"label_vals\"][rand])\n",
        "\n",
        "ipd.Audio(data, rate=sr)"
      ],
      "execution_count": 6,
      "outputs": [
        {
          "output_type": "stream",
          "text": [
            "rand num :  31764\n",
            "Wave data shape :  (8000,)\n",
            "label :  ['off']\n"
          ],
          "name": "stdout"
        },
        {
          "output_type": "execute_result",
          "data": {
            "text/html": [
              "\n",
              "                <audio controls=\"controls\" >\n",
              "                    <source src=\"data:audio/wav;base64,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\" type=\"audio/wav\" />\n",
              "                    Your browser does not support the audio element.\n",
              "                </audio>\n",
              "              "
            ],
            "text/plain": [
              "<IPython.lib.display.Audio object>"
            ]
          },
          "metadata": {
            "tags": []
          },
          "execution_count": 6
        }
      ]
    },
    {
      "cell_type": "markdown",
      "metadata": {
        "id": "mTWmPA0dViWa"
      },
      "source": [
        "### label data, one-hot encoding"
      ]
    },
    {
      "cell_type": "code",
      "metadata": {
        "id": "JAGLdHrlViWa",
        "outputId": "051a07f7-cb45-459b-fd6e-b478c624d223",
        "colab": {
          "base_uri": "https://localhost:8080/"
        }
      },
      "source": [
        "target_list = ['yes', 'no', 'up', 'down', 'left', 'right', 'on', 'off', 'stop', 'go']\n",
        "\n",
        "label_value = target_list\n",
        "label_value.append('unknown')\n",
        "label_value.append('silence')\n",
        "\n",
        "new_label_value = dict()\n",
        "for i, l in enumerate(label_value):\n",
        "    new_label_value[l] = i\n",
        "label_value = new_label_value\n",
        "label_value"
      ],
      "execution_count": 7,
      "outputs": [
        {
          "output_type": "execute_result",
          "data": {
            "text/plain": [
              "{'down': 3,\n",
              " 'go': 9,\n",
              " 'left': 4,\n",
              " 'no': 1,\n",
              " 'off': 7,\n",
              " 'on': 6,\n",
              " 'right': 5,\n",
              " 'silence': 11,\n",
              " 'stop': 8,\n",
              " 'unknown': 10,\n",
              " 'up': 2,\n",
              " 'yes': 0}"
            ]
          },
          "metadata": {
            "tags": []
          },
          "execution_count": 7
        }
      ]
    },
    {
      "cell_type": "code",
      "metadata": {
        "id": "2qkHTWYsViWc",
        "outputId": "a8b755c0-05e9-4fd7-a65b-e3b45cdd33d2",
        "colab": {
          "base_uri": "https://localhost:8080/"
        }
      },
      "source": [
        "temp = []\n",
        "for v in speech_data[\"label_vals\"]:\n",
        "    temp.append(label_value[v[0]])\n",
        "label_data = np.array(temp)\n",
        "label_data, len(label_data)"
      ],
      "execution_count": 8,
      "outputs": [
        {
          "output_type": "execute_result",
          "data": {
            "text/plain": [
              "(array([ 3,  3,  3, ..., 11, 11, 11]), 50620)"
            ]
          },
          "metadata": {
            "tags": []
          },
          "execution_count": 8
        }
      ]
    },
    {
      "cell_type": "markdown",
      "metadata": {
        "id": "ywORVqi9ViWf"
      },
      "source": [
        "### train_test_split"
      ]
    },
    {
      "cell_type": "code",
      "metadata": {
        "id": "fy1kuASgViWf",
        "outputId": "b573a380-2587-4c6a-fe48-61f2929758a3",
        "colab": {
          "base_uri": "https://localhost:8080/"
        }
      },
      "source": [
        "from sklearn.model_selection import train_test_split\n",
        "\n",
        "sr = 8000  # sampling rate\n",
        "train_wav, test_wav, train_label, test_label = train_test_split(speech_data[\"wav_vals\"], \n",
        "                                                                label_data, \n",
        "                                                                test_size=0.1,\n",
        "                                                                shuffle=True)\n",
        "print(train_wav)"
      ],
      "execution_count": 35,
      "outputs": [
        {
          "output_type": "stream",
          "text": [
            "[[ 0.03029986  0.04931002  0.04492099 ...  0.05155573  0.04484221\n",
            "   0.04081443]\n",
            " [ 0.00392983  0.00240466  0.00136524 ...  0.002612    0.00441726\n",
            "   0.0009433 ]\n",
            " [-0.00030331 -0.00033063 -0.00010485 ...  0.00141877  0.00167597\n",
            "   0.00154028]\n",
            " ...\n",
            " [ 0.00011348  0.00014947 -0.00043908 ... -0.00032227 -0.00029827\n",
            "  -0.00049269]\n",
            " [ 0.00332952  0.00491187  0.0002012  ...  0.00232359  0.00190066\n",
            "  -0.00199212]\n",
            " [-0.00145007 -0.00789316 -0.00783178 ...  0.00588391  0.00590851\n",
            "   0.00533294]]\n"
          ],
          "name": "stdout"
        }
      ]
    },
    {
      "cell_type": "code",
      "metadata": {
        "id": "vhlIQFC_ViWh",
        "outputId": "7bfe0609-2253-4a2e-b44c-8b04fa05a883",
        "colab": {
          "base_uri": "https://localhost:8080/"
        }
      },
      "source": [
        "print(\"train data : \", train_wav.shape)\n",
        "print(\"train labels : \", train_label.shape)\n",
        "print(\"test data : \", test_wav.shape)\n",
        "print(\"test labels : \", test_label.shape)"
      ],
      "execution_count": 10,
      "outputs": [
        {
          "output_type": "stream",
          "text": [
            "train data :  (45558, 8000)\n",
            "train labels :  (45558,)\n",
            "test data :  (5062, 8000)\n",
            "test labels :  (5062,)\n"
          ],
          "name": "stdout"
        }
      ]
    },
    {
      "cell_type": "markdown",
      "metadata": {
        "id": "LPaum-bvViWj"
      },
      "source": [
        "### input data 변환\n",
        "---\n",
        "- 1차원의 waveform 데이터 -> 2차원의 Spectrogram으로 변환"
      ]
    },
    {
      "cell_type": "code",
      "metadata": {
        "id": "VHqeg-RiViWj"
      },
      "source": [
        "def wav2spec(wave, n_fft=258, expand_channel = True) :\n",
        "    result_spec = np.zeros((len(wave), 130, 126))\n",
        "    \n",
        "    \n",
        "    for idx, wav in tqdm(enumerate(wave)):\n",
        "        result_spec[idx] = np.abs(librosa.stft(wav, n_fft=n_fft))\n",
        "    \n",
        "    if expand_channel:\n",
        "        return result_spec[:,:,:,np.newaxis]\n",
        "    \n",
        "    return result_spec"
      ],
      "execution_count": 11,
      "outputs": []
    },
    {
      "cell_type": "code",
      "metadata": {
        "id": "02EODWjdViWk",
        "outputId": "6340e4ea-b00d-4125-8e80-93b30efd9da1",
        "colab": {
          "base_uri": "https://localhost:8080/",
          "height": 135,
          "referenced_widgets": [
            "d22e5c72a5ff49819faf44be927e93eb",
            "61ae62bb57ad4fb1a7d73b7d274bb5a0",
            "ff2dd8b8ee864d8b970c81c82685bcc1",
            "16eeb76a65d34227a27b1f9b3a7fba02",
            "0b5390082a2c40949614fb4cedf1853b",
            "43b14970ac5e41c7a04d2807cb3a2c2f",
            "191c5f1a7b7e40269e2861862b37341d",
            "0353e57140b94134a047f2a2536ef25a",
            "c59f332fdff94bcfbd5c95a9d5aed3a8",
            "3c0871238eda427991e412127c345347",
            "0457b26e8a1546609fa52a927024c099",
            "3ff4d74676e04224ae194bf8fe1db6e3",
            "a92f4d129fd64a6082258b88f3a2e2ea",
            "3b20a38c41dc4d1cab635fbaf8a03a89",
            "47d9fa337e4e4eef9f376fef021b530a",
            "4c2f101d9acc41718752d771215966a3"
          ]
        }
      },
      "source": [
        "train_spec = wav2spec(train_wav)\n",
        "test_spec = wav2spec(test_wav)\n",
        "train_spec.shape, test_spec.shape"
      ],
      "execution_count": 12,
      "outputs": [
        {
          "output_type": "display_data",
          "data": {
            "application/vnd.jupyter.widget-view+json": {
              "model_id": "d22e5c72a5ff49819faf44be927e93eb",
              "version_minor": 0,
              "version_major": 2
            },
            "text/plain": [
              "HBox(children=(FloatProgress(value=1.0, bar_style='info', max=1.0), HTML(value='')))"
            ]
          },
          "metadata": {
            "tags": []
          }
        },
        {
          "output_type": "stream",
          "text": [
            "\n"
          ],
          "name": "stdout"
        },
        {
          "output_type": "display_data",
          "data": {
            "application/vnd.jupyter.widget-view+json": {
              "model_id": "c59f332fdff94bcfbd5c95a9d5aed3a8",
              "version_minor": 0,
              "version_major": 2
            },
            "text/plain": [
              "HBox(children=(FloatProgress(value=1.0, bar_style='info', max=1.0), HTML(value='')))"
            ]
          },
          "metadata": {
            "tags": []
          }
        },
        {
          "output_type": "stream",
          "text": [
            "\n"
          ],
          "name": "stdout"
        },
        {
          "output_type": "execute_result",
          "data": {
            "text/plain": [
              "((45558, 130, 126, 1), (5062, 130, 126, 1))"
            ]
          },
          "metadata": {
            "tags": []
          },
          "execution_count": 12
        }
      ]
    },
    {
      "cell_type": "code",
      "metadata": {
        "id": "zpPehf2pViWm"
      },
      "source": [
        "train_wav_len = len(train_wav)\n",
        "test_wav_len = len(test_wav)\n",
        "del train_wav, test_wav"
      ],
      "execution_count": 13,
      "outputs": []
    },
    {
      "cell_type": "markdown",
      "metadata": {
        "id": "sTsyP1V6ViWo"
      },
      "source": [
        "## tf.data API 활용"
      ]
    },
    {
      "cell_type": "code",
      "metadata": {
        "id": "w3rBTEGYViWp"
      },
      "source": [
        "def one_hot_label(wav, label):\n",
        "    label = tf.one_hot(label, depth=12)\n",
        "    return wav, label"
      ],
      "execution_count": 14,
      "outputs": []
    },
    {
      "cell_type": "code",
      "metadata": {
        "id": "1u7EwpviViWq"
      },
      "source": [
        "train_ds = tf.data.Dataset.from_tensor_slices((train_spec, train_label))\n",
        "# train_ds = train_ds.map(mapping_wav2spec)\n",
        "train_ds = train_ds.map(one_hot_label)\n",
        "train_ds = train_ds.repeat()\n",
        "train_ds = train_ds.batch(batch_size)\n",
        "\n",
        "test_ds = tf.data.Dataset.from_tensor_slices((test_spec, test_label))\n",
        "# test_ds = test_ds.map(mapping_wav2spec)\n",
        "test_ds = test_ds.map(one_hot_label)\n",
        "test_ds = test_ds.repeat()\n",
        "test_ds = test_ds.batch(batch_size)"
      ],
      "execution_count": 15,
      "outputs": []
    },
    {
      "cell_type": "markdown",
      "metadata": {
        "id": "CCsXHXWH0yja"
      },
      "source": [
        "\n",
        "### Spectrogram 시각화"
      ]
    },
    {
      "cell_type": "code",
      "metadata": {
        "id": "T7UU973u0bGu",
        "outputId": "b2657af7-e39b-44c5-e27a-b168142e9457",
        "colab": {
          "base_uri": "https://localhost:8080/",
          "height": 297
        }
      },
      "source": [
        "spectrogram = next(iter(train_ds))[0]\n",
        "\n",
        "import librosa.display\n",
        "\n",
        "librosa.display.specshow(librosa.amplitude_to_db(spectrogram[0,:,:,0], ref=np.max), x_axis='time')\n",
        "plt.title('Power spectrogram')\n",
        "plt.colorbar(format='%+2.0f dB')\n",
        "plt.xticks(range(0, 1))\n",
        "plt.tight_layout()\n",
        "plt.show()"
      ],
      "execution_count": 99,
      "outputs": [
        {
          "output_type": "display_data",
          "data": {
            "image/png": "[encoded data removed]",
            "text/plain": [
              "<Figure size 432x288 with 2 Axes>"
            ]
          },
          "metadata": {
            "tags": [],
            "needs_background": "light"
          }
        }
      ]
    },
    {
      "cell_type": "markdown",
      "metadata": {
        "id": "usgwdoyEViWs"
      },
      "source": [
        "## 모델 생성 및 학습"
      ]
    },
    {
      "cell_type": "markdown",
      "metadata": {
        "id": "m0VOnB7WViWs"
      },
      "source": [
        "### callback함수 선언"
      ]
    },
    {
      "cell_type": "code",
      "metadata": {
        "id": "dKejR-zDViWs"
      },
      "source": [
        "cp_callback = tf.keras.callbacks.ModelCheckpoint('./model_nonskip.h5',\n",
        "                                                 save_weights_only=True,\n",
        "                                                 monitor='val_loss',\n",
        "                                                 mode='auto',\n",
        "                                                 save_best_only=True,\n",
        "                                                 verbose=1)\n",
        "es = tf.keras.callbacks.EarlyStopping(monitor='val_loss', patience=3, mode='auto', verbose=1)"
      ],
      "execution_count": 16,
      "outputs": []
    },
    {
      "cell_type": "markdown",
      "metadata": {
        "id": "kdLWp_MfViWu"
      },
      "source": [
        "### 모델 생성"
      ]
    },
    {
      "cell_type": "code",
      "metadata": {
        "id": "UIneY-ZlViWu"
      },
      "source": [
        "def build_custom_model(is_skip=False):\n",
        "    if is_skip :\n",
        "        input_tensor = layers.Input(shape=(130, 126, 1))\n",
        "\n",
        "        x = layers.Conv2D(32, 9, padding='same', activation='relu')(input_tensor)\n",
        "        x = layers.Conv2D(32, 9, padding='same', activation='relu')(x)\n",
        "        x = layers.MaxPool2D()(x)\n",
        "\n",
        "        x = layers.Conv2D(64, 9, padding='same', activation='relu')(x)\n",
        "        x = layers.Conv2D(64, 9, padding='same', activation='relu')(x)\n",
        "        x = layers.MaxPool2D()(x)\n",
        "\n",
        "        x = layers.Conv2D(128, 9, padding='same', activation='relu')(x)\n",
        "        x = layers.Conv2D(128, 9, padding='same', activation='relu')(x)\n",
        "        x = layers.Conv2D(128, 9, padding='same', activation='relu')(x)\n",
        "        x = layers.MaxPool2D()(x)\n",
        "\n",
        "        x = layers.Conv2D(256, 9, padding='same', activation='relu')(x)\n",
        "        x = layers.Conv2D(256, 9, padding='same', activation='relu')(x)\n",
        "        x = layers.Conv2D(256, 9, padding='same', activation='relu')(x)\n",
        "        x = layers.MaxPool2D()(x)\n",
        "        x = layers.Dropout(0.3)(x)\n",
        "\n",
        "        x = layers.Flatten()(x)\n",
        "        x = layers.Dense(256)(x)\n",
        "        x = layers.BatchNormalization()(x)\n",
        "        x = layers.Activation('relu')(x)\n",
        "\n",
        "        output_tensor = layers.Dense(12)(x)\n",
        "\n",
        "        model = tf.keras.Model(input_tensor, output_tensor)\n",
        "    \n",
        "    else :\n",
        "\n",
        "        input_tensor = layers.Input(shape=(130, 126, 1))\n",
        "\n",
        "        x = layers.Conv2D(32, 9, padding='same', activation='relu')(input_tensor)\n",
        "        x = layers.Conv2D(32, 9, padding='same', activation='relu')(x)\n",
        "        skip_1 = layers.MaxPool2D()(x)\n",
        "\n",
        "        x = layers.Conv2D(64, 9, padding='same', activation='relu')(skip_1)\n",
        "        x = layers.Conv2D(64, 9, padding='same', activation='relu')(x)\n",
        "        x = tf.concat([x, skip_1], -1)\n",
        "        skip_2 = layers.MaxPool2D()(x)\n",
        "\n",
        "        x = layers.Conv2D(128, 9, padding='same', activation='relu')(skip_2)\n",
        "        x = layers.Conv2D(128, 9, padding='same', activation='relu')(x)\n",
        "        x = layers.Conv2D(128, 9, padding='same', activation='relu')(x)\n",
        "        x = tf.concat([x, skip_2], -1)\n",
        "        skip_3 = layers.MaxPool2D()(x)\n",
        "\n",
        "        x = layers.Conv2D(256, 9, padding='same', activation='relu')(skip_3)\n",
        "        x = layers.Conv2D(256, 9, padding='same', activation='relu')(x)\n",
        "        x = layers.Conv2D(256, 9, padding='same', activation='relu')(x)\n",
        "        x = tf.concat([x, skip_3], -1)\n",
        "        x = layers.MaxPool2D()(x)\n",
        "        x = layers.Dropout(0.3)(x)\n",
        "\n",
        "        x = layers.Flatten()(x)\n",
        "        x = layers.Dense(256)(x)\n",
        "        x = layers.BatchNormalization()(x)\n",
        "        x = layers.Activation('relu')(x)\n",
        "\n",
        "        output_tensor = layers.Dense(12)(x)\n",
        "\n",
        "        model = tf.keras.Model(input_tensor, output_tensor)\n",
        "\n",
        "    return model"
      ],
      "execution_count": 17,
      "outputs": []
    },
    {
      "cell_type": "code",
      "metadata": {
        "id": "S3U6O3mWViWw",
        "outputId": "4930f1a7-77f6-4c89-a8ee-44080013f6d1",
        "colab": {
          "base_uri": "https://localhost:8080/"
        }
      },
      "source": [
        "model_wav = build_custom_model()\n",
        "model_wav.summary()"
      ],
      "execution_count": 26,
      "outputs": [
        {
          "output_type": "stream",
          "text": [
            "Model: \"functional_7\"\n",
            "__________________________________________________________________________________________________\n",
            "Layer (type)                    Output Shape         Param #     Connected to                     \n",
            "==================================================================================================\n",
            "input_4 (InputLayer)            [(None, 130, 126, 1) 0                                            \n",
            "__________________________________________________________________________________________________\n",
            "conv2d_30 (Conv2D)              (None, 130, 126, 32) 2624        input_4[0][0]                    \n",
            "__________________________________________________________________________________________________\n",
            "conv2d_31 (Conv2D)              (None, 130, 126, 32) 82976       conv2d_30[0][0]                  \n",
            "__________________________________________________________________________________________________\n",
            "max_pooling2d_12 (MaxPooling2D) (None, 65, 63, 32)   0           conv2d_31[0][0]                  \n",
            "__________________________________________________________________________________________________\n",
            "conv2d_32 (Conv2D)              (None, 65, 63, 64)   165952      max_pooling2d_12[0][0]           \n",
            "__________________________________________________________________________________________________\n",
            "conv2d_33 (Conv2D)              (None, 65, 63, 64)   331840      conv2d_32[0][0]                  \n",
            "__________________________________________________________________________________________________\n",
            "tf_op_layer_concat_6 (TensorFlo [(None, 65, 63, 96)] 0           conv2d_33[0][0]                  \n",
            "                                                                 max_pooling2d_12[0][0]           \n",
            "__________________________________________________________________________________________________\n",
            "max_pooling2d_13 (MaxPooling2D) (None, 32, 31, 96)   0           tf_op_layer_concat_6[0][0]       \n",
            "__________________________________________________________________________________________________\n",
            "conv2d_34 (Conv2D)              (None, 32, 31, 128)  995456      max_pooling2d_13[0][0]           \n",
            "__________________________________________________________________________________________________\n",
            "conv2d_35 (Conv2D)              (None, 32, 31, 128)  1327232     conv2d_34[0][0]                  \n",
            "__________________________________________________________________________________________________\n",
            "conv2d_36 (Conv2D)              (None, 32, 31, 128)  1327232     conv2d_35[0][0]                  \n",
            "__________________________________________________________________________________________________\n",
            "tf_op_layer_concat_7 (TensorFlo [(None, 32, 31, 224) 0           conv2d_36[0][0]                  \n",
            "                                                                 max_pooling2d_13[0][0]           \n",
            "__________________________________________________________________________________________________\n",
            "max_pooling2d_14 (MaxPooling2D) (None, 16, 15, 224)  0           tf_op_layer_concat_7[0][0]       \n",
            "__________________________________________________________________________________________________\n",
            "conv2d_37 (Conv2D)              (None, 16, 15, 256)  4645120     max_pooling2d_14[0][0]           \n",
            "__________________________________________________________________________________________________\n",
            "conv2d_38 (Conv2D)              (None, 16, 15, 256)  5308672     conv2d_37[0][0]                  \n",
            "__________________________________________________________________________________________________\n",
            "conv2d_39 (Conv2D)              (None, 16, 15, 256)  5308672     conv2d_38[0][0]                  \n",
            "__________________________________________________________________________________________________\n",
            "tf_op_layer_concat_8 (TensorFlo [(None, 16, 15, 480) 0           conv2d_39[0][0]                  \n",
            "                                                                 max_pooling2d_14[0][0]           \n",
            "__________________________________________________________________________________________________\n",
            "max_pooling2d_15 (MaxPooling2D) (None, 8, 7, 480)    0           tf_op_layer_concat_8[0][0]       \n",
            "__________________________________________________________________________________________________\n",
            "dropout_3 (Dropout)             (None, 8, 7, 480)    0           max_pooling2d_15[0][0]           \n",
            "__________________________________________________________________________________________________\n",
            "flatten_3 (Flatten)             (None, 26880)        0           dropout_3[0][0]                  \n",
            "__________________________________________________________________________________________________\n",
            "dense_6 (Dense)                 (None, 256)          6881536     flatten_3[0][0]                  \n",
            "__________________________________________________________________________________________________\n",
            "batch_normalization_3 (BatchNor (None, 256)          1024        dense_6[0][0]                    \n",
            "__________________________________________________________________________________________________\n",
            "activation_3 (Activation)       (None, 256)          0           batch_normalization_3[0][0]      \n",
            "__________________________________________________________________________________________________\n",
            "dense_7 (Dense)                 (None, 12)           3084        activation_3[0][0]               \n",
            "==================================================================================================\n",
            "Total params: 26,381,420\n",
            "Trainable params: 26,380,908\n",
            "Non-trainable params: 512\n",
            "__________________________________________________________________________________________________\n"
          ],
          "name": "stdout"
        }
      ]
    },
    {
      "cell_type": "code",
      "metadata": {
        "id": "W62Pj3wsViWy",
        "outputId": "e4920981-6d9c-4440-a834-a82ae39bf3e1",
        "colab": {
          "base_uri": "https://localhost:8080/"
        }
      },
      "source": [
        "model_wav.compile(loss=tf.keras.losses.CategoricalCrossentropy(from_logits=True),\n",
        "             optimizer=tf.keras.optimizers.Adam(1e-4),\n",
        "             metrics=['accuracy'])\n",
        "#30분 내외 소요\n",
        "history_wav = model_wav.fit(train_ds, epochs=max_epochs,\n",
        "                    steps_per_epoch=train_wav_len // batch_size,\n",
        "                    validation_data=test_ds,\n",
        "                    validation_steps=test_wav_len // batch_size,\n",
        "                    callbacks=[cp_callback, es]\n",
        "                    )\n",
        "model_wav.save('./normal_model.h5')\n",
        "del model_wav"
      ],
      "execution_count": 28,
      "outputs": [
        {
          "output_type": "stream",
          "text": [
            "Epoch 1/50\n",
            "  2/355 [..............................] - ETA: 56s - loss: 2.9554 - accuracy: 0.0625WARNING:tensorflow:Callbacks method `on_train_batch_end` is slow compared to the batch time (batch time: 0.0916s vs `on_train_batch_end` time: 0.2290s). Check your callbacks.\n",
            "355/355 [==============================] - ETA: 0s - loss: 0.9185 - accuracy: 0.6996\n",
            "Epoch 00001: val_loss did not improve from 0.09071\n",
            "355/355 [==============================] - 116s 327ms/step - loss: 0.9185 - accuracy: 0.6996 - val_loss: 0.4033 - val_accuracy: 0.8814\n",
            "Epoch 2/50\n",
            "355/355 [==============================] - ETA: 0s - loss: 0.2409 - accuracy: 0.9221\n",
            "Epoch 00002: val_loss did not improve from 0.09071\n",
            "355/355 [==============================] - 116s 328ms/step - loss: 0.2409 - accuracy: 0.9221 - val_loss: 0.2307 - val_accuracy: 0.9237\n",
            "Epoch 3/50\n",
            "355/355 [==============================] - ETA: 0s - loss: 0.1507 - accuracy: 0.9518\n",
            "Epoch 00003: val_loss did not improve from 0.09071\n",
            "355/355 [==============================] - 116s 328ms/step - loss: 0.1507 - accuracy: 0.9518 - val_loss: 0.1807 - val_accuracy: 0.9395\n",
            "Epoch 4/50\n",
            "355/355 [==============================] - ETA: 0s - loss: 0.1134 - accuracy: 0.9640\n",
            "Epoch 00004: val_loss did not improve from 0.09071\n",
            "355/355 [==============================] - 116s 328ms/step - loss: 0.1134 - accuracy: 0.9640 - val_loss: 0.1386 - val_accuracy: 0.9549\n",
            "Epoch 5/50\n",
            "355/355 [==============================] - ETA: 0s - loss: 0.0888 - accuracy: 0.9714\n",
            "Epoch 00005: val_loss did not improve from 0.09071\n",
            "355/355 [==============================] - 116s 328ms/step - loss: 0.0888 - accuracy: 0.9714 - val_loss: 0.1275 - val_accuracy: 0.9551\n",
            "Epoch 6/50\n",
            "355/355 [==============================] - ETA: 0s - loss: 0.0738 - accuracy: 0.9758\n",
            "Epoch 00006: val_loss did not improve from 0.09071\n",
            "355/355 [==============================] - 116s 328ms/step - loss: 0.0738 - accuracy: 0.9758 - val_loss: 0.1259 - val_accuracy: 0.9575\n",
            "Epoch 7/50\n",
            "355/355 [==============================] - ETA: 0s - loss: 0.0628 - accuracy: 0.9796\n",
            "Epoch 00007: val_loss did not improve from 0.09071\n",
            "355/355 [==============================] - 116s 328ms/step - loss: 0.0628 - accuracy: 0.9796 - val_loss: 0.1002 - val_accuracy: 0.9647\n",
            "Epoch 8/50\n",
            "355/355 [==============================] - ETA: 0s - loss: 0.0566 - accuracy: 0.9813\n",
            "Epoch 00008: val_loss did not improve from 0.09071\n",
            "355/355 [==============================] - 116s 327ms/step - loss: 0.0566 - accuracy: 0.9813 - val_loss: 0.1038 - val_accuracy: 0.9667\n",
            "Epoch 9/50\n",
            "355/355 [==============================] - ETA: 0s - loss: 0.0524 - accuracy: 0.9829\n",
            "Epoch 00009: val_loss did not improve from 0.09071\n",
            "355/355 [==============================] - 116s 328ms/step - loss: 0.0524 - accuracy: 0.9829 - val_loss: 0.1203 - val_accuracy: 0.9611\n",
            "Epoch 10/50\n",
            "355/355 [==============================] - ETA: 0s - loss: 0.0458 - accuracy: 0.9853\n",
            "Epoch 00010: val_loss did not improve from 0.09071\n",
            "355/355 [==============================] - 116s 328ms/step - loss: 0.0458 - accuracy: 0.9853 - val_loss: 0.1014 - val_accuracy: 0.9645\n",
            "Epoch 00010: early stopping\n"
          ],
          "name": "stdout"
        }
      ]
    },
    {
      "cell_type": "code",
      "metadata": {
        "id": "UhhFOZXMViW0",
        "outputId": "a4afbf70-eddf-4b04-d69e-443b9286f37e",
        "colab": {
          "base_uri": "https://localhost:8080/"
        }
      },
      "source": [
        "model_wav_skip = build_custom_model(is_skip=True)\n",
        "model_wav_skip.summary()"
      ],
      "execution_count": 20,
      "outputs": [
        {
          "output_type": "stream",
          "text": [
            "Model: \"functional_3\"\n",
            "_________________________________________________________________\n",
            "Layer (type)                 Output Shape              Param #   \n",
            "=================================================================\n",
            "input_2 (InputLayer)         [(None, 130, 126, 1)]     0         \n",
            "_________________________________________________________________\n",
            "conv2d_10 (Conv2D)           (None, 130, 126, 32)      2624      \n",
            "_________________________________________________________________\n",
            "conv2d_11 (Conv2D)           (None, 130, 126, 32)      82976     \n",
            "_________________________________________________________________\n",
            "max_pooling2d_4 (MaxPooling2 (None, 65, 63, 32)        0         \n",
            "_________________________________________________________________\n",
            "conv2d_12 (Conv2D)           (None, 65, 63, 64)        165952    \n",
            "_________________________________________________________________\n",
            "conv2d_13 (Conv2D)           (None, 65, 63, 64)        331840    \n",
            "_________________________________________________________________\n",
            "max_pooling2d_5 (MaxPooling2 (None, 32, 31, 64)        0         \n",
            "_________________________________________________________________\n",
            "conv2d_14 (Conv2D)           (None, 32, 31, 128)       663680    \n",
            "_________________________________________________________________\n",
            "conv2d_15 (Conv2D)           (None, 32, 31, 128)       1327232   \n",
            "_________________________________________________________________\n",
            "conv2d_16 (Conv2D)           (None, 32, 31, 128)       1327232   \n",
            "_________________________________________________________________\n",
            "max_pooling2d_6 (MaxPooling2 (None, 16, 15, 128)       0         \n",
            "_________________________________________________________________\n",
            "conv2d_17 (Conv2D)           (None, 16, 15, 256)       2654464   \n",
            "_________________________________________________________________\n",
            "conv2d_18 (Conv2D)           (None, 16, 15, 256)       5308672   \n",
            "_________________________________________________________________\n",
            "conv2d_19 (Conv2D)           (None, 16, 15, 256)       5308672   \n",
            "_________________________________________________________________\n",
            "max_pooling2d_7 (MaxPooling2 (None, 8, 7, 256)         0         \n",
            "_________________________________________________________________\n",
            "dropout_1 (Dropout)          (None, 8, 7, 256)         0         \n",
            "_________________________________________________________________\n",
            "flatten_1 (Flatten)          (None, 14336)             0         \n",
            "_________________________________________________________________\n",
            "dense_2 (Dense)              (None, 256)               3670272   \n",
            "_________________________________________________________________\n",
            "batch_normalization_1 (Batch (None, 256)               1024      \n",
            "_________________________________________________________________\n",
            "activation_1 (Activation)    (None, 256)               0         \n",
            "_________________________________________________________________\n",
            "dense_3 (Dense)              (None, 12)                3084      \n",
            "=================================================================\n",
            "Total params: 20,847,724\n",
            "Trainable params: 20,847,212\n",
            "Non-trainable params: 512\n",
            "_________________________________________________________________\n"
          ],
          "name": "stdout"
        }
      ]
    },
    {
      "cell_type": "code",
      "metadata": {
        "id": "nLzaFVEAViW1"
      },
      "source": [
        "model_wav_skip.compile(loss=tf.keras.losses.CategoricalCrossentropy(from_logits=True),\n",
        "             optimizer=tf.keras.optimizers.Adam(1e-4),\n",
        "             metrics=['accuracy'])"
      ],
      "execution_count": 21,
      "outputs": []
    },
    {
      "cell_type": "code",
      "metadata": {
        "id": "y0-d83UdViW3",
        "outputId": "bf687f05-893d-4e6c-c4f3-d36395517663",
        "colab": {
          "base_uri": "https://localhost:8080/"
        }
      },
      "source": [
        "#30분 내외 소요\n",
        "history_wav_skip = model_wav_skip.fit(train_ds, epochs=max_epochs,\n",
        "                    steps_per_epoch=train_wav_len // batch_size,\n",
        "                    validation_data=test_ds,\n",
        "                    validation_steps=test_wav_len // batch_size,\n",
        "                    callbacks=[cp_callback, es]\n",
        "                    )\n",
        "model_wav_skip.save('./skip_model.h5')\n",
        "del model_wav_skip"
      ],
      "execution_count": 22,
      "outputs": [
        {
          "output_type": "stream",
          "text": [
            "Epoch 1/50\n",
            "  2/355 [..............................] - ETA: 53s - loss: 2.5989 - accuracy: 0.1094WARNING:tensorflow:Callbacks method `on_train_batch_end` is slow compared to the batch time (batch time: 0.0864s vs `on_train_batch_end` time: 0.2165s). Check your callbacks.\n",
            "355/355 [==============================] - ETA: 0s - loss: 0.8408 - accuracy: 0.7172\n",
            "Epoch 00001: val_loss did not improve from 0.10410\n",
            "355/355 [==============================] - 109s 307ms/step - loss: 0.8408 - accuracy: 0.7172 - val_loss: 0.6797 - val_accuracy: 0.8828\n",
            "Epoch 2/50\n",
            "355/355 [==============================] - ETA: 0s - loss: 0.2642 - accuracy: 0.9156\n",
            "Epoch 00002: val_loss did not improve from 0.10410\n",
            "355/355 [==============================] - 108s 305ms/step - loss: 0.2642 - accuracy: 0.9156 - val_loss: 0.2201 - val_accuracy: 0.9301\n",
            "Epoch 3/50\n",
            "355/355 [==============================] - ETA: 0s - loss: 0.1723 - accuracy: 0.9447\n",
            "Epoch 00003: val_loss did not improve from 0.10410\n",
            "355/355 [==============================] - 108s 305ms/step - loss: 0.1723 - accuracy: 0.9447 - val_loss: 0.1947 - val_accuracy: 0.9357\n",
            "Epoch 4/50\n",
            "355/355 [==============================] - ETA: 0s - loss: 0.1315 - accuracy: 0.9571\n",
            "Epoch 00004: val_loss did not improve from 0.10410\n",
            "355/355 [==============================] - 108s 306ms/step - loss: 0.1315 - accuracy: 0.9571 - val_loss: 0.1948 - val_accuracy: 0.9373\n",
            "Epoch 5/50\n",
            "355/355 [==============================] - ETA: 0s - loss: 0.1052 - accuracy: 0.9661\n",
            "Epoch 00005: val_loss did not improve from 0.10410\n",
            "355/355 [==============================] - 108s 305ms/step - loss: 0.1052 - accuracy: 0.9661 - val_loss: 0.1195 - val_accuracy: 0.9601\n",
            "Epoch 6/50\n",
            "355/355 [==============================] - ETA: 0s - loss: 0.0866 - accuracy: 0.9717\n",
            "Epoch 00006: val_loss did not improve from 0.10410\n",
            "355/355 [==============================] - 109s 306ms/step - loss: 0.0866 - accuracy: 0.9717 - val_loss: 0.1375 - val_accuracy: 0.9549\n",
            "Epoch 7/50\n",
            "355/355 [==============================] - ETA: 0s - loss: 0.0740 - accuracy: 0.9755\n",
            "Epoch 00007: val_loss did not improve from 0.10410\n",
            "355/355 [==============================] - 108s 306ms/step - loss: 0.0740 - accuracy: 0.9755 - val_loss: 0.1413 - val_accuracy: 0.9521\n",
            "Epoch 8/50\n",
            "355/355 [==============================] - ETA: 0s - loss: 0.0700 - accuracy: 0.9767\n",
            "Epoch 00008: val_loss did not improve from 0.10410\n",
            "355/355 [==============================] - 108s 305ms/step - loss: 0.0700 - accuracy: 0.9767 - val_loss: 0.1086 - val_accuracy: 0.9651\n",
            "Epoch 9/50\n",
            "355/355 [==============================] - ETA: 0s - loss: 0.0605 - accuracy: 0.9797\n",
            "Epoch 00009: val_loss did not improve from 0.10410\n",
            "355/355 [==============================] - 108s 306ms/step - loss: 0.0605 - accuracy: 0.9797 - val_loss: 0.1180 - val_accuracy: 0.9615\n",
            "Epoch 10/50\n",
            "355/355 [==============================] - ETA: 0s - loss: 0.0586 - accuracy: 0.9801\n",
            "Epoch 00010: val_loss did not improve from 0.10410\n",
            "355/355 [==============================] - 108s 305ms/step - loss: 0.0586 - accuracy: 0.9801 - val_loss: 0.1177 - val_accuracy: 0.9643\n",
            "Epoch 11/50\n",
            "355/355 [==============================] - ETA: 0s - loss: 0.0517 - accuracy: 0.9823\n",
            "Epoch 00011: val_loss improved from 0.10410 to 0.10305, saving model to ./model_nonskip.h5\n",
            "355/355 [==============================] - 108s 306ms/step - loss: 0.0517 - accuracy: 0.9823 - val_loss: 0.1030 - val_accuracy: 0.9692\n",
            "Epoch 12/50\n",
            "355/355 [==============================] - ETA: 0s - loss: 0.0483 - accuracy: 0.9835\n",
            "Epoch 00012: val_loss improved from 0.10305 to 0.10006, saving model to ./model_nonskip.h5\n",
            "355/355 [==============================] - 109s 307ms/step - loss: 0.0483 - accuracy: 0.9835 - val_loss: 0.1001 - val_accuracy: 0.9683\n",
            "Epoch 13/50\n",
            "355/355 [==============================] - ETA: 0s - loss: 0.0491 - accuracy: 0.9832\n",
            "Epoch 00013: val_loss did not improve from 0.10006\n",
            "355/355 [==============================] - 109s 306ms/step - loss: 0.0491 - accuracy: 0.9832 - val_loss: 0.1163 - val_accuracy: 0.9635\n",
            "Epoch 14/50\n",
            "355/355 [==============================] - ETA: 0s - loss: 0.0496 - accuracy: 0.9832\n",
            "Epoch 00014: val_loss did not improve from 0.10006\n",
            "355/355 [==============================] - 109s 306ms/step - loss: 0.0496 - accuracy: 0.9832 - val_loss: 0.1102 - val_accuracy: 0.9659\n",
            "Epoch 15/50\n",
            "355/355 [==============================] - ETA: 0s - loss: 0.0394 - accuracy: 0.9866\n",
            "Epoch 00015: val_loss improved from 0.10006 to 0.09616, saving model to ./model_nonskip.h5\n",
            "355/355 [==============================] - 109s 307ms/step - loss: 0.0394 - accuracy: 0.9866 - val_loss: 0.0962 - val_accuracy: 0.9692\n",
            "Epoch 16/50\n",
            "355/355 [==============================] - ETA: 0s - loss: 0.0420 - accuracy: 0.9859\n",
            "Epoch 00016: val_loss did not improve from 0.09616\n",
            "355/355 [==============================] - 109s 306ms/step - loss: 0.0420 - accuracy: 0.9859 - val_loss: 0.1091 - val_accuracy: 0.9645\n",
            "Epoch 17/50\n",
            "355/355 [==============================] - ETA: 0s - loss: 0.0393 - accuracy: 0.9868\n",
            "Epoch 00017: val_loss did not improve from 0.09616\n",
            "355/355 [==============================] - 109s 307ms/step - loss: 0.0393 - accuracy: 0.9868 - val_loss: 0.1084 - val_accuracy: 0.9661\n",
            "Epoch 18/50\n",
            "355/355 [==============================] - ETA: 0s - loss: 0.0374 - accuracy: 0.9873\n",
            "Epoch 00018: val_loss improved from 0.09616 to 0.09071, saving model to ./model_nonskip.h5\n",
            "355/355 [==============================] - 109s 307ms/step - loss: 0.0374 - accuracy: 0.9873 - val_loss: 0.0907 - val_accuracy: 0.9700\n",
            "Epoch 19/50\n",
            "355/355 [==============================] - ETA: 0s - loss: 0.0319 - accuracy: 0.9892\n",
            "Epoch 00019: val_loss did not improve from 0.09071\n",
            "355/355 [==============================] - 109s 306ms/step - loss: 0.0319 - accuracy: 0.9892 - val_loss: 0.1002 - val_accuracy: 0.9716\n",
            "Epoch 20/50\n",
            "355/355 [==============================] - ETA: 0s - loss: 0.0329 - accuracy: 0.9891\n",
            "Epoch 00020: val_loss did not improve from 0.09071\n",
            "355/355 [==============================] - 109s 307ms/step - loss: 0.0329 - accuracy: 0.9891 - val_loss: 0.1128 - val_accuracy: 0.9692\n",
            "Epoch 21/50\n",
            "355/355 [==============================] - ETA: 0s - loss: 0.0351 - accuracy: 0.9884\n",
            "Epoch 00021: val_loss did not improve from 0.09071\n",
            "355/355 [==============================] - 109s 307ms/step - loss: 0.0351 - accuracy: 0.9884 - val_loss: 0.1012 - val_accuracy: 0.9700\n",
            "Epoch 00021: early stopping\n"
          ],
          "name": "stdout"
        }
      ]
    },
    {
      "cell_type": "markdown",
      "metadata": {
        "id": "WoWJ853KViW4"
      },
      "source": [
        "## 결과 시각화"
      ]
    },
    {
      "cell_type": "code",
      "metadata": {
        "id": "S1dsRhBEViW5"
      },
      "source": [
        "def plot_result(history):\n",
        "    acc = history.history['accuracy']\n",
        "    val_acc = history.history['val_accuracy']\n",
        "\n",
        "    loss=history.history['loss']\n",
        "    val_loss=history.history['val_loss']\n",
        "\n",
        "    epochs_range = range(len(acc))\n",
        "\n",
        "    plt.figure(figsize=(8, 8))\n",
        "    plt.subplot(1, 2, 1)\n",
        "    plt.plot(epochs_range, acc, label='Training Accuracy')\n",
        "    plt.plot(epochs_range, val_acc, label='Validation Accuracy')\n",
        "    plt.legend(loc='lower right')\n",
        "    plt.title('Training and Validation Accuracy')\n",
        "\n",
        "    plt.subplot(1, 2, 2)\n",
        "    plt.plot(epochs_range, loss, label='Training Loss')\n",
        "    plt.plot(epochs_range, val_loss, label='Validation Loss')\n",
        "    plt.legend(loc='upper right')\n",
        "    plt.title('Training and Validation Loss')\n",
        "    plt.show()"
      ],
      "execution_count": 80,
      "outputs": []
    },
    {
      "cell_type": "code",
      "metadata": {
        "id": "f55dZDzyxFEp",
        "outputId": "9b46a059-5e82-4895-c344-e8c2b74c3f57",
        "colab": {
          "base_uri": "https://localhost:8080/"
        }
      },
      "source": [
        "print(\"Model :history_wav\\nBest Validation Accuracy : {}\".format(round(max(history_wav.history['val_accuracy']),4)))"
      ],
      "execution_count": 94,
      "outputs": [
        {
          "output_type": "stream",
          "text": [
            "Model :\thistory_wav\n",
            "Best Validation Accuracy : 0.9667\n"
          ],
          "name": "stdout"
        }
      ]
    },
    {
      "cell_type": "code",
      "metadata": {
        "id": "mYaQtG4mViW6",
        "outputId": "4ffab91f-ab79-41f4-a24c-de6956ff3e25",
        "colab": {
          "base_uri": "https://localhost:8080/",
          "height": 499
        }
      },
      "source": [
        "plot_result(history_wav)"
      ],
      "execution_count": 79,
      "outputs": [
        {
          "output_type": "display_data",
          "data": {
            "image/png": "[encoded data removed]",
            "text/plain": [
              "<Figure size 576x576 with 2 Axes>"
            ]
          },
          "metadata": {
            "tags": [],
            "needs_background": "light"
          }
        }
      ]
    },
    {
      "cell_type": "code",
      "metadata": {
        "id": "MhwyGVINz8fw",
        "outputId": "f9982ef8-937f-4cf7-cdc5-25afa7d8c72a",
        "colab": {
          "base_uri": "https://localhost:8080/"
        }
      },
      "source": [
        "print(\"Model : history_wav_skip\\nBest Validation Accuracy : {}\".format(round(max(history_wav_skip.history['val_accuracy']),4)))"
      ],
      "execution_count": 95,
      "outputs": [
        {
          "output_type": "stream",
          "text": [
            "Model :history_wav_skip\n",
            "Best Validation Accuracy : 0.9716\n"
          ],
          "name": "stdout"
        }
      ]
    },
    {
      "cell_type": "code",
      "metadata": {
        "id": "JaiWWjwsViW8",
        "outputId": "4d5f89c4-dd38-42ba-97f6-f65e373cc11e",
        "colab": {
          "base_uri": "https://localhost:8080/",
          "height": 499
        }
      },
      "source": [
        "plot_result(history_wav_skip)"
      ],
      "execution_count": 81,
      "outputs": [
        {
          "output_type": "display_data",
          "data": {
            "image/png": "[encoded data removed]",
            "text/plain": [
              "<Figure size 576x576 with 2 Axes>"
            ]
          },
          "metadata": {
            "tags": [],
            "needs_background": "light"
          }
        }
      ]
    },
    {
      "cell_type": "markdown",
      "metadata": {
        "id": "tHBzThCTViW-"
      },
      "source": [
        "## Test"
      ]
    },
    {
      "cell_type": "code",
      "metadata": {
        "id": "RBQ0HIn4uKxS"
      },
      "source": [
        "def spec2wav(spec, n_fft=258) :\n",
        "\n",
        "    spec = spec.squeeze()\n",
        "    wav = np.abs(librosa.istft(spec))\n",
        "    \n",
        "    return wav"
      ],
      "execution_count": 75,
      "outputs": []
    },
    {
      "cell_type": "code",
      "metadata": {
        "id": "3I9WeGnSspkL"
      },
      "source": [
        "model_wav = tf.keras.models.load_model('./normal_model.h5')"
      ],
      "execution_count": 37,
      "outputs": []
    },
    {
      "cell_type": "code",
      "metadata": {
        "id": "WdH59eBDViW-",
        "outputId": "24050789-7899-43f0-f15f-ba74c7c92fbf",
        "colab": {
          "base_uri": "https://localhost:8080/",
          "height": 93
        }
      },
      "source": [
        "# Test \n",
        "\n",
        "inv_label_value = {v: k for k, v in label_value.items()}\n",
        "batch_index = np.random.choice(len(test_spec), size=1, replace=False)\n",
        "\n",
        "batch_xs = test_spec[batch_index]\n",
        "batch_ys = test_label[batch_index]\n",
        "y_pred_ = model_wav(batch_xs, training=False)\n",
        "\n",
        "print(\"label : \", str(inv_label_value[batch_ys[0]]))\n",
        "\n",
        "\n",
        "ipd.Audio(spec2wav(batch_xs).reshape(8000,), rate=8000)"
      ],
      "execution_count": 76,
      "outputs": [
        {
          "output_type": "stream",
          "text": [
            "label :  no\n"
          ],
          "name": "stdout"
        },
        {
          "output_type": "execute_result",
          "data": {
            "text/html": [
              "\n",
              "                <audio controls=\"controls\" >\n",
              "                    <source src=\"data:audio/wav;base64,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\" type=\"audio/wav\" />\n",
              "                    Your browser does not support the audio element.\n",
              "                </audio>\n",
              "              "
            ],
            "text/plain": [
              "<IPython.lib.display.Audio object>"
            ]
          },
          "metadata": {
            "tags": []
          },
          "execution_count": 76
        }
      ]
    },
    {
      "cell_type": "code",
      "metadata": {
        "id": "ayKtWc_bViXA"
      },
      "source": [
        "model_wav_skip = tf.keras.models.load_model('./skip_model.h5')"
      ],
      "execution_count": 68,
      "outputs": []
    },
    {
      "cell_type": "code",
      "metadata": {
        "id": "SsyBKIv3ViXB",
        "outputId": "6ae95ed7-a983-4549-f898-986734c3b81e",
        "colab": {
          "base_uri": "https://localhost:8080/",
          "height": 93
        }
      },
      "source": [
        "# Test \n",
        "\n",
        "inv_label_value = {v: k for k, v in label_value.items()}\n",
        "batch_index = np.random.choice(len(test_spec), size=1, replace=False)\n",
        "\n",
        "batch_xs = test_spec[batch_index]\n",
        "batch_ys = test_label[batch_index]\n",
        "y_pred_ = model_wav_skip(batch_xs, training=False)\n",
        "\n",
        "print(\"label : \", str(inv_label_value[batch_ys[0]]))\n",
        "\n",
        "\n",
        "ipd.Audio(spec2wav(batch_xs).reshape(8000,), rate=8000)"
      ],
      "execution_count": 74,
      "outputs": [
        {
          "output_type": "stream",
          "text": [
            "label :  stop\n"
          ],
          "name": "stdout"
        },
        {
          "output_type": "execute_result",
          "data": {
            "text/html": [
              "\n",
              "                <audio controls=\"controls\" >\n",
              "                    <source src=\"data:audio/wav;base64,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\" type=\"audio/wav\" />\n",
              "                    Your browser does not support the audio element.\n",
              "                </audio>\n",
              "              "
            ],
            "text/plain": [
              "<IPython.lib.display.Audio object>"
            ]
          },
          "metadata": {
            "tags": []
          },
          "execution_count": 74
        }
      ]
    },
    {
      "cell_type": "code",
      "metadata": {
        "id": "HHQypgc6wbeK",
        "outputId": "f0ce7495-4180-464f-cb10-cc2f6030ac49",
        "colab": {
          "base_uri": "https://localhost:8080/"
        }
      },
      "source": [
        "next(iter(train_ds))[0].shape"
      ],
      "execution_count": 98,
      "outputs": [
        {
          "output_type": "execute_result",
          "data": {
            "text/plain": [
              "TensorShape([128, 130, 126, 1])"
            ]
          },
          "metadata": {
            "tags": []
          },
          "execution_count": 98
        }
      ]
    },
    {
      "cell_type": "markdown",
      "metadata": {
        "id": "xiGNu59b0R_Q"
      },
      "source": [
        "# 정리\n",
        "---\n",
        "1. Spectrogram 시각화\n",
        "    - 1차원의 waveform 데이터를 2차원의 Spectrogram으로 변환시켰다.  \n",
        "        ![image](https://user-images.githubusercontent.com/48716219/98951535-b849a900-253d-11eb-8f67-bd838a5a1b45.png)\n",
        "\n",
        "2. 두 가지 모델로 학습을 시켰다.\n",
        "    - Skip Connection이 없는 모델\n",
        "    - Skip Connection이 있는 모델\n",
        "    - 두 모델의 accuracy는 각각 ```0.9667```, ```0.9716```으로 Skip Connection을 사용한 모델이 ```0.005```정도 더 정확하게 나왔다.\n",
        "\n",
        "3. 학습 진행\n",
        "    - Skip Connection 사용 X  \n",
        "        ![image](https://user-images.githubusercontent.com/48716219/98952526-e8457c00-253e-11eb-8142-6db4176147de.png)\n",
        "    - Skip Connection 사용  \n",
        "        ![image](https://user-images.githubusercontent.com/48716219/98952636-06ab7780-253f-11eb-8b0e-9b17703612b9.png)\n",
        "\n",
        "    - 기존의 1차원의 waveform을 학습시키던 모델의 Conv1D layer들을 Conv2D layer로 변경을 해주었다.\n",
        "    - 모델에 데이터를 넣기 위해서 채널을 추가해주었다.\n",
        "        ```python\n",
        "        a.shape\n",
        "        >>> (130, 126)\n",
        "        a = a[:,:,np.newaxis]\n",
        "        a.shape\n",
        "        >>> (130, 126, 1)\n",
        "        a = a.squeeze()\n",
        "        a.shape\n",
        "        >>> (130, 126)\n",
        "        ```\n",
        "    > 인위적으로 추가한 채널의 경우 ```np.squeeze```를 수행하여 채널의 차원을 없애고 ```Conv1D```로 학습해도 학습은 정상적으로 진행되었다.\n",
        "\n"
      ]
    },
    {
      "cell_type": "code",
      "metadata": {
        "id": "2dFlqG8J3fL9"
      },
      "source": [
        ""
      ],
      "execution_count": null,
      "outputs": []
    }
  ]
}