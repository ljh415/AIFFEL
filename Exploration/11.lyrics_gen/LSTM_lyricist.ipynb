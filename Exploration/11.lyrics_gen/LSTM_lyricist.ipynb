{
 "cells": [
  {
   "cell_type": "code",
   "execution_count": 1,
   "metadata": {},
   "outputs": [],
   "source": [
    "import re\n",
    "import numpy as np\n",
    "import tensorflow as tf"
   ]
  },
  {
   "cell_type": "markdown",
   "metadata": {},
   "source": [
    "## 데이터 읽어오기"
   ]
  },
  {
   "cell_type": "code",
   "execution_count": 2,
   "metadata": {},
   "outputs": [
    {
     "name": "stdout",
     "output_type": "stream",
     "text": [
      "데이터 크기: 187088\n",
      "Examples:\n",
      " ['The Cat in the Hat', 'By Dr. Seuss', 'The sun did not shine.']\n"
     ]
    }
   ],
   "source": [
    "import glob\n",
    "import os\n",
    "\n",
    "txt_file_path = os.getenv('HOME')+'/aiffel//lyricist/data/lyrics/*'\n",
    "\n",
    "txt_list = glob.glob(txt_file_path)\n",
    "\n",
    "raw_corpus = []\n",
    "\n",
    "# 여러개의 txt 파일을 모두 읽어서 raw_corpus 에 담습니다.\n",
    "for txt_file in txt_list:\n",
    "    with open(txt_file, \"r\") as f:\n",
    "        raw = f.read().splitlines()\n",
    "        raw_corpus.extend(raw)\n",
    "\n",
    "print(\"데이터 크기:\", len(raw_corpus))\n",
    "print(\"Examples:\\n\", raw_corpus[:3])"
   ]
  },
  {
   "cell_type": "markdown",
   "metadata": {},
   "source": [
    "## 데이터 정제"
   ]
  },
  {
   "cell_type": "markdown",
   "metadata": {},
   "source": [
    "preprocess_sentence() 함수를 만든 것을 기억하시죠? 이를 활용해 데이터를 정제하도록 하겠습니다.\n",
    "\n",
    "추가로 지나치게 긴 문장은 다른 데이터들이 과도한 Padding을 갖게 하므로 제거합니다. 문장을 토큰화 했을 때 토큰의 개수가 15개를 넘어가면 잘라내기를 권합니다."
   ]
  },
  {
   "cell_type": "code",
   "execution_count": 3,
   "metadata": {},
   "outputs": [
    {
     "name": "stdout",
     "output_type": "stream",
     "text": [
      "<start> this is sample sentence . <end>\n"
     ]
    }
   ],
   "source": [
    "def preprocess_sentence(sentence):\n",
    "    sentence = sentence.lower().strip()       # 소문자로 바꾸고 양쪽 공백을 삭제\n",
    "    \n",
    "#     temp = re.subn(r\"[A-Za-z]\", \" \", \"[appleAPPLE34] gogo\")[0]\n",
    "#     temp = re.sub(r'[\" \"]+', \" \", temp)\n",
    "#     temp = re.sub(r\"[^a-zA-Z?.!,¿]+\", \" \", temp) \n",
    "#     temp = temp.strip()\n",
    "    \n",
    "    # 아래 3단계를 거쳐 sentence는 스페이스 1개를 delimeter로 하는 소문자 단어 시퀀스로 바뀝니다.\n",
    "    sentence = re.sub(r\"([?.!,¿])\", r\" \\1 \", sentence)        # 패턴의 특수문자를 만나면 특수문자 양쪽에 공백을 추가\n",
    "    sentence = re.sub(r'[\" \"]+', \" \", sentence)                  # 공백 패턴을 만나면 스페이스 1개로 치환\n",
    "    sentence = re.sub(r\"[^a-zA-Z?.!,¿]+\", \" \", sentence)  # a-zA-Z?.!,¿ 패턴을 제외한 모든 문자(공백문자까지도)를 스페이스 1개로 치환\n",
    "\n",
    "    sentence = sentence.strip()\n",
    "\n",
    "    sentence = '<start> ' + sentence + ' <end>'      # 이전 스텝에서 본 것처럼 문장 앞뒤로 <start>와 <end>를 단어처럼 붙여 줍니다\n",
    "    \n",
    "    return sentence\n",
    "\n",
    "print(preprocess_sentence(\"This @_is ;;;sample        sentence.\"))   # 이 문장이 어떻게 필터링되는지 확인해 보세요."
   ]
  },
  {
   "cell_type": "code",
   "execution_count": 4,
   "metadata": {},
   "outputs": [
    {
     "data": {
      "text/plain": [
       "['<start> the cat in the hat <end>',\n",
       " '<start> by dr . seuss <end>',\n",
       " '<start> the sun did not shine . <end>',\n",
       " '<start> it was too wet to play . <end>',\n",
       " '<start> so we sat in the house <end>',\n",
       " '<start> all that cold cold wet day . <end>',\n",
       " '<start> i sat there with sally . <end>',\n",
       " '<start> we sat there we two . <end>',\n",
       " '<start> and i said how i wish <end>',\n",
       " '<start> we had something to do ! <end>']"
      ]
     },
     "execution_count": 4,
     "metadata": {},
     "output_type": "execute_result"
    }
   ],
   "source": [
    "corpus = []\n",
    "\n",
    "for sentence in raw_corpus:\n",
    "    if len(sentence) == 0: continue\n",
    "    if sentence[-1] == \":\": continue\n",
    "    \n",
    "    corpus.append(preprocess_sentence(sentence))\n",
    "        \n",
    "corpus[:10]"
   ]
  },
  {
   "cell_type": "code",
   "execution_count": 5,
   "metadata": {},
   "outputs": [
    {
     "name": "stdout",
     "output_type": "stream",
     "text": [
      "[[   2    6  903 ...    0    0    0]\n",
      " [   2  122 2584 ...    0    0    0]\n",
      " [   2    6  304 ...    0    0    0]\n",
      " ...\n",
      " [ 673   27    6 ...    6  189    3]\n",
      " [   2  673   27 ...    0    0    0]\n",
      " [   2  673   27 ...    0    0    0]] <keras_preprocessing.text.Tokenizer object at 0x7f046004b6d0>\n"
     ]
    }
   ],
   "source": [
    "def tokenize(corpus):\n",
    "    # 텐서플로우에서 제공하는 Tokenizer 패키지를 생성\n",
    "    tokenizer = tf.keras.preprocessing.text.Tokenizer(\n",
    "        num_words=17000,  # 전체 단어의 개수 \n",
    "        filters=' ',    # 별도로 전처리 로직을 추가할 수 있습니다. 이번에는 사용하지 않겠습니다.\n",
    "        oov_token=\"<unk>\"  # out-of-vocabulary, 사전에 없었던 단어는 어떤 토큰으로 대체할지\n",
    "    )\n",
    "    tokenizer.fit_on_texts(corpus)   # 우리가 구축한 corpus로부터 Tokenizer가 사전을 자동구축하게 됩니다.\n",
    "\n",
    "    # 이후 tokenizer를 활용하여 모델에 입력할 데이터셋을 구축하게 됩니다.\n",
    "    tensor = tokenizer.texts_to_sequences(corpus)   # tokenizer는 구축한 사전으로부터 corpus를 해석해 Tensor로 변환합니다.\n",
    "\n",
    "    # 입력 데이터의 시퀀스 길이를 일정하게 맞추기 위한 padding  메소드를 제공합니다.\n",
    "    # maxlen의 디폴트값은 None입니다. 이 경우 corpus의 가장 긴 문장을 기준으로 시퀀스 길이가 맞춰집니다.\n",
    "    tensor = tf.keras.preprocessing.sequence.pad_sequences(tensor, padding='post', maxlen=15)  \n",
    "#     tensor = np.delete(tensor, slice(13, -1), axis=1)\n",
    "    \n",
    "    print(tensor,tokenizer)\n",
    "    return tensor, tokenizer\n",
    "\n",
    "tensor, tokenizer = tokenize(corpus)"
   ]
  },
  {
   "cell_type": "code",
   "execution_count": 6,
   "metadata": {},
   "outputs": [
    {
     "data": {
      "text/plain": [
       "(175749, 15)"
      ]
     },
     "execution_count": 6,
     "metadata": {},
     "output_type": "execute_result"
    }
   ],
   "source": [
    "tensor.shape"
   ]
  },
  {
   "cell_type": "code",
   "execution_count": 7,
   "metadata": {},
   "outputs": [
    {
     "data": {
      "text/plain": [
       "27592"
      ]
     },
     "execution_count": 7,
     "metadata": {},
     "output_type": "execute_result"
    }
   ],
   "source": [
    "len(tokenizer.index_word)"
   ]
  },
  {
   "cell_type": "code",
   "execution_count": 8,
   "metadata": {},
   "outputs": [
    {
     "data": {
      "text/plain": [
       "True"
      ]
     },
     "execution_count": 8,
     "metadata": {},
     "output_type": "execute_result"
    }
   ],
   "source": [
    "'chorus' in tokenizer.index_word.values()"
   ]
  },
  {
   "cell_type": "code",
   "execution_count": 9,
   "metadata": {},
   "outputs": [
    {
     "name": "stdout",
     "output_type": "stream",
     "text": [
      "1 : <unk>\n",
      "2 : <start>\n",
      "3 : <end>\n",
      "4 : ,\n",
      "5 : i\n",
      "6 : the\n",
      "7 : you\n",
      "8 : and\n",
      "9 : a\n",
      "10 : to\n"
     ]
    }
   ],
   "source": [
    "for idx in tokenizer.index_word:\n",
    "    print(idx, \":\", tokenizer.index_word[idx])\n",
    "\n",
    "    if idx >= 10: break"
   ]
  },
  {
   "cell_type": "code",
   "execution_count": null,
   "metadata": {},
   "outputs": [],
   "source": []
  },
  {
   "cell_type": "markdown",
   "metadata": {},
   "source": [
    "## 평가 데이터셋 분리\n",
    "- 단어장의 크기를 12,000이상으로...? num_words를 말하는 건가"
   ]
  },
  {
   "cell_type": "code",
   "execution_count": 10,
   "metadata": {},
   "outputs": [],
   "source": [
    "from sklearn.model_selection import train_test_split"
   ]
  },
  {
   "cell_type": "code",
   "execution_count": 11,
   "metadata": {},
   "outputs": [],
   "source": [
    "train, test = train_test_split(tensor, test_size=0.2)"
   ]
  },
  {
   "cell_type": "code",
   "execution_count": 12,
   "metadata": {},
   "outputs": [
    {
     "data": {
      "text/plain": [
       "((140599, 15), (35150, 15))"
      ]
     },
     "execution_count": 12,
     "metadata": {},
     "output_type": "execute_result"
    }
   ],
   "source": [
    "train.shape, test.shape"
   ]
  },
  {
   "cell_type": "code",
   "execution_count": 13,
   "metadata": {},
   "outputs": [],
   "source": [
    "enc_train = train[:, :-1]\n",
    "dec_train = train[:, 1:]\n",
    "enc_val = test[:, :-1]\n",
    "dec_val = test[:, 1:]"
   ]
  },
  {
   "cell_type": "code",
   "execution_count": 14,
   "metadata": {},
   "outputs": [
    {
     "name": "stdout",
     "output_type": "stream",
     "text": [
      "Source Train: (140599, 14)\n",
      "Target Train: (140599, 14)\n"
     ]
    }
   ],
   "source": [
    "print(\"Source Train:\", enc_train.shape)\n",
    "print(\"Target Train:\", dec_train.shape)"
   ]
  },
  {
   "cell_type": "code",
   "execution_count": 15,
   "metadata": {},
   "outputs": [
    {
     "name": "stdout",
     "output_type": "stream",
     "text": [
      "[   2   13 1735  188    9 5406    3    0    0    0    0    0    0    0]\n",
      "[  13 1735  188    9 5406    3    0    0    0    0    0    0    0    0]\n"
     ]
    }
   ],
   "source": [
    "print(enc_train[0])\n",
    "print(dec_train[0])"
   ]
  },
  {
   "cell_type": "code",
   "execution_count": 16,
   "metadata": {},
   "outputs": [
    {
     "data": {
      "text/plain": [
       "<BatchDataset shapes: ((256, 14), (256, 14)), types: (tf.int32, tf.int32)>"
      ]
     },
     "execution_count": 16,
     "metadata": {},
     "output_type": "execute_result"
    }
   ],
   "source": [
    "BUFFER_SIZE = len(enc_train)\n",
    "BATCH_SIZE = 256\n",
    "steps_per_epoch = len(enc_train) // BATCH_SIZE\n",
    "\n",
    "VOCAB_SIZE = tokenizer.num_words + 1    # tokenizer가 구축한 단어사전 내 7000개와, 여기 포함되지 않은 0:<pad>를 포함하여 7001개\n",
    "\n",
    "dataset = tf.data.Dataset.from_tensor_slices((enc_train, dec_train)).shuffle(BUFFER_SIZE)\n",
    "dataset = dataset.batch(BATCH_SIZE, drop_remainder=True)\n",
    "dataset"
   ]
  },
  {
   "cell_type": "code",
   "execution_count": 17,
   "metadata": {},
   "outputs": [
    {
     "data": {
      "text/plain": [
       "<BatchDataset shapes: ((256, 14), (256, 14)), types: (tf.int32, tf.int32)>"
      ]
     },
     "execution_count": 17,
     "metadata": {},
     "output_type": "execute_result"
    }
   ],
   "source": [
    "valid_ds = tf.data.Dataset.from_tensor_slices((enc_val, dec_val)).shuffle(BUFFER_SIZE)\n",
    "valid_ds = valid_ds.batch(BATCH_SIZE, drop_remainder=True)\n",
    "valid_ds"
   ]
  },
  {
   "cell_type": "markdown",
   "metadata": {},
   "source": [
    "## 학습"
   ]
  },
  {
   "cell_type": "code",
   "execution_count": 18,
   "metadata": {},
   "outputs": [],
   "source": [
    "class TextGenerator(tf.keras.Model):\n",
    "    def __init__(self, vocab_size, embedding_size, hidden_size):\n",
    "        super(TextGenerator, self).__init__()\n",
    "        self.embedding = tf.keras.layers.Embedding(vocab_size, embedding_size)\n",
    "        self.rnn_1 = tf.keras.layers.LSTM(hidden_size, return_sequences=True)\n",
    "        self.batch_norm_1 = tf.keras.layers.BatchNormalization()\n",
    "        self.rnn_2 = tf.keras.layers.LSTM(hidden_size, return_sequences=True)\n",
    "        self.batch_norm_2 = tf.keras.layers.BatchNormalization()\n",
    "        self.linear = tf.keras.layers.Dense(vocab_size)\n",
    "        \n",
    "        \n",
    "    def call(self, x):\n",
    "        out = self.embedding(x)\n",
    "        out = self.rnn_1(out)\n",
    "        out = self.batch_norm_1(out)\n",
    "        out = self.rnn_2(out)\n",
    "        out = self.batch_norm_2(out)\n",
    "        out = self.linear(out)\n",
    "        \n",
    "        return out\n",
    "\n",
    "# 조절 ---------\n",
    "embedding_size = 2400\n",
    "hidden_size = 3000\n",
    "# --------------\n",
    "\n",
    "model = TextGenerator(tokenizer.num_words + 1, embedding_size , hidden_size)"
   ]
  },
  {
   "cell_type": "code",
   "execution_count": 19,
   "metadata": {},
   "outputs": [
    {
     "data": {
      "text/plain": [
       "<tf.Tensor: shape=(256, 14, 17001), dtype=float32, numpy=\n",
       "array([[[-9.01459192e-04, -1.72119966e-04, -7.69188511e-04, ...,\n",
       "          1.90191000e-04, -3.36569683e-05, -3.69233567e-05],\n",
       "        [-1.17572118e-03, -5.82913170e-04, -1.27777213e-03, ...,\n",
       "          1.85036861e-05, -2.30248581e-04,  3.80951184e-04],\n",
       "        [-2.00513168e-03, -3.33200063e-04, -1.22158765e-03, ...,\n",
       "         -4.48822946e-04, -3.46166693e-04,  3.59070546e-04],\n",
       "        ...,\n",
       "        [-1.13080686e-03,  6.36165147e-04, -6.28359802e-03, ...,\n",
       "          1.61068724e-03,  5.55038871e-03, -4.26885858e-03],\n",
       "        [-1.38767797e-03,  1.50411768e-04, -7.13498332e-03, ...,\n",
       "          1.32139202e-03,  5.92282601e-03, -5.07868826e-03],\n",
       "        [-1.63325644e-03, -3.79786128e-04, -7.81564042e-03, ...,\n",
       "          9.67674598e-04,  6.21154113e-03, -5.87901333e-03]],\n",
       "\n",
       "       [[-9.01459192e-04, -1.72119966e-04, -7.69188511e-04, ...,\n",
       "          1.90191000e-04, -3.36569683e-05, -3.69233567e-05],\n",
       "        [-1.44788087e-03,  4.50756779e-04, -4.18809941e-04, ...,\n",
       "          3.37760895e-04,  8.15413659e-04,  1.22784870e-04],\n",
       "        [-1.67428772e-03,  4.78951464e-04, -8.87020578e-05, ...,\n",
       "          1.34809129e-03,  1.16117462e-03,  8.38274602e-04],\n",
       "        ...,\n",
       "        [ 1.48907595e-03,  3.20133258e-04,  3.16185830e-03, ...,\n",
       "          1.45020499e-03, -1.67932143e-04,  5.01719210e-03],\n",
       "        [ 1.10868667e-03,  6.14278033e-05,  2.98901694e-03, ...,\n",
       "          1.88208104e-03,  4.50482185e-04,  5.36679290e-03],\n",
       "        [ 1.32958393e-03, -8.18295521e-05,  1.90433685e-03, ...,\n",
       "          2.29846104e-03,  3.91300709e-04,  5.42622572e-03]],\n",
       "\n",
       "       [[-9.01459192e-04, -1.72119966e-04, -7.69188511e-04, ...,\n",
       "          1.90191000e-04, -3.36569683e-05, -3.69233567e-05],\n",
       "        [-1.50715269e-03, -2.08598376e-05, -6.09288458e-04, ...,\n",
       "          1.82734875e-04,  3.20607884e-04,  7.30935193e-04],\n",
       "        [-1.77696417e-03,  3.13007440e-05, -1.74784072e-04, ...,\n",
       "         -3.18611070e-04,  6.62573846e-04,  1.01248268e-03],\n",
       "        ...,\n",
       "        [ 1.20827055e-03, -3.12589621e-03, -1.77367602e-03, ...,\n",
       "          1.43478985e-03,  7.29816020e-05, -2.56626983e-04],\n",
       "        [ 1.23126071e-03, -2.42939172e-03, -2.24276609e-03, ...,\n",
       "          1.80170650e-03,  8.28094722e-04, -3.88432585e-04],\n",
       "        [ 9.99267213e-04, -1.76087394e-03, -3.13204061e-03, ...,\n",
       "          2.11659074e-03,  1.73735246e-03, -8.79877654e-04]],\n",
       "\n",
       "       ...,\n",
       "\n",
       "       [[-9.01459192e-04, -1.72119966e-04, -7.69188511e-04, ...,\n",
       "          1.90191000e-04, -3.36569683e-05, -3.69233567e-05],\n",
       "        [-1.17292709e-03,  1.34026966e-04, -1.52032892e-03, ...,\n",
       "          2.73552694e-04, -2.45580857e-04, -1.54447844e-05],\n",
       "        [-1.13130454e-03,  4.70429193e-04, -1.34622701e-03, ...,\n",
       "          2.48554687e-04, -3.05000693e-04, -5.32823964e-04],\n",
       "        ...,\n",
       "        [-2.55343667e-03,  8.57155072e-04,  7.36550573e-05, ...,\n",
       "         -6.98478427e-04,  2.14601425e-03,  1.12652534e-03],\n",
       "        [-2.42967857e-03,  9.00934276e-04, -9.97205265e-04, ...,\n",
       "         -6.06909889e-05,  2.83356034e-03,  5.75791695e-04],\n",
       "        [-2.40237592e-03,  8.62452609e-04, -2.28081318e-03, ...,\n",
       "          4.32892237e-04,  3.58159281e-03, -1.98871159e-04]],\n",
       "\n",
       "       [[-9.01459192e-04, -1.72119966e-04, -7.69188511e-04, ...,\n",
       "          1.90191000e-04, -3.36569683e-05, -3.69233567e-05],\n",
       "        [-1.44169270e-03,  4.03281811e-05, -8.28763703e-04, ...,\n",
       "          5.12909028e-04,  4.45934216e-04, -1.94674561e-04],\n",
       "        [-1.54083979e-03, -6.92389585e-05,  1.98810667e-04, ...,\n",
       "          3.90823960e-04,  9.00717452e-04,  2.59676686e-04],\n",
       "        ...,\n",
       "        [ 8.85779504e-04,  4.01865109e-04, -2.12498955e-04, ...,\n",
       "          3.08268191e-03,  4.41947894e-04,  1.77000649e-04],\n",
       "        [ 7.08283740e-04,  8.64114205e-04, -1.19536323e-03, ...,\n",
       "          3.04508628e-03,  1.14675006e-03, -5.17245673e-04],\n",
       "        [ 3.49231181e-04,  1.15289469e-03, -2.38712225e-03, ...,\n",
       "          2.86380388e-03,  1.97390467e-03, -1.37507613e-03]],\n",
       "\n",
       "       [[-9.01459192e-04, -1.72119966e-04, -7.69188511e-04, ...,\n",
       "          1.90191000e-04, -3.36569683e-05, -3.69233567e-05],\n",
       "        [-1.52730395e-03,  5.61677502e-04, -9.57281445e-04, ...,\n",
       "          4.05467115e-04,  1.12544825e-04,  4.66042593e-06],\n",
       "        [-1.36672403e-03,  9.58658406e-04, -1.37731980e-03, ...,\n",
       "          7.52295076e-04, -3.57052282e-04,  2.15297128e-04],\n",
       "        ...,\n",
       "        [-6.11616822e-04,  8.94175784e-04, -4.04578401e-03, ...,\n",
       "          1.41547306e-03,  3.10705788e-03, -3.72769614e-03],\n",
       "        [-1.05909340e-03,  6.46624074e-04, -5.09593124e-03, ...,\n",
       "          1.22375961e-03,  3.87878437e-03, -4.66771843e-03],\n",
       "        [-1.46191206e-03,  2.79444415e-04, -5.99619793e-03, ...,\n",
       "          9.35751363e-04,  4.54250071e-03, -5.57500497e-03]]],\n",
       "      dtype=float32)>"
      ]
     },
     "execution_count": 19,
     "metadata": {},
     "output_type": "execute_result"
    }
   ],
   "source": [
    "for src_sample, tgt_sample in dataset.take(1): break\n",
    "model(src_sample)"
   ]
  },
  {
   "cell_type": "code",
   "execution_count": 20,
   "metadata": {},
   "outputs": [
    {
     "name": "stdout",
     "output_type": "stream",
     "text": [
      "Model: \"text_generator\"\n",
      "_________________________________________________________________\n",
      "Layer (type)                 Output Shape              Param #   \n",
      "=================================================================\n",
      "embedding (Embedding)        multiple                  40802400  \n",
      "_________________________________________________________________\n",
      "lstm (LSTM)                  multiple                  64812000  \n",
      "_________________________________________________________________\n",
      "batch_normalization (BatchNo multiple                  12000     \n",
      "_________________________________________________________________\n",
      "lstm_1 (LSTM)                multiple                  72012000  \n",
      "_________________________________________________________________\n",
      "batch_normalization_1 (Batch multiple                  12000     \n",
      "_________________________________________________________________\n",
      "dense (Dense)                multiple                  51020001  \n",
      "=================================================================\n",
      "Total params: 228,670,401\n",
      "Trainable params: 228,658,401\n",
      "Non-trainable params: 12,000\n",
      "_________________________________________________________________\n"
     ]
    }
   ],
   "source": [
    "model.summary()"
   ]
  },
  {
   "cell_type": "code",
   "execution_count": 21,
   "metadata": {},
   "outputs": [
    {
     "name": "stdout",
     "output_type": "stream",
     "text": [
      "Epoch 1/10\n",
      "549/549 [==============================] - 608s 1s/step - loss: 3.2213 - val_loss: 4.7352\n",
      "Epoch 2/10\n",
      "549/549 [==============================] - 610s 1s/step - loss: 2.6056 - val_loss: 2.6256\n",
      "Epoch 3/10\n",
      "549/549 [==============================] - 719s 1s/step - loss: 2.2506 - val_loss: 2.4785\n",
      "Epoch 4/10\n",
      "549/549 [==============================] - 615s 1s/step - loss: 1.9572 - val_loss: 2.3703\n",
      "Epoch 5/10\n",
      "549/549 [==============================] - 614s 1s/step - loss: 1.7065 - val_loss: 2.3059\n",
      "Epoch 6/10\n",
      "549/549 [==============================] - 615s 1s/step - loss: 1.4972 - val_loss: 2.2645\n",
      "Epoch 7/10\n",
      "549/549 [==============================] - 615s 1s/step - loss: 1.3268 - val_loss: 2.2394\n",
      "Epoch 8/10\n",
      "549/549 [==============================] - 620s 1s/step - loss: 1.1937 - val_loss: 2.2278\n",
      "Epoch 9/10\n",
      "549/549 [==============================] - 615s 1s/step - loss: 1.0941 - val_loss: 2.2520\n",
      "Epoch 10/10\n",
      "549/549 [==============================] - 615s 1s/step - loss: 1.0257 - val_loss: 2.2643\n"
     ]
    },
    {
     "data": {
      "text/plain": [
       "<tensorflow.python.keras.callbacks.History at 0x7f045d09e890>"
      ]
     },
     "execution_count": 21,
     "metadata": {},
     "output_type": "execute_result"
    }
   ],
   "source": [
    "optimizer = tf.keras.optimizers.Adam(learning_rate=0.0001)\n",
    "loss = tf.keras.losses.SparseCategoricalCrossentropy(\n",
    "    from_logits=True,\n",
    "    reduction='none'\n",
    ")\n",
    "\n",
    "model.compile(loss=loss, optimizer=optimizer)\n",
    "model.fit(dataset, validation_data=valid_ds, epochs=10)"
   ]
  },
  {
   "cell_type": "code",
   "execution_count": 22,
   "metadata": {},
   "outputs": [],
   "source": [
    "def generate_text(model, tokenizer, init_sentence=\"<start>\", max_len=20):\n",
    "    # 테스트를 위해서 입력받은 init_sentence도 일단 텐서로 변환합니다.\n",
    "    test_input = tokenizer.texts_to_sequences([init_sentence])\n",
    "    test_tensor = tf.convert_to_tensor(test_input, dtype=tf.int64)\n",
    "    end_token = tokenizer.word_index[\"<end>\"]\n",
    "\n",
    "    # 텍스트를 실제로 생성할때는 루프를 돌면서 단어 하나씩 생성해야 합니다. \n",
    "    while True:\n",
    "        predict = model(test_tensor)  # 입력받은 문장의 텐서를 입력합니다. \n",
    "        predict_word = tf.argmax(tf.nn.softmax(predict, axis=-1), axis=-1)[:, -1]   # 우리 모델이 예측한 마지막 단어가 바로 새롭게 생성한 단어가 됩니다. 어우\n",
    "\n",
    "        # 우리 모델이 새롭게 예측한 단어를 입력 문장의 뒤에 붙여 줍니다. \n",
    "        test_tensor = tf.concat([test_tensor, \n",
    "\t\t\t\t\t\t\t\t\t\t\t\t\t\t\t\t tf.expand_dims(predict_word, axis=0)], axis=-1)\n",
    "\n",
    "        # 우리 모델이 <END>를 예측했거나, max_len에 도달하지 않았다면  while 루프를 또 돌면서 다음 단어를 예측해야 합니다.\n",
    "        if predict_word.numpy()[0] == end_token: break\n",
    "        if test_tensor.shape[1] >= max_len: break\n",
    "\n",
    "    generated = \"\"\n",
    "    # 생성된 tensor 안에 있는 word index를 tokenizer.index_word 사전을 통해 실제 단어로 하나씩 변환합니다. \n",
    "    for word_index in test_tensor[0].numpy():\n",
    "        generated += tokenizer.index_word[word_index] + \" \"\n",
    "\n",
    "    return generated   # 이것이 최종적으로 모델이 생성한 자연어 문장입니다."
   ]
  },
  {
   "cell_type": "code",
   "execution_count": 25,
   "metadata": {},
   "outputs": [
    {
     "data": {
      "text/plain": [
       "'<start> love me like you do <end> '"
      ]
     },
     "execution_count": 25,
     "metadata": {},
     "output_type": "execute_result"
    }
   ],
   "source": [
    "generate_text(model, tokenizer, init_sentence=\"<start> love\", max_len=20)"
   ]
  },
  {
   "cell_type": "code",
   "execution_count": 26,
   "metadata": {},
   "outputs": [
    {
     "data": {
      "text/plain": [
       "'<start> i love you , <end> '"
      ]
     },
     "execution_count": 26,
     "metadata": {},
     "output_type": "execute_result"
    }
   ],
   "source": [
    "generate_text(model, tokenizer, init_sentence=\"<start> i love\", max_len=20)"
   ]
  },
  {
   "cell_type": "markdown",
   "metadata": {},
   "source": [
    "## 가사 생성\n",
    "\n",
    "- 가사 데이터를 학습\n",
    "- (LSTM - BatchNormalization) X 2\n",
    "\n",
    "###  목표 Loss (2.2 이하, epoch = 10 고정)\n",
    "\n",
    "---\n",
    "\n",
    "1. 20.09.09 : **2.2278**\n",
    "\n",
    "   - 하이퍼 파라미터\n",
    "\n",
    "     ```python\n",
    "     num_words = 17000\n",
    "     BATCH_SIZE = 256\n",
    "     embedding_size = 2400\n",
    "     hidden_size = 3000\n",
    "     learning_rate = 0.0001\n",
    "     ```\n",
    "\n",
    "   - 파라미터수 (2억 2천8백만...)\n",
    "   \n",
    "       ![image](https://user-images.githubusercontent.com/48716219/92634317-11fbe000-f30f-11ea-9b96-a23c43369498.png)\n",
    "\n",
    "   - 학습 진행\n",
    "\n",
    "     ![image](https://user-images.githubusercontent.com/48716219/92634558-70c15980-f30f-11ea-814b-398f2cdbec93.png)"
   ]
  },
  {
   "cell_type": "code",
   "execution_count": null,
   "metadata": {},
   "outputs": [],
   "source": []
  }
 ],
 "metadata": {
  "kernelspec": {
   "display_name": "aiffel",
   "language": "python",
   "name": "aiffel"
  },
  "language_info": {
   "codemirror_mode": {
    "name": "ipython",
    "version": 3
   },
   "file_extension": ".py",
   "mimetype": "text/x-python",
   "name": "python",
   "nbconvert_exporter": "python",
   "pygments_lexer": "ipython3",
   "version": "3.7.9"
  },
  "toc": {
   "base_numbering": 1,
   "nav_menu": {},
   "number_sections": true,
   "sideBar": true,
   "skip_h1_title": false,
   "title_cell": "Table of Contents",
   "title_sidebar": "Contents",
   "toc_cell": false,
   "toc_position": {},
   "toc_section_display": true,
   "toc_window_display": false
  }
 },
 "nbformat": 4,
 "nbformat_minor": 4
}
