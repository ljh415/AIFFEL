{
 "cells": [
  {
   "cell_type": "markdown",
   "metadata": {},
   "source": [
    "## 라이브러리 import"
   ]
  },
  {
   "cell_type": "code",
   "execution_count": 14,
   "metadata": {},
   "outputs": [],
   "source": [
    "import os\n",
    "from glob import glob\n",
    "import shutil\n",
    "from tqdm.notebook import tqdm"
   ]
  },
  {
   "cell_type": "code",
   "execution_count": 4,
   "metadata": {},
   "outputs": [
    {
     "data": {
      "text/plain": [
       "['scissors-samples.zip',\n",
       " 'rock-samples.zip',\n",
       " 'paper',\n",
       " 'scissor',\n",
       " 'rock',\n",
       " 'paper-samples.zip']"
      ]
     },
     "execution_count": 4,
     "metadata": {},
     "output_type": "execute_result"
    }
   ],
   "source": [
    "os.listdir('aiffel/rock_scissor_paper/')"
   ]
  },
  {
   "cell_type": "markdown",
   "metadata": {},
   "source": [
    "## 저장시킬 경로"
   ]
  },
  {
   "cell_type": "code",
   "execution_count": 5,
   "metadata": {},
   "outputs": [],
   "source": [
    "target_sci_path = 'aiffel/rock_scissor_paper/scissor/'\n",
    "target_rock_path = 'aiffel/rock_scissor_paper/rock/'\n",
    "target_papaer_path = 'aiffel/rock_scissor_paper/paper/'"
   ]
  },
  {
   "cell_type": "code",
   "execution_count": 7,
   "metadata": {},
   "outputs": [
    {
     "data": {
      "text/plain": [
       "100"
      ]
     },
     "execution_count": 7,
     "metadata": {},
     "output_type": "execute_result"
    }
   ],
   "source": [
    "start_idx = len(glob('aiffel/rock_scissor_paper/scissor/*.jpg'))\n",
    "start_idx"
   ]
  },
  {
   "cell_type": "markdown",
   "metadata": {},
   "source": [
    "## 옮겨야할 파일들의 경로"
   ]
  },
  {
   "cell_type": "code",
   "execution_count": 29,
   "metadata": {
    "scrolled": true
   },
   "outputs": [
    {
     "data": {
      "text/plain": [
       "(419, 332, 390)"
      ]
     },
     "execution_count": 29,
     "metadata": {},
     "output_type": "execute_result"
    }
   ],
   "source": [
    "first_papaers = glob('Documents/Exploration/1/rock_scissor_paper/paper/*.jpg')\n",
    "first_scissors = glob('Documents/Exploration/1/rock_scissor_paper/scissor/*.jpg')\n",
    "first_rock = glob('Documents/Exploration/1/rock_scissor_paper/rock/*.jpg')\n",
    "second_papaers = glob('Documents/Exploration/1/rock_scissor_paper_2/paper/*jpg')\n",
    "second_scissors = glob('Documents/Exploration/1/rock_scissor_paper_2/scissor/*jpg')\n",
    "second_rock = glob('Documents/Exploration/1/rock_scissor_paper_2/rock/*jpg')\n",
    "pp = glob('Documents/Exploration/1/kim/rock_scissor_paper/paper/*.jpg')\n",
    "ss = glob('Documents/Exploration/1/kim/rock_scissor_paper/scissor/*.jpg')\n",
    "rr =glob('Documents/Exploration/1/kim/rock_scissor_paper/rock/*.jpg')\n",
    "\n",
    "first_papaers"
   ]
  },
  {
   "cell_type": "markdown",
   "metadata": {},
   "source": [
    "## 파일 옮기기"
   ]
  },
  {
   "cell_type": "markdown",
   "metadata": {},
   "source": [
    "- ```shutil.move``` 를 사용해서 target_path의 경로로 파일을 rename하면서 이동시킨다\n",
    "- ```tqdm``` 은 진행도를 확인하기 위해서 사용"
   ]
  },
  {
   "cell_type": "code",
   "execution_count": 15,
   "metadata": {},
   "outputs": [
    {
     "data": {
      "application/vnd.jupyter.widget-view+json": {
       "model_id": "e6aa42423edf479186fd40c09d158bc2",
       "version_major": 2,
       "version_minor": 0
      },
      "text/plain": [
       "HBox(children=(FloatProgress(value=0.0), HTML(value='')))"
      ]
     },
     "metadata": {},
     "output_type": "display_data"
    },
    {
     "name": "stdout",
     "output_type": "stream",
     "text": [
      "\n"
     ]
    }
   ],
   "source": [
    "for i in tqdm(range(len(first_papaers))) :\n",
    "    file_name = str(i+len(glob('aiffel/rock_scissor_paper/paper/*.jpg'))) + \".jpg\"\n",
    "    shutil.move(first_papaers[i], target_papaer_path+file_name)"
   ]
  },
  {
   "cell_type": "code",
   "execution_count": 16,
   "metadata": {},
   "outputs": [
    {
     "data": {
      "application/vnd.jupyter.widget-view+json": {
       "model_id": "82474207c55d40619b7e996cfd2cbea3",
       "version_major": 2,
       "version_minor": 0
      },
      "text/plain": [
       "HBox(children=(FloatProgress(value=0.0), HTML(value='')))"
      ]
     },
     "metadata": {},
     "output_type": "display_data"
    },
    {
     "name": "stdout",
     "output_type": "stream",
     "text": [
      "\n"
     ]
    }
   ],
   "source": [
    "start_idx = len(glob('aiffel/rock_scissor_paper/scissor/*.jpg'))\n",
    "for i in tqdm(range(len(first_scissors))) :\n",
    "    file_name = str(i+start_idx) + \".jpg\"\n",
    "    shutil.move(first_scissors[i], target_sci_path+file_name)"
   ]
  },
  {
   "cell_type": "code",
   "execution_count": 17,
   "metadata": {},
   "outputs": [
    {
     "data": {
      "application/vnd.jupyter.widget-view+json": {
       "model_id": "a3cd75bd080a4953a7d395b088cc040b",
       "version_major": 2,
       "version_minor": 0
      },
      "text/plain": [
       "HBox(children=(FloatProgress(value=0.0), HTML(value='')))"
      ]
     },
     "metadata": {},
     "output_type": "display_data"
    },
    {
     "name": "stdout",
     "output_type": "stream",
     "text": [
      "\n"
     ]
    }
   ],
   "source": [
    "start_idx = len(glob('aiffel/rock_scissor_paper/rock/*.jpg'))\n",
    "for i in tqdm(range(len(first_rock))) :\n",
    "    file_name = str(i+start_idx) + \".jpg\"\n",
    "    shutil.move(first_rock[i], target_rock_path+file_name)"
   ]
  },
  {
   "cell_type": "markdown",
   "metadata": {},
   "source": [
    "## second"
   ]
  },
  {
   "cell_type": "code",
   "execution_count": 24,
   "metadata": {
    "collapsed": true
   },
   "outputs": [
    {
     "data": {
      "text/plain": [
       "['Documents/Exploration/1/rock_scissor_paper_2/paper/82.jpg',\n",
       " 'Documents/Exploration/1/rock_scissor_paper_2/paper/74.jpg',\n",
       " 'Documents/Exploration/1/rock_scissor_paper_2/paper/79.jpg',\n",
       " 'Documents/Exploration/1/rock_scissor_paper_2/paper/18.jpg',\n",
       " 'Documents/Exploration/1/rock_scissor_paper_2/paper/17.jpg',\n",
       " 'Documents/Exploration/1/rock_scissor_paper_2/paper/59.jpg',\n",
       " 'Documents/Exploration/1/rock_scissor_paper_2/paper/71.jpg',\n",
       " 'Documents/Exploration/1/rock_scissor_paper_2/paper/35.jpg',\n",
       " 'Documents/Exploration/1/rock_scissor_paper_2/paper/96.jpg',\n",
       " 'Documents/Exploration/1/rock_scissor_paper_2/paper/92.jpg',\n",
       " 'Documents/Exploration/1/rock_scissor_paper_2/paper/99.jpg',\n",
       " 'Documents/Exploration/1/rock_scissor_paper_2/paper/24.jpg',\n",
       " 'Documents/Exploration/1/rock_scissor_paper_2/paper/42.jpg',\n",
       " 'Documents/Exploration/1/rock_scissor_paper_2/paper/60.jpg',\n",
       " 'Documents/Exploration/1/rock_scissor_paper_2/paper/93.jpg',\n",
       " 'Documents/Exploration/1/rock_scissor_paper_2/paper/69.jpg',\n",
       " 'Documents/Exploration/1/rock_scissor_paper_2/paper/41.jpg',\n",
       " 'Documents/Exploration/1/rock_scissor_paper_2/paper/94.jpg',\n",
       " 'Documents/Exploration/1/rock_scissor_paper_2/paper/16.jpg',\n",
       " 'Documents/Exploration/1/rock_scissor_paper_2/paper/36.jpg',\n",
       " 'Documents/Exploration/1/rock_scissor_paper_2/paper/15.jpg',\n",
       " 'Documents/Exploration/1/rock_scissor_paper_2/paper/4.jpg',\n",
       " 'Documents/Exploration/1/rock_scissor_paper_2/paper/78.jpg',\n",
       " 'Documents/Exploration/1/rock_scissor_paper_2/paper/11.jpg',\n",
       " 'Documents/Exploration/1/rock_scissor_paper_2/paper/84.jpg',\n",
       " 'Documents/Exploration/1/rock_scissor_paper_2/paper/72.jpg',\n",
       " 'Documents/Exploration/1/rock_scissor_paper_2/paper/75.jpg',\n",
       " 'Documents/Exploration/1/rock_scissor_paper_2/paper/30.jpg',\n",
       " 'Documents/Exploration/1/rock_scissor_paper_2/paper/70.jpg',\n",
       " 'Documents/Exploration/1/rock_scissor_paper_2/paper/44.jpg',\n",
       " 'Documents/Exploration/1/rock_scissor_paper_2/paper/58.jpg',\n",
       " 'Documents/Exploration/1/rock_scissor_paper_2/paper/57.jpg',\n",
       " 'Documents/Exploration/1/rock_scissor_paper_2/paper/81.jpg',\n",
       " 'Documents/Exploration/1/rock_scissor_paper_2/paper/12.jpg',\n",
       " 'Documents/Exploration/1/rock_scissor_paper_2/paper/29.jpg',\n",
       " 'Documents/Exploration/1/rock_scissor_paper_2/paper/49.jpg',\n",
       " 'Documents/Exploration/1/rock_scissor_paper_2/paper/97.jpg',\n",
       " 'Documents/Exploration/1/rock_scissor_paper_2/paper/89.jpg',\n",
       " 'Documents/Exploration/1/rock_scissor_paper_2/paper/55.jpg',\n",
       " 'Documents/Exploration/1/rock_scissor_paper_2/paper/5.jpg',\n",
       " 'Documents/Exploration/1/rock_scissor_paper_2/paper/51.jpg',\n",
       " 'Documents/Exploration/1/rock_scissor_paper_2/paper/80.jpg',\n",
       " 'Documents/Exploration/1/rock_scissor_paper_2/paper/25.jpg',\n",
       " 'Documents/Exploration/1/rock_scissor_paper_2/paper/98.jpg',\n",
       " 'Documents/Exploration/1/rock_scissor_paper_2/paper/22.jpg',\n",
       " 'Documents/Exploration/1/rock_scissor_paper_2/paper/26.jpg',\n",
       " 'Documents/Exploration/1/rock_scissor_paper_2/paper/43.jpg',\n",
       " 'Documents/Exploration/1/rock_scissor_paper_2/paper/83.jpg',\n",
       " 'Documents/Exploration/1/rock_scissor_paper_2/paper/54.jpg',\n",
       " 'Documents/Exploration/1/rock_scissor_paper_2/paper/31.jpg',\n",
       " 'Documents/Exploration/1/rock_scissor_paper_2/paper/46.jpg',\n",
       " 'Documents/Exploration/1/rock_scissor_paper_2/paper/67.jpg',\n",
       " 'Documents/Exploration/1/rock_scissor_paper_2/paper/85.jpg',\n",
       " 'Documents/Exploration/1/rock_scissor_paper_2/paper/37.jpg',\n",
       " 'Documents/Exploration/1/rock_scissor_paper_2/paper/23.jpg',\n",
       " 'Documents/Exploration/1/rock_scissor_paper_2/paper/27.jpg',\n",
       " 'Documents/Exploration/1/rock_scissor_paper_2/paper/65.jpg',\n",
       " 'Documents/Exploration/1/rock_scissor_paper_2/paper/62.jpg',\n",
       " 'Documents/Exploration/1/rock_scissor_paper_2/paper/39.jpg',\n",
       " 'Documents/Exploration/1/rock_scissor_paper_2/paper/13.jpg',\n",
       " 'Documents/Exploration/1/rock_scissor_paper_2/paper/73.jpg',\n",
       " 'Documents/Exploration/1/rock_scissor_paper_2/paper/48.jpg',\n",
       " 'Documents/Exploration/1/rock_scissor_paper_2/paper/77.jpg',\n",
       " 'Documents/Exploration/1/rock_scissor_paper_2/paper/9.jpg',\n",
       " 'Documents/Exploration/1/rock_scissor_paper_2/paper/88.jpg',\n",
       " 'Documents/Exploration/1/rock_scissor_paper_2/paper/1.jpg',\n",
       " 'Documents/Exploration/1/rock_scissor_paper_2/paper/61.jpg',\n",
       " 'Documents/Exploration/1/rock_scissor_paper_2/paper/91.jpg',\n",
       " 'Documents/Exploration/1/rock_scissor_paper_2/paper/28.jpg',\n",
       " 'Documents/Exploration/1/rock_scissor_paper_2/paper/20.jpg',\n",
       " 'Documents/Exploration/1/rock_scissor_paper_2/paper/53.jpg',\n",
       " 'Documents/Exploration/1/rock_scissor_paper_2/paper/38.jpg',\n",
       " 'Documents/Exploration/1/rock_scissor_paper_2/paper/21.jpg',\n",
       " 'Documents/Exploration/1/rock_scissor_paper_2/paper/50.jpg',\n",
       " 'Documents/Exploration/1/rock_scissor_paper_2/paper/32.jpg',\n",
       " 'Documents/Exploration/1/rock_scissor_paper_2/paper/6.jpg',\n",
       " 'Documents/Exploration/1/rock_scissor_paper_2/paper/3.jpg',\n",
       " 'Documents/Exploration/1/rock_scissor_paper_2/paper/47.jpg',\n",
       " 'Documents/Exploration/1/rock_scissor_paper_2/paper/45.jpg',\n",
       " 'Documents/Exploration/1/rock_scissor_paper_2/paper/33.jpg',\n",
       " 'Documents/Exploration/1/rock_scissor_paper_2/paper/87.jpg',\n",
       " 'Documents/Exploration/1/rock_scissor_paper_2/paper/7.jpg',\n",
       " 'Documents/Exploration/1/rock_scissor_paper_2/paper/2.jpg',\n",
       " 'Documents/Exploration/1/rock_scissor_paper_2/paper/34.jpg',\n",
       " 'Documents/Exploration/1/rock_scissor_paper_2/paper/40.jpg',\n",
       " 'Documents/Exploration/1/rock_scissor_paper_2/paper/66.jpg',\n",
       " 'Documents/Exploration/1/rock_scissor_paper_2/paper/56.jpg',\n",
       " 'Documents/Exploration/1/rock_scissor_paper_2/paper/64.jpg',\n",
       " 'Documents/Exploration/1/rock_scissor_paper_2/paper/90.jpg',\n",
       " 'Documents/Exploration/1/rock_scissor_paper_2/paper/52.jpg',\n",
       " 'Documents/Exploration/1/rock_scissor_paper_2/paper/95.jpg',\n",
       " 'Documents/Exploration/1/rock_scissor_paper_2/paper/14.jpg',\n",
       " 'Documents/Exploration/1/rock_scissor_paper_2/paper/10.jpg',\n",
       " 'Documents/Exploration/1/rock_scissor_paper_2/paper/86.jpg',\n",
       " 'Documents/Exploration/1/rock_scissor_paper_2/paper/0.jpg',\n",
       " 'Documents/Exploration/1/rock_scissor_paper_2/paper/63.jpg',\n",
       " 'Documents/Exploration/1/rock_scissor_paper_2/paper/19.jpg',\n",
       " 'Documents/Exploration/1/rock_scissor_paper_2/paper/68.jpg',\n",
       " 'Documents/Exploration/1/rock_scissor_paper_2/paper/8.jpg',\n",
       " 'Documents/Exploration/1/rock_scissor_paper_2/paper/76.jpg']"
      ]
     },
     "execution_count": 24,
     "metadata": {},
     "output_type": "execute_result"
    }
   ],
   "source": [
    "second_papaers"
   ]
  },
  {
   "cell_type": "code",
   "execution_count": 25,
   "metadata": {},
   "outputs": [
    {
     "data": {
      "application/vnd.jupyter.widget-view+json": {
       "model_id": "97356dd9d671485ea295b13456557627",
       "version_major": 2,
       "version_minor": 0
      },
      "text/plain": [
       "HBox(children=(FloatProgress(value=0.0), HTML(value='')))"
      ]
     },
     "metadata": {},
     "output_type": "display_data"
    },
    {
     "name": "stdout",
     "output_type": "stream",
     "text": [
      "\n"
     ]
    }
   ],
   "source": [
    "start_idx = len(glob('aiffel/rock_scissor_paper/paper/*.jpg'))\n",
    "for i in tqdm(range(len(second_papaers))) :\n",
    "    file_name = str(i+start_idx) + \".jpg\"\n",
    "    shutil.move(second_papaers[i], target_papaer_path+file_name)"
   ]
  },
  {
   "cell_type": "code",
   "execution_count": 26,
   "metadata": {},
   "outputs": [
    {
     "data": {
      "application/vnd.jupyter.widget-view+json": {
       "model_id": "e6b6da653d1943d5befe632b19592701",
       "version_major": 2,
       "version_minor": 0
      },
      "text/plain": [
       "HBox(children=(FloatProgress(value=0.0), HTML(value='')))"
      ]
     },
     "metadata": {},
     "output_type": "display_data"
    },
    {
     "name": "stdout",
     "output_type": "stream",
     "text": [
      "\n"
     ]
    }
   ],
   "source": [
    "start_idx = len(glob('aiffel/rock_scissor_paper/scissor/*.jpg'))\n",
    "for i in tqdm(range(len(second_scissors))) :\n",
    "    file_name = str(i+start_idx) + \".jpg\"\n",
    "    shutil.move(second_scissors[i], target_sci_path+file_name)"
   ]
  },
  {
   "cell_type": "code",
   "execution_count": 27,
   "metadata": {},
   "outputs": [
    {
     "data": {
      "application/vnd.jupyter.widget-view+json": {
       "model_id": "120f0f67731c408e83307e6f2a2a3002",
       "version_major": 2,
       "version_minor": 0
      },
      "text/plain": [
       "HBox(children=(FloatProgress(value=0.0), HTML(value='')))"
      ]
     },
     "metadata": {},
     "output_type": "display_data"
    },
    {
     "name": "stdout",
     "output_type": "stream",
     "text": [
      "\n"
     ]
    }
   ],
   "source": [
    "start_idx = len(glob('aiffel/rock_scissor_paper/rock/*.jpg'))\n",
    "for i in tqdm(range(len(second_rock))) :\n",
    "    file_name = str(i+start_idx) + \".jpg\"\n",
    "    shutil.move(second_rock[i], target_rock_path+file_name)"
   ]
  },
  {
   "cell_type": "markdown",
   "metadata": {},
   "source": [
    "## third"
   ]
  },
  {
   "cell_type": "code",
   "execution_count": 30,
   "metadata": {},
   "outputs": [
    {
     "data": {
      "application/vnd.jupyter.widget-view+json": {
       "model_id": "8e553105b6e04e718c2e6b19bb8cea33",
       "version_major": 2,
       "version_minor": 0
      },
      "text/plain": [
       "HBox(children=(FloatProgress(value=0.0, max=390.0), HTML(value='')))"
      ]
     },
     "metadata": {},
     "output_type": "display_data"
    },
    {
     "name": "stdout",
     "output_type": "stream",
     "text": [
      "\n"
     ]
    }
   ],
   "source": [
    "start_idx = len(glob('aiffel/rock_scissor_paper/rock/*.jpg'))\n",
    "for i in tqdm(range(len(rr))) :\n",
    "    file_name = str(i+start_idx) + \".jpg\"\n",
    "    shutil.move(rr[i], target_rock_path+file_name)"
   ]
  },
  {
   "cell_type": "code",
   "execution_count": 31,
   "metadata": {},
   "outputs": [
    {
     "data": {
      "application/vnd.jupyter.widget-view+json": {
       "model_id": "24f68da4fd7b41d0a86c0e06f0ebd595",
       "version_major": 2,
       "version_minor": 0
      },
      "text/plain": [
       "HBox(children=(FloatProgress(value=0.0, max=332.0), HTML(value='')))"
      ]
     },
     "metadata": {},
     "output_type": "display_data"
    },
    {
     "name": "stdout",
     "output_type": "stream",
     "text": [
      "\n"
     ]
    }
   ],
   "source": [
    "start_idx = len(glob('aiffel/rock_scissor_paper/scissor/*.jpg'))\n",
    "for i in tqdm(range(len(ss))) :\n",
    "    file_name = str(i+start_idx) + \".jpg\"\n",
    "    shutil.move(ss[i], target_sci_path+file_name)"
   ]
  },
  {
   "cell_type": "code",
   "execution_count": 32,
   "metadata": {},
   "outputs": [
    {
     "data": {
      "application/vnd.jupyter.widget-view+json": {
       "model_id": "f3758068841a4b51a0e1443d996a6136",
       "version_major": 2,
       "version_minor": 0
      },
      "text/plain": [
       "HBox(children=(FloatProgress(value=0.0, max=419.0), HTML(value='')))"
      ]
     },
     "metadata": {},
     "output_type": "display_data"
    },
    {
     "name": "stdout",
     "output_type": "stream",
     "text": [
      "\n"
     ]
    }
   ],
   "source": [
    "start_idx = len(glob('aiffel/rock_scissor_paper/paper/*.jpg'))\n",
    "for i in tqdm(range(len(pp))) :\n",
    "    file_name = str(i+start_idx) + \".jpg\"\n",
    "    shutil.move(pp[i], target_papaer_path+file_name)"
   ]
  },
  {
   "cell_type": "markdown",
   "metadata": {},
   "source": [
    "## 파일을 이동시킨 후 각 경로의 파일 갯수 확인"
   ]
  },
  {
   "cell_type": "code",
   "execution_count": 33,
   "metadata": {},
   "outputs": [
    {
     "name": "stdout",
     "output_type": "stream",
     "text": [
      "619 632 690 1941\n"
     ]
    }
   ],
   "source": [
    "paper_len = len(glob('aiffel/rock_scissor_paper/paper/*.jpg'))\n",
    "sci_len = len(glob('aiffel/rock_scissor_paper/scissor/*.jpg'))\n",
    "rock_len = len(glob('aiffel/rock_scissor_paper/rock/*.jpg'))\n",
    "\n",
    "print(paper_len, sci_len, rock_len, paper_len+sci_len+rock_len)"
   ]
  },
  {
   "cell_type": "code",
   "execution_count": null,
   "metadata": {},
   "outputs": [],
   "source": []
  }
 ],
 "metadata": {
  "kernelspec": {
   "display_name": "aiffel",
   "language": "python",
   "name": "aiffel"
  },
  "language_info": {
   "codemirror_mode": {
    "name": "ipython",
    "version": 3
   },
   "file_extension": ".py",
   "mimetype": "text/x-python",
   "name": "python",
   "nbconvert_exporter": "python",
   "pygments_lexer": "ipython3",
   "version": "3.7.6"
  }
 },
 "nbformat": 4,
 "nbformat_minor": 4
}
