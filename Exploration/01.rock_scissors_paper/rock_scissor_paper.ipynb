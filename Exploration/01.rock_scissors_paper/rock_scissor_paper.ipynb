{
 "cells": [
  {
   "cell_type": "markdown",
   "metadata": {},
   "source": [
    "# 가위바위보 판별기"
   ]
  },
  {
   "cell_type": "markdown",
   "metadata": {},
   "source": [
    "## 1. 라이브러리 import"
   ]
  },
  {
   "cell_type": "code",
   "execution_count": 277,
   "metadata": {},
   "outputs": [
    {
     "name": "stdout",
     "output_type": "stream",
     "text": [
      "Requirement already satisfied: pillow in ./anaconda3/lib/python3.7/site-packages (7.0.0)\n",
      "PIL 라이브러리 import 완료!\n"
     ]
    }
   ],
   "source": [
    "# PIL 라이브러리가 설치되어 있지 않다면 설치\n",
    "!pip install pillow   \n",
    "\n",
    "import numpy as np\n",
    "from PIL import Image\n",
    "import os, glob\n",
    "\n",
    "print(\"PIL 라이브러리 import 완료!\")"
   ]
  },
  {
   "cell_type": "markdown",
   "metadata": {},
   "source": [
    "## 2. Image Resize"
   ]
  },
  {
   "cell_type": "code",
   "execution_count": 278,
   "metadata": {},
   "outputs": [
    {
     "name": "stdout",
     "output_type": "stream",
     "text": [
      "이미지 디렉토리 경로:  /home/aiffel0042/aiffel/rock_scissor_paper/rock\n",
      "바위 이미지 resize 완료!\n"
     ]
    }
   ],
   "source": [
    "# 바위 이미지가 저장된 디렉토리 아래의 모든 jpg 파일을 읽어들여서\n",
    "image_dir_path = os.getenv(\"HOME\") + \"/aiffel/rock_scissor_paper/rock\"\n",
    "# 추가한 test셋\n",
    "# image_dir_path = os.getenv(\"HOME\") + \"/Documents/Exploration/1/test/rock\"\n",
    "print(\"이미지 디렉토리 경로: \", image_dir_path)\n",
    "\n",
    "images=glob.glob(image_dir_path + \"/*.jpg\")  \n",
    "\n",
    "# 파일마다 모두 28x28 사이즈로 바꾸어 저장합니다.\n",
    "target_size=(28,28)\n",
    "for img in images:\n",
    "    old_img=Image.open(img)\n",
    "    new_img=old_img.resize(target_size,Image.ANTIALIAS)\n",
    "    new_img.save(img,\"JPEG\")\n",
    "\n",
    "print(\"바위 이미지 resize 완료!\")"
   ]
  },
  {
   "cell_type": "code",
   "execution_count": 279,
   "metadata": {},
   "outputs": [
    {
     "name": "stdout",
     "output_type": "stream",
     "text": [
      "이미지 디렉토리 경로:  /home/aiffel0042/aiffel/rock_scissor_paper/scissor\n",
      "가위 이미지 resize 완료!\n"
     ]
    }
   ],
   "source": [
    "# 가위 이미지가 저장된 디렉토리 아래의 모든 jpg 파일을 읽어들여서\n",
    "image_dir_path = os.getenv(\"HOME\") + \"/aiffel/rock_scissor_paper/scissor\"\n",
    "# 추가한 test셋\n",
    "# image_dir_path = os.getenv(\"HOME\") + \"/Documents/Exploration/1/test/scissor\"\n",
    "print(\"이미지 디렉토리 경로: \", image_dir_path)\n",
    "\n",
    "images=glob.glob(image_dir_path + \"/*.jpg\")  \n",
    "\n",
    "# 파일마다 모두 28x28 사이즈로 바꾸어 저장합니다.\n",
    "target_size=(28,28)\n",
    "for img in images:\n",
    "    old_img=Image.open(img)\n",
    "    new_img=old_img.resize(target_size,Image.ANTIALIAS)\n",
    "    new_img.save(img,\"JPEG\")\n",
    "\n",
    "print(\"가위 이미지 resize 완료!\")"
   ]
  },
  {
   "cell_type": "code",
   "execution_count": 280,
   "metadata": {},
   "outputs": [
    {
     "name": "stdout",
     "output_type": "stream",
     "text": [
      "이미지 디렉토리 경로:  /home/aiffel0042/aiffel/rock_scissor_paper/paper\n",
      "보 이미지 resize 완료!\n"
     ]
    }
   ],
   "source": [
    "# 보 이미지가 저장된 디렉토리 아래의 모든 jpg 파일을 읽어들여서\n",
    "image_dir_path = os.getenv(\"HOME\") + \"/aiffel/rock_scissor_paper/paper\"\n",
    "# 추가한 test셋\n",
    "# image_dir_path = os.getenv(\"HOME\") + \"/Documents/Exploration/1/test/paper\"\n",
    "print(\"이미지 디렉토리 경로: \", image_dir_path)\n",
    "\n",
    "images=glob.glob(image_dir_path + \"/*.jpg\")  \n",
    "\n",
    "# 파일마다 모두 28x28 사이즈로 바꾸어 저장합니다.\n",
    "target_size=(28,28)\n",
    "for img in images:\n",
    "    old_img=Image.open(img)\n",
    "    new_img=old_img.resize(target_size,Image.ANTIALIAS)\n",
    "    new_img.save(img,\"JPEG\")\n",
    "\n",
    "print(\"보 이미지 resize 완료!\")"
   ]
  },
  {
   "cell_type": "markdown",
   "metadata": {},
   "source": [
    "## 3. Data Load"
   ]
  },
  {
   "cell_type": "code",
   "execution_count": 290,
   "metadata": {},
   "outputs": [
    {
     "name": "stdout",
     "output_type": "stream",
     "text": [
      "학습데이터(x_train)의 이미지 개수는 1941 입니다.\n",
      "x_train shape: (1941, 28, 28, 3)\n",
      "y_train shape: (1941,)\n"
     ]
    }
   ],
   "source": [
    "def load_data(img_path):\n",
    "    # 가위 : 0, 바위 : 1, 보 : 2\n",
    "    number_of_data=1941   # 가위바위보 이미지 개수 총합에 주의하세요.\n",
    "    img_size=28\n",
    "    color=3\n",
    "    #이미지 데이터와 라벨(가위 : 0, 바위 : 1, 보 : 2) 데이터를 담을 행렬(matrix) 영역을 생성합니다.\n",
    "    imgs=np.zeros(number_of_data*img_size*img_size*color,dtype=np.int32).reshape(number_of_data,img_size,img_size,color)\n",
    "    labels=np.zeros(number_of_data,dtype=np.int32)\n",
    "\n",
    "    idx=0\n",
    "    for file in glob.iglob(img_path+'/scissor/*.jpg'):\n",
    "        img = np.array(Image.open(file),dtype=np.int32)\n",
    "        imgs[idx,:,:,:]=img    # 데이터 영역에 이미지 행렬을 복사\n",
    "        labels[idx]=0   # 가위 : 0\n",
    "        idx=idx+1\n",
    "\n",
    "    for file in glob.iglob(img_path+'/rock/*.jpg'):\n",
    "        img = np.array(Image.open(file),dtype=np.int32)\n",
    "        imgs[idx,:,:,:]=img    # 데이터 영역에 이미지 행렬을 복사\n",
    "        labels[idx]=1   # 바위 : 1\n",
    "        idx=idx+1       \n",
    "    \n",
    "    for file in glob.iglob(img_path+'/paper/*.jpg'):\n",
    "        img = np.array(Image.open(file),dtype=np.int32)\n",
    "        imgs[idx,:,:,:]=img    # 데이터 영역에 이미지 행렬을 복사\n",
    "        labels[idx]=2   # 보 : 2\n",
    "        idx=idx+1\n",
    "        \n",
    "    print(\"학습데이터(x_train)의 이미지 개수는\",idx,\"입니다.\")\n",
    "    return imgs, labels\n",
    "\n",
    "image_dir_path = os.getenv(\"HOME\") + \"/aiffel/rock_scissor_paper\"\n",
    "(x_train, y_train)=load_data(image_dir_path)\n",
    "x_train_norm = x_train/255.0   # 입력은 0~1 사이의 값으로 정규화\n",
    "\n",
    "print(\"x_train shape: {}\".format(x_train.shape))\n",
    "print(\"y_train shape: {}\".format(y_train.shape))"
   ]
  },
  {
   "cell_type": "markdown",
   "metadata": {},
   "source": [
    "### Load한 데이터를 train data : 80%, validation_data : 10%, test_data : 10% 의 비율로 나누기\n",
    "- <b>이후에 test_data는 새로 생성</b>\n",
    "- total_x에는 정규화한 값을 저장"
   ]
  },
  {
   "cell_type": "code",
   "execution_count": 291,
   "metadata": {},
   "outputs": [],
   "source": [
    "total_x, total_y = x_train_norm, y_train\n",
    "leng_x, leng_y = len(total_x), len(total_y)\n",
    "x_train, x_valid, x_test= total_x[:int(leng_x*0.8)], total_x[int(leng_x*0.8):int(leng_x*0.9)], total_x[int(leng_x*0.9):]\n",
    "y_train, y_valid, y_test= total_y[:int(leng_y*0.8)], total_y[int(leng_y*0.8):int(leng_y*0.9)], total_y[int(leng_y*0.9):]"
   ]
  },
  {
   "cell_type": "markdown",
   "metadata": {},
   "source": [
    "### image, label 확인"
   ]
  },
  {
   "cell_type": "code",
   "execution_count": 292,
   "metadata": {
    "scrolled": true
   },
   "outputs": [
    {
     "name": "stdout",
     "output_type": "stream",
     "text": [
      "라벨:  0\n"
     ]
    },
    {
     "data": {
      "image/png": "[encoded data removed]",
      "text/plain": [
       "<Figure size 432x288 with 1 Axes>"
      ]
     },
     "metadata": {
      "needs_background": "light"
     },
     "output_type": "display_data"
    }
   ],
   "source": [
    "import matplotlib.pyplot as plt\n",
    "plt.imshow(x_train[0])\n",
    "print('라벨: ', y_train[0])"
   ]
  },
  {
   "cell_type": "markdown",
   "metadata": {},
   "source": [
    "## +. 추가 test데이터"
   ]
  },
  {
   "cell_type": "markdown",
   "metadata": {},
   "source": [
    "- 이전에 만든 test데이터에 대해서 값이 너무 크게 나왔음\n",
    "- 새로 rock, scissor, paper를 새로 300장을 촬영 후에 평가를 실행"
   ]
  },
  {
   "cell_type": "code",
   "execution_count": 311,
   "metadata": {},
   "outputs": [
    {
     "name": "stdout",
     "output_type": "stream",
     "text": [
      "학습데이터(x_test)의 이미지 개수는 300 입니다.\n",
      "x_test shape: (300, 28, 28, 3)\n",
      "y_test shape: (300,)\n"
     ]
    }
   ],
   "source": [
    "# x_test, y_test를 만드는 방법은 x_train, y_train을 만드는 방법과 아주 유사합니다.\n",
    "def load_data(img_path):\n",
    "    # 가위 : 0, 바위 : 1, 보 : 2\n",
    "    number_of_data=300   # 가위바위보 이미지 개수 총합에 주의하세요.\n",
    "    img_size=28\n",
    "    color=3\n",
    "    #이미지 데이터와 라벨(가위 : 0, 바위 : 1, 보 : 2) 데이터를 담을 행렬(matrix) 영역을 생성합니다.\n",
    "    imgs=np.zeros(number_of_data*img_size*img_size*color,dtype=np.int32).reshape(number_of_data,img_size,img_size,color)\n",
    "    labels=np.zeros(number_of_data,dtype=np.int32)\n",
    "\n",
    "    idx=0\n",
    "    for file in glob.iglob(img_path+'/scissor/*.jpg'):\n",
    "        img = np.array(Image.open(file),dtype=np.int32)\n",
    "        imgs[idx,:,:,:]=img    # 데이터 영역에 이미지 행렬을 복사\n",
    "        labels[idx]=0   # 가위 : 0\n",
    "        idx=idx+1\n",
    "\n",
    "    for file in glob.iglob(img_path+'/rock/*.jpg'):\n",
    "        img = np.array(Image.open(file),dtype=np.int32)\n",
    "        imgs[idx,:,:,:]=img    # 데이터 영역에 이미지 행렬을 복사\n",
    "        labels[idx]=1   # 바위 : 1\n",
    "        idx=idx+1\n",
    "    \n",
    "    for file in glob.iglob(img_path+'/paper/*.jpg'):\n",
    "        img = np.array(Image.open(file),dtype=np.int32)\n",
    "        imgs[idx,:,:,:]=img    # 데이터 영역에 이미지 행렬을 복사\n",
    "        labels[idx]=2   # 보 : 2\n",
    "        idx=idx+1\n",
    "        \n",
    "    print(\"학습데이터(x_test)의 이미지 개수는\",idx,\"입니다.\")\n",
    "    return imgs, labels\n",
    "\n",
    "image_dir_path = os.getenv(\"HOME\") + \"/Documents/Exploration/1/test\" #rock_scissor_paper\"\n",
    "(x_test, y_test)=load_data(image_dir_path)\n",
    "x_test = x_test/255.0   # 입력은 0~1 사이의 값으로 정규화\n",
    "\n",
    "print(\"x_test shape: {}\".format(x_test.shape))\n",
    "print(\"y_test shape: {}\".format(y_test.shape))"
   ]
  },
  {
   "cell_type": "code",
   "execution_count": null,
   "metadata": {},
   "outputs": [],
   "source": []
  },
  {
   "cell_type": "markdown",
   "metadata": {},
   "source": [
    "## 4. Model 설계"
   ]
  },
  {
   "cell_type": "markdown",
   "metadata": {},
   "source": [
    "- 추가한 내용\n",
    " - Dropout층 추가"
   ]
  },
  {
   "cell_type": "code",
   "execution_count": 396,
   "metadata": {},
   "outputs": [
    {
     "name": "stdout",
     "output_type": "stream",
     "text": [
      "Model: \"rcp_CNN\"\n",
      "_________________________________________________________________\n",
      "Layer (type)                 Output Shape              Param #   \n",
      "=================================================================\n",
      "input_layer (InputLayer)     [(None, 28, 28, 3)]       0         \n",
      "_________________________________________________________________\n",
      "conv2d_236 (Conv2D)          (None, 28, 28, 32)        896       \n",
      "_________________________________________________________________\n",
      "activation_441 (Activation)  (None, 28, 28, 32)        0         \n",
      "_________________________________________________________________\n",
      "max_pooling2d_172 (MaxPoolin (None, 14, 14, 32)        0         \n",
      "_________________________________________________________________\n",
      "dropout_271 (Dropout)        (None, 14, 14, 32)        0         \n",
      "_________________________________________________________________\n",
      "conv2d_237 (Conv2D)          (None, 14, 14, 64)        18496     \n",
      "_________________________________________________________________\n",
      "activation_442 (Activation)  (None, 14, 14, 64)        0         \n",
      "_________________________________________________________________\n",
      "max_pooling2d_173 (MaxPoolin (None, 7, 7, 64)          0         \n",
      "_________________________________________________________________\n",
      "dropout_272 (Dropout)        (None, 7, 7, 64)          0         \n",
      "_________________________________________________________________\n",
      "flatten_102 (Flatten)        (None, 3136)              0         \n",
      "_________________________________________________________________\n",
      "dense_204 (Dense)            (None, 128)               401536    \n",
      "_________________________________________________________________\n",
      "activation_443 (Activation)  (None, 128)               0         \n",
      "_________________________________________________________________\n",
      "dropout_273 (Dropout)        (None, 128)               0         \n",
      "_________________________________________________________________\n",
      "dense_205 (Dense)            (None, 3)                 387       \n",
      "_________________________________________________________________\n",
      "activation_444 (Activation)  (None, 3)                 0         \n",
      "=================================================================\n",
      "Total params: 421,315\n",
      "Trainable params: 421,315\n",
      "Non-trainable params: 0\n",
      "_________________________________________________________________\n"
     ]
    }
   ],
   "source": [
    "import tensorflow as tf\n",
    "from tensorflow import keras\n",
    "import numpy as np\n",
    "from tensorflow.keras import layers\n",
    "\n",
    "\n",
    "# model을 직접 만들어 보세요.\n",
    "# Hint! model의 입력/출력부에 특히 유의해 주세요. 가위바위보 데이터셋은 MNIST 데이터셋과 어떤 점이 달라졌나요?\n",
    "\n",
    "inputs = layers.Input((28, 28, 3), name = 'input_layer')\n",
    "\n",
    "# Feature Extraction\n",
    "net = layers.Conv2D(32, (3, 3), padding = 'SAME')(inputs)\n",
    "net = layers.Activation('relu')(net)\n",
    "net = layers.MaxPooling2D((2, 2))(net)\n",
    "net = layers.Dropout(0.5)(net)\n",
    "\n",
    "net = layers.Conv2D(64, (3, 3), padding = 'SAME')(net)\n",
    "net = layers.Activation('relu')(net)\n",
    "net = layers.MaxPooling2D((2, 2))(net)\n",
    "net = layers.Dropout(0.5)(net)\n",
    "\n",
    "# Classification\n",
    "net = layers.Flatten()(net)  \n",
    "net = layers.Dense(128)(net)\n",
    "net = layers.Activation('relu')(net)\n",
    "net = layers.Dropout(0.4)(net)\n",
    "net = layers.Dense(3)(net)  \n",
    "\n",
    "net = layers.Activation('softmax')(net)\n",
    "\n",
    "model = tf.keras.Model(inputs = inputs, outputs=net, name='rcp_CNN')\n",
    "# estimator = tf.keras.estimator.model_to_estimator(model)\n",
    "# 위에 처럼 만든 모델을 에스티메이터로 바꾸고 싶을때는 이렇게\n",
    "\n",
    "model.summary()"
   ]
  },
  {
   "cell_type": "markdown",
   "metadata": {},
   "source": [
    "## 5. model 학습"
   ]
  },
  {
   "cell_type": "code",
   "execution_count": 397,
   "metadata": {},
   "outputs": [
    {
     "name": "stdout",
     "output_type": "stream",
     "text": [
      "Epoch 1/15\n",
      "49/49 [==============================] - 0s 3ms/step - loss: 1.0523 - accuracy: 0.4240 - val_loss: 1.2164 - val_accuracy: 0.0000e+00\n",
      "Epoch 2/15\n",
      "49/49 [==============================] - 0s 2ms/step - loss: 0.9975 - accuracy: 0.4884 - val_loss: 1.2411 - val_accuracy: 0.0000e+00\n",
      "Epoch 3/15\n",
      "49/49 [==============================] - 0s 2ms/step - loss: 0.9150 - accuracy: 0.5715 - val_loss: 1.3329 - val_accuracy: 0.0000e+00\n",
      "Epoch 4/15\n",
      "49/49 [==============================] - 0s 2ms/step - loss: 0.7917 - accuracy: 0.6482 - val_loss: 1.1523 - val_accuracy: 0.0000e+00\n",
      "Epoch 5/15\n",
      "49/49 [==============================] - 0s 2ms/step - loss: 0.7308 - accuracy: 0.6830 - val_loss: 1.4207 - val_accuracy: 0.0000e+00\n",
      "Epoch 6/15\n",
      "49/49 [==============================] - 0s 2ms/step - loss: 0.6981 - accuracy: 0.6946 - val_loss: 1.2481 - val_accuracy: 0.0000e+00\n",
      "Epoch 7/15\n",
      "49/49 [==============================] - 0s 2ms/step - loss: 0.6227 - accuracy: 0.7139 - val_loss: 1.2733 - val_accuracy: 0.0000e+00\n",
      "Epoch 8/15\n",
      "49/49 [==============================] - 0s 2ms/step - loss: 0.6012 - accuracy: 0.7313 - val_loss: 1.1219 - val_accuracy: 0.1237\n",
      "Epoch 9/15\n",
      "49/49 [==============================] - 0s 2ms/step - loss: 0.5644 - accuracy: 0.7494 - val_loss: 1.1358 - val_accuracy: 0.1237\n",
      "Epoch 10/15\n",
      "49/49 [==============================] - 0s 2ms/step - loss: 0.5139 - accuracy: 0.7738 - val_loss: 1.1490 - val_accuracy: 0.1134\n",
      "Epoch 11/15\n",
      "49/49 [==============================] - 0s 2ms/step - loss: 0.4979 - accuracy: 0.7777 - val_loss: 1.1097 - val_accuracy: 0.2577\n",
      "Epoch 12/15\n",
      "49/49 [==============================] - 0s 2ms/step - loss: 0.4527 - accuracy: 0.8061 - val_loss: 0.9807 - val_accuracy: 0.4124\n",
      "Epoch 13/15\n",
      "49/49 [==============================] - 0s 2ms/step - loss: 0.4358 - accuracy: 0.8209 - val_loss: 0.9746 - val_accuracy: 0.3969\n",
      "Epoch 14/15\n",
      "49/49 [==============================] - 0s 2ms/step - loss: 0.4123 - accuracy: 0.8267 - val_loss: 0.8285 - val_accuracy: 0.5928\n",
      "Epoch 15/15\n",
      "49/49 [==============================] - 0s 2ms/step - loss: 0.3775 - accuracy: 0.8473 - val_loss: 0.6636 - val_accuracy: 0.7113\n"
     ]
    },
    {
     "data": {
      "text/plain": [
       "<tensorflow.python.keras.callbacks.History at 0x7f522bdc79d0>"
      ]
     },
     "execution_count": 397,
     "metadata": {},
     "output_type": "execute_result"
    }
   ],
   "source": [
    "# model을 학습시키는 코드를 직접 작성해 보세요.\n",
    "# Hint! model.compile()과 model.fit()을 사용해 봅시다.\n",
    "model.compile(optimizer='adam',\n",
    "             loss='sparse_categorical_crossentropy',\n",
    "             metrics=['accuracy'])\n",
    "\n",
    "# 모델 훈련\n",
    "model.fit(x_train,y_train, validation_data=(x_valid, y_valid), epochs=15)"
   ]
  },
  {
   "cell_type": "markdown",
   "metadata": {},
   "source": [
    "## 6. Model 평가"
   ]
  },
  {
   "cell_type": "code",
   "execution_count": 398,
   "metadata": {},
   "outputs": [
    {
     "name": "stdout",
     "output_type": "stream",
     "text": [
      "10/10 [==============================] - 0s 959us/step - loss: 0.9024 - accuracy: 0.6367\n"
     ]
    },
    {
     "data": {
      "text/plain": [
       "[0.9023663401603699, 0.6366666555404663]"
      ]
     },
     "execution_count": 398,
     "metadata": {},
     "output_type": "execute_result"
    }
   ],
   "source": [
    "model.evaluate(x_test, y_test)"
   ]
  },
  {
   "cell_type": "markdown",
   "metadata": {},
   "source": [
    "## 7. 예측 시각화"
   ]
  },
  {
   "cell_type": "markdown",
   "metadata": {},
   "source": [
    "- result_image_paths에 모든 이미지에 대한 경로들을 저장\n",
    "- np.random.randint를 사용해서 난수 생성\n",
    "- 랜덤하게 image를 불러와서 예측 후 결과 출력"
   ]
  },
  {
   "cell_type": "code",
   "execution_count": 274,
   "metadata": {},
   "outputs": [],
   "source": [
    "# 기존의 데이터셋\n",
    "# result_image_paths= glob.glob('aiffel/rock_scissor_paper/*/*.jpg')\n",
    "# 새로운 테스트 데이터셋\n",
    "result_image_paths= glob.glob('Documents/Exploration/1/test//*/*.jpg')"
   ]
  },
  {
   "cell_type": "code",
   "execution_count": 276,
   "metadata": {},
   "outputs": [
    {
     "data": {
      "image/png": "[encoded data removed]",
      "text/plain": [
       "<Figure size 1080x216 with 1 Axes>"
      ]
     },
     "metadata": {
      "needs_background": "light"
     },
     "output_type": "display_data"
    },
    {
     "data": {
      "image/png": "[encoded data removed]",
      "text/plain": [
       "<Figure size 1080x216 with 1 Axes>"
      ]
     },
     "metadata": {
      "needs_background": "light"
     },
     "output_type": "display_data"
    },
    {
     "data": {
      "image/png": "[encoded data removed]",
      "text/plain": [
       "<Figure size 1080x216 with 1 Axes>"
      ]
     },
     "metadata": {
      "needs_background": "light"
     },
     "output_type": "display_data"
    },
    {
     "data": {
      "image/png": "[encoded data removed]",
      "text/plain": [
       "<Figure size 1080x216 with 1 Axes>"
      ]
     },
     "metadata": {
      "needs_background": "light"
     },
     "output_type": "display_data"
    },
    {
     "data": {
      "image/png": "[encoded data removed]",
      "text/plain": [
       "<Figure size 1080x216 with 1 Axes>"
      ]
     },
     "metadata": {
      "needs_background": "light"
     },
     "output_type": "display_data"
    }
   ],
   "source": [
    "for i in range(5) :\n",
    "    # 랜덤 이미지\n",
    "    rand_img = result_image_paths[np.random.randint(len(result_image_paths))]\n",
    "    # image 열기\n",
    "    pil_image = tf.io.read_file(rand_img)\n",
    "    image = tf.io.decode_jpeg(pil_image)\n",
    "    # plot해주기 위해서 원본 사진 저장\n",
    "    origin_img = image\n",
    "    # model예측을 하기위해서 새로운 차원을 추가\n",
    "    image = image[tf.newaxis, ...]\n",
    "    # 사진 예측\n",
    "    pred = model.predict(image)\n",
    "    \n",
    "    # 시각화\n",
    "    plt.figure(figsize=(15, 3))\n",
    "    plt.imshow(origin_img)\n",
    "    # title에 각 값에 대한 '가위', '바위', '보' 출력\n",
    "    if np.argmax(pred[0]) == 0 :\n",
    "        predict = \"scissors\"\n",
    "    elif np.argmax(pred[0]) == 1 :\n",
    "        predict = \"rock\"\n",
    "    else :\n",
    "        predict = \"paper\"\n",
    "    plt.title(predict)\n",
    "    plt.show()"
   ]
  },
  {
   "cell_type": "markdown",
   "metadata": {},
   "source": [
    "## 정리\n",
    "- 기존의 Sequential 모델과는 다르게, 이전에 해보았던 Functional 모델을 활용\n",
    "- overfitting을 예방을 위해서\n",
    " - dropout과 정규화 수행\n",
    " - 다른 분들의 데이터를 종합해서 데이터의 수를 늘렸음"
   ]
  },
  {
   "cell_type": "code",
   "execution_count": null,
   "metadata": {},
   "outputs": [],
   "source": []
  }
 ],
 "metadata": {
  "kernelspec": {
   "display_name": "aiffel",
   "language": "python",
   "name": "aiffel"
  },
  "language_info": {
   "codemirror_mode": {
    "name": "ipython",
    "version": 3
   },
   "file_extension": ".py",
   "mimetype": "text/x-python",
   "name": "python",
   "nbconvert_exporter": "python",
   "pygments_lexer": "ipython3",
   "version": "3.7.9"
  }
 },
 "nbformat": 4,
 "nbformat_minor": 4
}
